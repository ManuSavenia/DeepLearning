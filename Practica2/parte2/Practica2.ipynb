{
 "cells": [
  {
   "cell_type": "code",
   "execution_count": 2,
   "id": "d29a9fad",
   "metadata": {},
   "outputs": [],
   "source": [
    "ColabNotebook = 'google.colab' in str(get_ipython())\n",
    "\n",
    "if ColabNotebook:\n",
    "    # monta G-drive en entorno COLAB\n",
    "    from google.colab import drive\n",
    "    drive.mount('/content/drive/')\n",
    "\n",
    "    # carpeta donde se encuentran archivos .py auxiliares\n",
    "    FUENTES_DIR = '/content/drive/MyDrive/Colab Notebooks/FUENTES/'\n",
    "    DATOS_DIR = '/content/drive/MyDrive/Colab Notebooks/DATOS/'      # carpeta donde se encuentran los datasets\n",
    "else:\n",
    "    # configuración para notebook con instalación LOCAL\n",
    "    FUENTES_DIR = '../../Fuentes'         # carpeta donde se encuentran archivos .py auxiliares\n",
    "    DATOS_DIR   = '../../Data_Sets/p2/' # carpeta donde se encuentran los datasets\n",
    "\n",
    "# agrega ruta de busqueda donde tenemos archivos .py\n",
    "import sys\n",
    "sys.path.append(FUENTES_DIR)\n",
    "\n",
    "%matplotlib inline\n",
    "import numpy as np\n",
    "import pandas as pd\n",
    "from matplotlib import pylab as plt\n",
    "from IPython import display\n",
    "from ClassPerceptron import Perceptron\n",
    "from sklearn import preprocessing\n",
    "import grafica as gr"
   ]
  },
  {
   "cell_type": "markdown",
   "id": "a25f6a5c",
   "metadata": {},
   "source": [
    "# Ejercicio 1"
   ]
  },
  {
   "cell_type": "code",
   "execution_count": 3,
   "id": "f454cf4c",
   "metadata": {},
   "outputs": [
    {
     "name": "stdout",
     "output_type": "stream",
     "text": [
      "['Año', 'Especie', 'Ala', 'Peso', 'Cola', 'Hallux']\n"
     ]
    }
   ],
   "source": [
    "data_hawks = pd.read_csv(DATOS_DIR + \"hawks.csv\",sep=\";\", encoding=\"latin1\")\n",
    "#quiero ver los tipos de datos que hay en cada columna\n",
    "data_hawks.dtypes\n",
    "print(data_hawks.columns.tolist())\n"
   ]
  },
  {
   "cell_type": "markdown",
   "id": "5fd7782c",
   "metadata": {},
   "source": [
    "## a) \n",
    " Calcule la correlación lineal entre los atributos Ala y Cola. Indique la intensidad de la correlación (no hay correlación/débil/fuerte) y el tipo (positiva/negativa)"
   ]
  },
  {
   "cell_type": "code",
   "execution_count": 4,
   "id": "04190608",
   "metadata": {},
   "outputs": [
    {
     "data": {
      "image/png": "[encoded data removed]",
      "text/plain": [
       "<Figure size 640x480 with 1 Axes>"
      ]
     },
     "metadata": {},
     "output_type": "display_data"
    },
    {
     "name": "stdout",
     "output_type": "stream",
     "text": [
      "Coeficiente de correlación: 0.8998883674343952\n"
     ]
    }
   ],
   "source": [
    "# Diagrama de dispersión Cola vs Ala\n",
    "plt.plot(data_hawks['Cola'], data_hawks['Ala'], 'ob')\n",
    "plt.xlabel('Cola')\n",
    "plt.ylabel('Ala')\n",
    "plt.title('Diagrama de dispersión')\n",
    "plt.show()\n",
    "\n",
    "# Correlación entre ambas\n",
    "correlacion1 = data_hawks['Cola'].corr(data_hawks['Ala'])\n",
    "print(\"Coeficiente de correlación:\", correlacion1)\n"
   ]
  },
  {
   "cell_type": "markdown",
   "id": "d4bc43f2",
   "metadata": {},
   "source": [
    "### Tiene coeficiente de correlacion positivo de tipo fuerte"
   ]
  },
  {
   "cell_type": "markdown",
   "id": "90f384e0",
   "metadata": {},
   "source": [
    "## b)\n",
    "Complete el cuadro con los valores del atributo Hallux antes y después de normalizarlos utilizando media y desvío.\n",
    "\n",
    "| **Medida** | **Sin Normalizar** | **Normalizado** |\n",
    "|:----------:|:------------------:|:---------------:|\n",
    "|   Máximo   |                    |                 |\n",
    "|     Q1     |                    |                 |\n",
    "|   Mínimo   |                    |                 |\n",
    "|       Q2        |         | \n",
    "|       Q3        |         |     |\n",
    "|       RIC       |         |   |\n",
    "| Bigote Inferior |         |   |\n",
    "| Bigote Superior |         |  |"
   ]
  },
  {
   "cell_type": "code",
   "execution_count": 5,
   "id": "d9bd460a",
   "metadata": {},
   "outputs": [
    {
     "name": "stdout",
     "output_type": "stream",
     "text": [
      "Valor máximo sin normalizar: 3414\n",
      "Valor máximo normalizado: 9.716759278095767\n",
      "Valor mínimo sin normalizar: 95\n",
      "Valor mínimo normalizado: -0.6123773075584721\n",
      "Q1 sin normalizar:  152.0\n",
      "Q1 normalizado:  -0.43498629057073734\n",
      "Q2 sin normalizar:  295.0\n",
      "Q2 normalizado:  0.01004731345112351\n",
      "Q3 sin normalizar:  315.0\n",
      "Q3 normalizado:  0.07228977555208307\n",
      "RIC sin normalizar:  163.0\n",
      "RIC normalizado:  0.5072760661228204\n",
      "Bigote superior sin normalizar:  559.5\n",
      "Bigote superior normalizado:  0.8332038747363136\n",
      "Bigote inferior sin normalizar:  -92.5\n",
      "Bigote inferior normalizado:  -1.1959003897549678\n"
     ]
    }
   ],
   "source": [
    "NormalizedData_hawks = (data_hawks['Hallux'] - data_hawks['Hallux'].mean()) / data_hawks['Hallux'].std()\n",
    "normal_max = data_hawks.max()\n",
    "normalized_max = NormalizedData_hawks.max()\n",
    "print(\"Valor máximo sin normalizar:\", normal_max['Hallux'])\n",
    "print(\"Valor máximo normalizado:\", normalized_max)\n",
    "normalized_min = NormalizedData_hawks.min()\n",
    "normal_min = data_hawks.min()\n",
    "print(\"Valor mínimo sin normalizar:\", normal_min['Hallux'])\n",
    "print(\"Valor mínimo normalizado:\", normalized_min)\n",
    "print(\"Q1 sin normalizar: \", data_hawks['Hallux'].quantile(0.25))\n",
    "print(\"Q1 normalizado: \", NormalizedData_hawks.quantile(0.25))\n",
    "print(\"Q2 sin normalizar: \", data_hawks['Hallux'].quantile(0.5))\n",
    "print(\"Q2 normalizado: \", NormalizedData_hawks.quantile(0.5))\n",
    "print(\"Q3 sin normalizar: \", data_hawks['Hallux'].quantile(0.75))\n",
    "print(\"Q3 normalizado: \", NormalizedData_hawks.quantile(0.75))\n",
    "normal_RIC = data_hawks['Hallux'].quantile(0.75) - data_hawks['Hallux'].quantile(0.25)\n",
    "normalized_RIC = NormalizedData_hawks.quantile(0.75) - NormalizedData_hawks.quantile(0.25)\n",
    "print(\"RIC sin normalizar: \", normal_RIC)\n",
    "print(\"RIC normalizado: \", normalized_RIC)\n",
    "Bigote_superior_normal = data_hawks['Hallux'].quantile(0.75) + 1.5 * normal_RIC\n",
    "Bigote_superior_normalized = NormalizedData_hawks.quantile(0.75) + 1.5 * normalized_RIC\n",
    "print(\"Bigote superior sin normalizar: \", Bigote_superior_normal)\n",
    "print(\"Bigote superior normalizado: \", Bigote_superior_normalized)\n",
    "Bigote_inferior_normal = data_hawks['Hallux'].quantile(0.25) - 1.5 * normal_RIC\n",
    "Bigote_inferior_normalized = NormalizedData_hawks.quantile(0.25) - 1.5 * normalized_RIC\n",
    "print(\"Bigote inferior sin normalizar: \", Bigote_inferior_normal)\n",
    "print(\"Bigote inferior normalizado: \", Bigote_inferior_normalized)\n"
   ]
  },
  {
   "cell_type": "markdown",
   "id": "11ed404c",
   "metadata": {},
   "source": [
    "### I. Verdadero ya que el valor es cercano a 0\n",
    "### II. Verdadero ya que el max_normalizado = 9.71\n",
    "### III. Falso, deberia ser mayor a 804mm\n",
    "### IV. Falso\n",
    "### V. No, no es atipico, el bigote minimo normal llega a 92.5"
   ]
  },
  {
   "cell_type": "markdown",
   "id": "eb40b3f9",
   "metadata": {},
   "source": [
    "# Ejercicio 2"
   ]
  },
  {
   "cell_type": "code",
   "execution_count": 6,
   "id": "06ff9023",
   "metadata": {},
   "outputs": [
    {
     "name": "stdout",
     "output_type": "stream",
     "text": [
      "['Color', 'Tamanio', 'Se_estira?', 'Edad', 'Inflado?']\n"
     ]
    }
   ],
   "source": [
    "data_globos = pd.read_csv(DATOS_DIR + \"globos.csv\",sep=\",\")\n",
    "data_globos.dtypes\n",
    "print(data_globos.columns.tolist())"
   ]
  },
  {
   "cell_type": "code",
   "execution_count": 7,
   "id": "93f59f6f",
   "metadata": {},
   "outputs": [
    {
     "name": "stderr",
     "output_type": "stream",
     "text": [
      "/tmp/ipykernel_2180/1068244996.py:20: FutureWarning: Downcasting behavior in `replace` is deprecated and will be removed in a future version. To retain the old behavior, explicitly call `result.infer_objects(copy=False)`. To opt-in to the future behavior, set `pd.set_option('future.no_silent_downcasting', True)`\n",
      "  data_globos.replace(tamanioMap, inplace=True)\n"
     ]
    },
    {
     "data": {
      "text/html": [
       "<div>\n",
       "<style scoped>\n",
       "    .dataframe tbody tr th:only-of-type {\n",
       "        vertical-align: middle;\n",
       "    }\n",
       "\n",
       "    .dataframe tbody tr th {\n",
       "        vertical-align: top;\n",
       "    }\n",
       "\n",
       "    .dataframe thead th {\n",
       "        text-align: right;\n",
       "    }\n",
       "</style>\n",
       "<table border=\"1\" class=\"dataframe\">\n",
       "  <thead>\n",
       "    <tr style=\"text-align: right;\">\n",
       "      <th></th>\n",
       "      <th>Inflado?_Si</th>\n",
       "      <th>Edad_Adulto</th>\n",
       "      <th>Se_estira?_Si</th>\n",
       "      <th>Color_Rojo</th>\n",
       "      <th>Tamanio</th>\n",
       "    </tr>\n",
       "  </thead>\n",
       "  <tbody>\n",
       "    <tr>\n",
       "      <th>0</th>\n",
       "      <td>1</td>\n",
       "      <td>1</td>\n",
       "      <td>1</td>\n",
       "      <td>0</td>\n",
       "      <td>0.0</td>\n",
       "    </tr>\n",
       "    <tr>\n",
       "      <th>1</th>\n",
       "      <td>1</td>\n",
       "      <td>0</td>\n",
       "      <td>1</td>\n",
       "      <td>0</td>\n",
       "      <td>0.0</td>\n",
       "    </tr>\n",
       "    <tr>\n",
       "      <th>2</th>\n",
       "      <td>0</td>\n",
       "      <td>1</td>\n",
       "      <td>0</td>\n",
       "      <td>0</td>\n",
       "      <td>0.0</td>\n",
       "    </tr>\n",
       "    <tr>\n",
       "      <th>3</th>\n",
       "      <td>0</td>\n",
       "      <td>0</td>\n",
       "      <td>0</td>\n",
       "      <td>0</td>\n",
       "      <td>0.0</td>\n",
       "    </tr>\n",
       "    <tr>\n",
       "      <th>4</th>\n",
       "      <td>1</td>\n",
       "      <td>1</td>\n",
       "      <td>1</td>\n",
       "      <td>0</td>\n",
       "      <td>1.0</td>\n",
       "    </tr>\n",
       "    <tr>\n",
       "      <th>5</th>\n",
       "      <td>1</td>\n",
       "      <td>0</td>\n",
       "      <td>1</td>\n",
       "      <td>0</td>\n",
       "      <td>1.0</td>\n",
       "    </tr>\n",
       "    <tr>\n",
       "      <th>6</th>\n",
       "      <td>0</td>\n",
       "      <td>1</td>\n",
       "      <td>0</td>\n",
       "      <td>0</td>\n",
       "      <td>0.5</td>\n",
       "    </tr>\n",
       "    <tr>\n",
       "      <th>7</th>\n",
       "      <td>0</td>\n",
       "      <td>0</td>\n",
       "      <td>0</td>\n",
       "      <td>0</td>\n",
       "      <td>0.5</td>\n",
       "    </tr>\n",
       "    <tr>\n",
       "      <th>8</th>\n",
       "      <td>1</td>\n",
       "      <td>1</td>\n",
       "      <td>1</td>\n",
       "      <td>1</td>\n",
       "      <td>0.0</td>\n",
       "    </tr>\n",
       "    <tr>\n",
       "      <th>9</th>\n",
       "      <td>0</td>\n",
       "      <td>0</td>\n",
       "      <td>1</td>\n",
       "      <td>1</td>\n",
       "      <td>0.0</td>\n",
       "    </tr>\n",
       "    <tr>\n",
       "      <th>10</th>\n",
       "      <td>0</td>\n",
       "      <td>1</td>\n",
       "      <td>0</td>\n",
       "      <td>1</td>\n",
       "      <td>0.5</td>\n",
       "    </tr>\n",
       "    <tr>\n",
       "      <th>11</th>\n",
       "      <td>0</td>\n",
       "      <td>0</td>\n",
       "      <td>0</td>\n",
       "      <td>1</td>\n",
       "      <td>0.5</td>\n",
       "    </tr>\n",
       "    <tr>\n",
       "      <th>12</th>\n",
       "      <td>1</td>\n",
       "      <td>1</td>\n",
       "      <td>1</td>\n",
       "      <td>1</td>\n",
       "      <td>1.0</td>\n",
       "    </tr>\n",
       "    <tr>\n",
       "      <th>13</th>\n",
       "      <td>0</td>\n",
       "      <td>0</td>\n",
       "      <td>1</td>\n",
       "      <td>1</td>\n",
       "      <td>1.0</td>\n",
       "    </tr>\n",
       "    <tr>\n",
       "      <th>14</th>\n",
       "      <td>0</td>\n",
       "      <td>1</td>\n",
       "      <td>0</td>\n",
       "      <td>1</td>\n",
       "      <td>1.0</td>\n",
       "    </tr>\n",
       "    <tr>\n",
       "      <th>15</th>\n",
       "      <td>0</td>\n",
       "      <td>0</td>\n",
       "      <td>0</td>\n",
       "      <td>1</td>\n",
       "      <td>1.0</td>\n",
       "    </tr>\n",
       "  </tbody>\n",
       "</table>\n",
       "</div>"
      ],
      "text/plain": [
       "    Inflado?_Si  Edad_Adulto  Se_estira?_Si  Color_Rojo  Tamanio\n",
       "0             1            1              1           0      0.0\n",
       "1             1            0              1           0      0.0\n",
       "2             0            1              0           0      0.0\n",
       "3             0            0              0           0      0.0\n",
       "4             1            1              1           0      1.0\n",
       "5             1            0              1           0      1.0\n",
       "6             0            1              0           0      0.5\n",
       "7             0            0              0           0      0.5\n",
       "8             1            1              1           1      0.0\n",
       "9             0            0              1           1      0.0\n",
       "10            0            1              0           1      0.5\n",
       "11            0            0              0           1      0.5\n",
       "12            1            1              1           1      1.0\n",
       "13            0            0              1           1      1.0\n",
       "14            0            1              0           1      1.0\n",
       "15            0            0              0           1      1.0"
      ]
     },
     "execution_count": 7,
     "metadata": {},
     "output_type": "execute_result"
    }
   ],
   "source": [
    "#mapeo = {\"Color\": {\"Amarillo\": 0, \"Rojo\": 1}, \"Se_estira?\": {\"No\": 0, \"Si\": 1},\n",
    "#\"Edad\": {\"Adulto\": 1, \"Nene\": 0}, \"Tamanio\": {\"Chico\": 0, \"Grande\": 1, \"Mediano\": 0.5}}\n",
    "\n",
    "#data_globos.replace(mapeo, inplace=True)\n",
    "# Color\n",
    "NewColorColumn = pd.get_dummies(data_globos['Color'], prefix= 'Color', drop_first=True).astype(int)\n",
    "\n",
    "data_globos = pd.concat([NewColorColumn, data_globos], axis=1)\n",
    "data_globos.drop(['Color'],axis=1, inplace=True)\n",
    "\n",
    "\n",
    "# Tamanio\n",
    "tamanioMap ={\n",
    "\t\"Tamanio\": {\n",
    "\t\t\"Chico\": 0,\n",
    "\t\t\"Mediano\": 0.5,\n",
    "\t\t\"Grande\": 1\n",
    "\t}\n",
    "}\n",
    "data_globos.replace(tamanioMap, inplace=True)\n",
    "\n",
    "# SeEstira?\n",
    "NewSeEstiraColumn = pd.get_dummies(data_globos['Se_estira?'], prefix= 'Se_estira?', drop_first=True).astype(int)\n",
    "data_globos = pd.concat([NewSeEstiraColumn, data_globos], axis=1)\n",
    "data_globos.drop(['Se_estira?'],axis=1, inplace=True)\n",
    "\n",
    "# Edad\n",
    "NewEdadColumn = pd.get_dummies(data_globos['Edad'], prefix= 'Edad', drop_first=False).astype(int)\n",
    "NewEdadColumn.drop('Edad_Nene', axis=1, inplace=True)\n",
    "data_globos = pd.concat([NewEdadColumn, data_globos], axis=1)\n",
    "data_globos.drop(['Edad'],axis=1, inplace=True)\n",
    "\n",
    "# Inflado?: Si bien no lo pide lo voy a necesitar para entrenar el perceptron\n",
    "NewInfladoColumn = pd.get_dummies(data_globos['Inflado?'], prefix= 'Inflado?', drop_first=True).astype(int)\n",
    "data_globos = pd.concat([NewInfladoColumn, data_globos], axis=1)\n",
    "data_globos.drop(['Inflado?'],axis=1, inplace=True)\n",
    "\n",
    "data_globos"
   ]
  },
  {
   "cell_type": "markdown",
   "id": "6f3dfad6",
   "metadata": {},
   "source": [
    "## a)\n",
    " Indique cuáles de los siguientes perceptrones pueden clasificar correctamente todos los ejemplos normalizados del archivo Globos.csv\n",
    "\n",
    "| Configuración | w(Color) | w(Tamaño) | w(Se_estira?) | w(Edad) | b       |\n",
    "|---------------|----------|-----------|---------------|---------|---------|\n",
    "| Perceptrón 1  | 0.050    | 0.006     | -0.068        | -0.047  | 0.005   |\n",
    "| Perceptrón 2  | -0.494   | -0.003    | 0.722         | 0.489   | -0.4943 |\n",
    "| Perceptrón 3  | 0.060    | 0.004     | 0.1278        | 0.021   | -0.1132 |\n",
    "| Perceptrón 4  | 0.296    | 0.026     | -0.576        | -0.287  | 0.371   |\n",
    "| Perceptrón 5  | 0.994    | 0.006     | -1.466        | -0.989  | 0.988   |\n",
    "\n"
   ]
  },
  {
   "cell_type": "code",
   "execution_count": 8,
   "id": "9532636a",
   "metadata": {},
   "outputs": [
    {
     "name": "stdout",
     "output_type": "stream",
     "text": [
      "Perceptron 1: 10 errores de 16 ejemplos.\n",
      "Perceptron 2: 8 errores de 16 ejemplos.\n",
      "Perceptron 3: 10 errores de 16 ejemplos.\n",
      "Perceptron 4: 6 errores de 16 ejemplos.\n",
      "Perceptron 5: 8 errores de 16 ejemplos.\n"
     ]
    }
   ],
   "source": [
    "perceptrons = [\n",
    "    {\n",
    "        \"w_color\": 0.050,\n",
    "        \"w_tamanio\": 0.006,\n",
    "        \"w_se_estira\": -0.068,\n",
    "        \"w_edad\": -0.047,\n",
    "        \"b\": 0.005\n",
    "    },\n",
    "    {\n",
    "        \"w_color\": -0.494,\n",
    "        \"w_tamanio\": -0.003,\n",
    "        \"w_se_estira\": 0.722,\n",
    "        \"w_edad\": 0.489,\n",
    "        \"b\": -0.4943\n",
    "    },\n",
    "    {\n",
    "        \"w_color\": 0.06,\n",
    "        \"w_tamanio\": 0.004,\n",
    "        \"w_se_estira\": 0.1278,\n",
    "        \"w_edad\": 0.021,\n",
    "        \"b\": -0.1132\n",
    "    },\n",
    "    {\n",
    "        \"w_color\": 0.296,\n",
    "        \"w_tamanio\": 0.026,\n",
    "        \"w_se_estira\": -0.576,\n",
    "        \"w_edad\": -0.287,\n",
    "        \"b\": 0.371\n",
    "    },\n",
    "    {\n",
    "        \"w_color\": 0.994,\n",
    "        \"w_tamanio\": 0.006,\n",
    "        \"w_se_estira\": -1.466,\n",
    "        \"w_edad\": -0.989,\n",
    "        \"b\": 0.988\n",
    "    }\n",
    "]\n",
    "\n",
    "for i, p in enumerate(perceptrons):\n",
    "    incorrect = 0\n",
    "    for idx, row in data_globos.iterrows():\n",
    "        z = (p[\"w_color\"] * row[\"Color_Rojo\"] +\n",
    "\t\t\tp[\"w_tamanio\"] * row[\"Tamanio\"] +\n",
    "\t\t\tp[\"w_se_estira\"] * row[\"Se_estira?_Si\"] +\n",
    "\t\t\tp[\"w_edad\"] * row[\"Edad_Adulto\"] -\n",
    "\t\t\tp[\"b\"])\n",
    "        a = 1 if (z >= 0) else 0\n",
    "        data_globos.at[idx, f'Perceptron_{i+1}'] = a\n",
    "        if a != row[\"Inflado?_Si\"]:\n",
    "            incorrect += 1\n",
    "    print(f\"Perceptron {i+1}: {incorrect} errores de {len(data_globos)} ejemplos.\")\n",
    "\n",
    "# Ninguno clasifica todo correctamente, pero el que menos errores tiene es el perceptron 4 con 6 errores."
   ]
  },
  {
   "cell_type": "markdown",
   "id": "4646868d",
   "metadata": {},
   "source": [
    "## b)\n",
    "### Los peores perceptrones son el 1 y el 3"
   ]
  },
  {
   "cell_type": "markdown",
   "id": "09e86ff5",
   "metadata": {},
   "source": [
    "# Ejercicio 3"
   ]
  },
  {
   "cell_type": "markdown",
   "id": "95c3bb85",
   "metadata": {},
   "source": [
    "## a)\n",
    " La Tabla 1 muestra información correspondiente de pacientes para determinar si deben realizarse un examen médico en función de su edad, altura y riesgo médico.\n",
    "| EDAD | RIESGO | EXAMEN |\n",
    "|------|--------|--------|\n",
    "| 55   | ALTO   | SI     |\n",
    "| 56   | MEDIO  | NO     |\n",
    "| 58   | MEDIO  | SI     |\n",
    "| 56   | BAJO   | NO     |\n",
    "| 59   | BAJO   | SI     |\n",
    "| 57   | MEDIO  | SI     |\n",
    "| 60   | BAJO   | SI     |\n",
    "| 53   | ALTO   | NO     |\n",
    "| 59   | MEDIO  | SI     |\n",
    "\n",
    " Luego de la numerización se calculó el coeficiente de correlación lineal entre los atributos EDAD y RIESGO y se obtuvo como resultado -0.71. ¿Cómo debe interpretarse este valor?\n",
    "### Rta: Este valor se puede interpretar como que a medida que la edad aumenta el riesgo disminuye, siguiendo una relación lineal débil."
   ]
  },
  {
   "cell_type": "markdown",
   "id": "65aafa5f",
   "metadata": {},
   "source": [
    "## b)\n",
    " Luego de numerizar el atributo RIESGO y de normalizar los atributos de manera lineal entre 0 y 1, los ejemplos fueron utilizados para entrenar un perceptrón capaz de predecir correctamente el atributo EXAMEN. Los pesos obtenidos fueron los siguientes:\n",
    "\n",
    "### W(EDAD) = 0.0807 W(RIESGO) = 0.074 Sesgo o bias = -0.0742\n",
    "\n",
    " ¿Cuál será la respuesta del perceptrón para los siguientes valores?\n",
    "\n",
    "### (EDAD, RIESGO) = (50, BAJO), (51, MEDIO), (54, ALTO)"
   ]
  },
  {
   "cell_type": "code",
   "execution_count": 9,
   "id": "4b8a7349",
   "metadata": {},
   "outputs": [
    {
     "name": "stdout",
     "output_type": "stream",
     "text": [
      "Para (Edad=51, Riesgo=2) => EXAMEN = 1\n",
      "Para (Edad=50, Riesgo=1) => EXAMEN = 1\n",
      "Para (Edad=54, Riesgo=3) => EXAMEN = 1\n"
     ]
    }
   ],
   "source": [
    "perceptron = {\n",
    "\t\"w_edad\": 0.0807,\n",
    "\t\"w_riesgo\": -0.074,\n",
    "\t\"bias\": -0.0742\n",
    "}\n",
    "ejemplos = [\n",
    "    {\"Edad\": 51, \"Riesgo\": 2},\n",
    "    {\"Edad\": 50, \"Riesgo\": 1},\n",
    "    {\"Edad\": 54, \"Riesgo\": 3}\n",
    "]\n",
    "for ej in ejemplos:\n",
    "    z = (perceptron[\"w_edad\"] * ej[\"Edad\"] +\n",
    "            perceptron[\"w_riesgo\"] * ej[\"Riesgo\"] +\n",
    "            perceptron[\"bias\"])\n",
    "    a = 1 if (z >= 0) else 0\n",
    "    print(f\"Para (Edad={ej['Edad']}, Riesgo={ej['Riesgo']}) => EXAMEN = {a}\")"
   ]
  },
  {
   "cell_type": "markdown",
   "id": "b1c4ac10",
   "metadata": {},
   "source": [
    "# Ejercicio 4"
   ]
  },
  {
   "cell_type": "markdown",
   "id": "85d567d6",
   "metadata": {},
   "source": [
    "## a)\n",
    "Utilice el archivo *drug_train.csv* para entrenar un perceptrón que sea capaz de predecir si el tipo de\n",
    "fármaco que se debe administrar a un paciente afectado de rinitis alérgica es el habitual (suministro de DrugY) o no."
   ]
  },
  {
   "cell_type": "code",
   "execution_count": 10,
   "id": "54e6610d",
   "metadata": {},
   "outputs": [
    {
     "name": "stdout",
     "output_type": "stream",
     "text": [
      "['Age', 'Sex', 'BP', 'Cholesterol', 'Na', 'K', 'Drug']\n"
     ]
    }
   ],
   "source": [
    "data_drugs_train = pd.read_csv(DATOS_DIR + \"drugs_train.csv\",sep=\",\")\n",
    "data_drugs_train.dtypes\n",
    "print(data_drugs_train.columns.tolist())"
   ]
  },
  {
   "cell_type": "code",
   "execution_count": 11,
   "id": "78491b56",
   "metadata": {},
   "outputs": [
    {
     "name": "stdout",
     "output_type": "stream",
     "text": [
      "Pesos: [  2.467022   -12.97967551  -1.69988563   1.80233257], Bias: 14.946755890817192\n"
     ]
    },
    {
     "name": "stderr",
     "output_type": "stream",
     "text": [
      "/tmp/ipykernel_2180/1992735514.py:16: FutureWarning: Downcasting behavior in `replace` is deprecated and will be removed in a future version. To retain the old behavior, explicitly call `result.infer_objects(copy=False)`. To opt-in to the future behavior, set `pd.set_option('future.no_silent_downcasting', True)`\n",
      "  data.replace(Mapeo, inplace=True)\n"
     ]
    }
   ],
   "source": [
    "def label_encoding_preprocess_data(data: pd.DataFrame) -> pd.DataFrame:\n",
    "    data = data.copy()  # Evita modificar el DataFrame original\n",
    "\n",
    "    # Codificación one-hot para 'Sex'\n",
    "    NewSexColumn = pd.get_dummies(\n",
    "        data['Sex'], prefix='Sex', drop_first=True\n",
    "    ).astype(int)\n",
    "    data = pd.concat([NewSexColumn, data], axis=1)\n",
    "    data.drop(['Sex'], axis=1, inplace=True)\n",
    "\n",
    "    # Mapeo de valores para BP y Cholesterol\n",
    "    Mapeo = {\n",
    "        \"BP\": {\"LOW\": 0, \"NORMAL\": 1, \"HIGH\": 2},\n",
    "        \"Cholesterol\": {\"NORMAL\": 0, \"HIGH\": 1}\n",
    "    }\n",
    "    data.replace(Mapeo, inplace=True)\n",
    "\n",
    "    return data\n",
    "\n",
    "# Preprocesar datos\n",
    "preprocessed_data = label_encoding_preprocess_data(data_drugs_train)\n",
    "\n",
    "# Preparar datos para el Perceptrón\n",
    "X_train = preprocessed_data[['Age', 'Sex_M', 'BP', 'Cholesterol']].values\n",
    "Y_train = (preprocessed_data[\"Drug\"] == \"drugY\").astype(int)\n",
    "\n",
    "# Entrenar Perceptrón\n",
    "ppn = Perceptron(alpha=0.05, n_iter=100, random_state=1)\n",
    "ppn.fit(X_train, Y_train)\n",
    "\n",
    "print(f\"Pesos: {ppn.w_}, Bias: {ppn.b_}\")"
   ]
  },
  {
   "cell_type": "markdown",
   "id": "23e24a0e",
   "metadata": {},
   "source": [
    "## b) \n",
    "Luego utilice el archivo drug_test.csv para medir la calidad del modelo."
   ]
  },
  {
   "cell_type": "code",
   "execution_count": 12,
   "id": "ce1aa910",
   "metadata": {},
   "outputs": [
    {
     "name": "stdout",
     "output_type": "stream",
     "text": [
      "Efectividad del perceptrón en el conjunto de prueba: 45.00%\n"
     ]
    },
    {
     "name": "stderr",
     "output_type": "stream",
     "text": [
      "/tmp/ipykernel_2180/1992735514.py:16: FutureWarning: Downcasting behavior in `replace` is deprecated and will be removed in a future version. To retain the old behavior, explicitly call `result.infer_objects(copy=False)`. To opt-in to the future behavior, set `pd.set_option('future.no_silent_downcasting', True)`\n",
      "  data.replace(Mapeo, inplace=True)\n"
     ]
    }
   ],
   "source": [
    "data_drugs_test = pd.read_csv(DATOS_DIR + \"drugs_test.csv\",sep=\",\")\n",
    "data_drugs_test.dtypes\n",
    "preprocessed_test_data = label_encoding_preprocess_data(data_drugs_test)\n",
    "X_test = preprocessed_test_data[['Age', 'Sex_M', 'BP', 'Cholesterol']].values\n",
    "Y = ppn.predict(X_test)\n",
    "T_test = (preprocessed_test_data[\"Drug\"] == \"drugY\").astype(int)\n",
    "efectividad = 100.0*np.sum(Y==T_test)/len(Y)\n",
    "print(f\"Efectividad del perceptrón en el conjunto de prueba: {efectividad:.2f}%\")"
   ]
  },
  {
   "cell_type": "markdown",
   "id": "dd2c40d5",
   "metadata": {},
   "source": [
    "## c)\n",
    "Resuelva el problema:\n",
    "\n",
    "● Numerizando los atributos ordinales utilizando dos representaciones diferentes: como entero único\n",
    "y de manera binaria (dummy).\n",
    "\n",
    "● Normalizando de diferentes formas: Sin normalizar, normalización lineal, normalización con media y\n",
    "desvío"
   ]
  },
  {
   "cell_type": "markdown",
   "id": "15920496",
   "metadata": {},
   "source": [
    "### Numerizacion como entero (mapeo)"
   ]
  },
  {
   "cell_type": "code",
   "execution_count": 13,
   "id": "6a1f7f5f",
   "metadata": {},
   "outputs": [
    {
     "name": "stdout",
     "output_type": "stream",
     "text": [
      "Efectividad del perceptrón con normalización lineal en el conjunto de prueba: 45.00%\n",
      "Efectividad del perceptrón con normalización media y desvío en el conjunto de prueba: 42.50%\n"
     ]
    }
   ],
   "source": [
    "#la numerizacion entera la hice en el inciso anterior \n",
    "#Normalizacion lineal\n",
    "X_train_lin = (X_train - X_train.min(axis=0)) / (X_train.max(axis=0) - X_train.min(axis=0))\n",
    "X_test_lin = (X_test - X_train.min(axis=0)) / (X_train.max(axis=0) - X_train.min(axis=0))\n",
    "ppn.fit(X_train_lin, Y_train)\n",
    "Y_lin = ppn.predict(X_test_lin)\n",
    "efectividad_lin = 100.0*np.sum(Y_lin==T_test)/len(Y_lin)\n",
    "print(f\"Efectividad del perceptrón con normalización lineal en el conjunto de prueba: {efectividad_lin:.2f}%\")\n",
    "\n",
    "# Normalización con media y desvío\n",
    "X_train_std = (X_train - X_train.mean(axis=0)) / X_train.std(axis=0)\n",
    "X_test_std = (X_test - X_train.mean(axis=0)) / X_train.std(axis=0)\n",
    "ppn.fit(X_train_std, Y_train)\n",
    "Y_std = ppn.predict(X_test_std)\n",
    "efectividad_std = 100.0*np.sum(Y_std==T_test)/len(Y_std)\n",
    "print(f\"Efectividad del perceptrón con normalización media y desvío en el conjunto de prueba: {efectividad_std:.2f}%\")"
   ]
  },
  {
   "cell_type": "markdown",
   "id": "99fba9f5",
   "metadata": {},
   "source": [
    "### Numerizacion de manera binaria"
   ]
  },
  {
   "cell_type": "code",
   "execution_count": 14,
   "id": "838048ec",
   "metadata": {},
   "outputs": [
    {
     "name": "stdout",
     "output_type": "stream",
     "text": [
      "Efectividad del perceptrón sin normalizar en el conjunto de prueba: 45.00%\n",
      "Efectividad del perceptrón con normalización lineal en el conjunto de prueba: 97.50%\n",
      "Efectividad del perceptrón con normalización media y desvío en el conjunto de prueba: 95.00%\n"
     ]
    }
   ],
   "source": [
    "def one_hot_preprocess_data(train: pd.DataFrame, test: pd.DataFrame):\n",
    "    data = pd.concat([train, test], axis=0)  # unir filas\n",
    "    categorical_cols = ['Sex', 'BP', 'Cholesterol']\n",
    "    dummies = pd.get_dummies(data[categorical_cols], drop_first=False).astype(int)\n",
    "    data = data.drop(columns=categorical_cols)\n",
    "    data = pd.concat([dummies, data], axis=1)\n",
    "\n",
    "    # separar nuevamente en train y test\n",
    "    train_oh = data.iloc[:len(train), :].copy()\n",
    "    test_oh  = data.iloc[len(train):, :].copy()\n",
    "    return train_oh, test_oh\n",
    "\n",
    "train_data_oh, test_data_oh = one_hot_preprocess_data(data_drugs_train, data_drugs_test)\n",
    "\n",
    "# --- Definir X y T ---\n",
    "X_train = train_data_oh.drop(columns=['Drug']).values\n",
    "Y_train = (train_data_oh[\"Drug\"] == \"drugY\").astype(int)\n",
    "\n",
    "X_test = test_data_oh.drop(columns=['Drug']).values\n",
    "T_test = (test_data_oh[\"Drug\"] == \"drugY\").astype(int)\n",
    "\n",
    "ppn = Perceptron(alpha=0.05, n_iter=100, random_state=1)\n",
    "\n",
    "#Sin normalizar\n",
    "ppn.fit(X_train, Y_train)\n",
    "Y = ppn.predict(X_test)\n",
    "efectividad = 100.0*np.sum(Y==T_test)/len(Y)\n",
    "print(f\"Efectividad del perceptrón sin normalizar en el conjunto de prueba: {efectividad:.2f}%\")\n",
    "\n",
    "#normalización lineal\n",
    "X_train_lin = (X_train - X_train.min(axis=0)) / (X_train.max(axis=0) - X_train.min(axis=0))\n",
    "X_test_lin = (X_test - X_train.min(axis=0)) / (X_train.max(axis=0) - X_train.min(axis=0))\n",
    "ppn.fit(X_train_lin, Y_train)\n",
    "Y_lin = ppn.predict(X_test_lin)\n",
    "efectividad_lin = 100.0*np.sum(Y_lin==T_test)/len(Y_lin)\n",
    "print(f\"Efectividad del perceptrón con normalización lineal en el conjunto de prueba: {efectividad_lin:.2f}%\")\n",
    "\n",
    "# Normalización con media y desvío\n",
    "X_train_std = (X_train - X_train.mean(axis=0)) / X_train.std(axis=0)\n",
    "X_test_std = (X_test - X_train.mean(axis=0)) / X_train.std(axis=0)\n",
    "ppn.fit(X_train_std, Y_train)\n",
    "Y_std = ppn.predict(X_test_std)\n",
    "efectividad_std = 100.0*np.sum(Y_std==T_test)/len(Y_std)\n",
    "print(f\"Efectividad del perceptrón con normalización media y desvío en el conjunto de prueba: {efectividad_std:.2f}%\")"
   ]
  },
  {
   "cell_type": "markdown",
   "id": "e6dd5385",
   "metadata": {},
   "source": [
    "# Ejercicio 5\n",
    "Ejercicio 5\n",
    "El archivo semillas.csv contiene información de granos que pertenecen a tres variedades diferentes de trigo:\n",
    "Kama, Rosa y Canadiense. El total es de 210 ejemplos a razón de 70 ejemplos para cada tipo de grano,\n",
    "seleccionados al azar para el experimento. La información registrada corresponde al resultado de la\n",
    "visualización de alta calidad de la estructura interna del núcleo efectuada utilizando una técnica de rayos X\n",
    "blandos. Este tipo de estudio no es destructivo y es considerablemente más económico que otras técnicas\n",
    "de imagen más sofisticadas como la microscopía de barrido o la tecnología láser. Las imágenes se grabaron\n",
    "en placas KODAK de rayos x de 13x18 cm. Los estudios se realizaron utilizando granos de trigo cosechados\n",
    "combinados procedentes de campos experimentales, explorados en el Instituto de Agrofísica de la Academia\n",
    "Polaca de Ciencias en Lublin. Para construir los datos, se midieron siete parámetros geométricos de cada\n",
    "grano de trigo:\n",
    "\n",
    "● área A\n",
    "\n",
    "● perímetro P\n",
    "\n",
    "● compacidad C = 4 * pi * A / P ^ 2\n",
    "\n",
    "● longitud del núcleo\n",
    "\n",
    "● ancho del núcleo\n",
    "\n",
    "● coeficiente de asimetría\n",
    "\n",
    "● longitud del surco del núcleo\n",
    "\n",
    "A partir de los 210 ejemplos, luego de normalizarlos utilizando los valores de media y desvío, se logró entrenar\n",
    "un perceptrón capaz de identificar, con una precisión del 100%, uno de los tres tipos de semillas. Para realizar\n",
    "el entrenamiento se utilizó una velocidad de aprendizaje de 0.05 y un máximo de 200 iteraciones. Indique\n",
    "cuál es el tipo de semilla que puede ser reconocido correctamente por un perceptrón.\n"
   ]
  },
  {
   "cell_type": "code",
   "execution_count": 15,
   "id": "e922c762",
   "metadata": {},
   "outputs": [
    {
     "name": "stdout",
     "output_type": "stream",
     "text": [
      "El tipo de semilla predicho para cada muestra es:\n",
      "Tipo 1: 56 aciertos de 70 muestras.\n",
      "Tipo 2: 70 aciertos de 70 muestras.\n",
      "Tipo 3: 68 aciertos de 70 muestras.\n",
      "Correct predictions for Tipo1: 194\n",
      "Correct predictions for Tipo2: 205\n",
      "Correct predictions for Tipo3: 200\n"
     ]
    },
    {
     "name": "stderr",
     "output_type": "stream",
     "text": [
      "/tmp/ipykernel_2180/994102876.py:10: FutureWarning: Downcasting behavior in `replace` is deprecated and will be removed in a future version. To retain the old behavior, explicitly call `result.infer_objects(copy=False)`. To opt-in to the future behavior, set `pd.set_option('future.no_silent_downcasting', True)`\n",
      "  data_semillas.replace(mapeo, inplace=True)\n"
     ]
    }
   ],
   "source": [
    "from sklearn.linear_model import Perceptron\n",
    "\n",
    "# === Cargar datos ===\n",
    "data_semillas = pd.read_csv(DATOS_DIR + \"semillas.csv\", sep=\",\")\n",
    "ALPHA = 0.05\n",
    "N_ITER = 200\n",
    "\n",
    "# Mapeo de valores para la columna 'Clase'\n",
    "mapeo = {\"Clase\": {\"Tipo1\": 1, \"Tipo2\": 2, \"Tipo3\": 3}}\n",
    "data_semillas.replace(mapeo, inplace=True)\n",
    "\n",
    "# Normalización media y desvío de todos los atributos\n",
    "X = data_semillas.drop(columns=['Clase']).values\n",
    "T = data_semillas['Clase'].values\n",
    "X_std = (X - X.mean(axis=0)) / X.std(axis=0)\n",
    "\n",
    "# === One-vs-All con 3 perceptrones ===\n",
    "perceptrones = {}\n",
    "for clase in [1, 2, 3]:\n",
    "    y_bin = (T == clase).astype(int)  # 1 si es la clase actual, 0 si no\n",
    "    ppn = Perceptron(alpha=ALPHA, max_iter=N_ITER, random_state=1)\n",
    "    ppn.fit(X_std, y_bin)\n",
    "    perceptrones[clase] = ppn\n",
    "\n",
    "# === Predicciones combinadas ===\n",
    "# Obtenemos la decisión de cada perceptrón\n",
    "scores = np.column_stack([perceptrones[c].decision_function(X_std) for c in [1,2,3]])\n",
    "\n",
    "# La clase predicha es la del perceptrón con mayor score\n",
    "Y_pred = np.argmax(scores, axis=1) + 1  # +1 porque argmax devuelve índices [0,1,2]\n",
    "\n",
    "print(\"El tipo de semilla predicho para cada muestra es:\")\n",
    "\n",
    "## la suma de aciertos para cada tipo de semilla\n",
    "for clase in [1, 2, 3]:\n",
    "    total_clase = np.sum(T == clase)\n",
    "    aciertos_clase = np.sum((Y_pred == clase) & (T == clase))\n",
    "    aciertos_totales = np.sum(Y_pred == clase)\n",
    "    print(f\"Tipo {clase}: {aciertos_clase} aciertos de {total_clase} muestras.\")\n",
    "     \n",
    "\n",
    "for clase in [1, 2, 3]:\n",
    "    y_bin = (T == clase).astype(int)\n",
    "    Y = perceptrones[clase].predict(X_std)\n",
    "    print(f\"Correct predictions for Tipo{clase}: {np.sum(Y == y_bin)}\")\n",
    "    \n"
   ]
  },
  {
   "cell_type": "markdown",
   "id": "d9fa7b5e",
   "metadata": {},
   "source": [
    "# Ejercicio 6\n",
    "El archivo `zoo.csv` contiene información de 101 animales caracterizados por los siguientes atributos:\n",
    "\n",
    "- **A1. Nombre del animal**\n",
    "- **A2. Tiene Pelo**\n",
    "- **A3. Plumas**\n",
    "- **A4. Huevos**\n",
    "- **A5. Leche**\n",
    "- **A6. Vuela**\n",
    "- **A7. Acuático**\n",
    "- **A8. Depredador**\n",
    "- **A9. Dentado**\n",
    "- **A10. Vertebrado**\n",
    "- **A11. Branquias**\n",
    "- **A12. Venenoso**\n",
    "- **A13. Aletas**\n",
    "- **A14. Patas** (número de patas del animal)\n",
    "- **A15. Cola**\n",
    "- **A16. Doméstico**\n",
    "- **A17. Tamaño gato**\n",
    "- **A18. Clase**\n",
    "\n",
    "Salvo los atributos **A1** y **A18** que contienen texto, y el **A14** que contiene el número de patas del animal, el resto toma el valor **1** si el animal posee la característica y **0** si no.\n",
    "\n",
    "Hay 7 valores de clase posibles (atributo **A18**):\n",
    "\n",
    "- mamífero\n",
    "- ave\n",
    "- pez\n",
    "- invertebrado\n",
    "- insecto\n",
    "- reptil"
   ]
  },
  {
   "cell_type": "code",
   "execution_count": 16,
   "id": "9c77c741",
   "metadata": {},
   "outputs": [
    {
     "name": "stdout",
     "output_type": "stream",
     "text": [
      "['animal', 'Tiene_Pelo', 'Tiene_Plumas', 'Nace_de_huevo', 'Toma_Leche', 'Vuela', 'Acuatico', 'Depredador', 'Dentado', 'Vertebrado', 'Respira', 'Venenoso', 'Tiene_Aletas', 'Cant_Patas', 'Tiene_Cola', 'Domestico', 'Tamano_Gato', 'Clase']\n"
     ]
    }
   ],
   "source": [
    "data_zoo = pd.read_csv(DATOS_DIR + \"zoo.csv\", sep=\",\", encoding=\"latin1\")\n",
    "data_zoo.dtypes\n",
    "print(data_zoo.columns.tolist())"
   ]
  },
  {
   "cell_type": "markdown",
   "id": "828b7394",
   "metadata": {},
   "source": [
    "## a)\n",
    "Realice un gráfico que visualice de la cantidad de ejemplos por cada valor del atributo clase y analice\n",
    "que tipos de problema podrían surgir al entrenar un modelo para clasificación."
   ]
  },
  {
   "cell_type": "code",
   "execution_count": 17,
   "id": "db918427",
   "metadata": {},
   "outputs": [
    {
     "data": {
      "image/png": "[encoded data removed]",
      "text/plain": [
       "<Figure size 640x480 with 1 Axes>"
      ]
     },
     "metadata": {},
     "output_type": "display_data"
    }
   ],
   "source": [
    "mapeo = {\"Clase\" : {\"Mamifero\": 1, \"Ave\": 2, \"Reptil\": 6, \"Pez\": 3, \"Insecto\": 5, \"Invertebrado\": 4}}\n",
    "data_zoo.replace(mapeo, inplace=True)\n",
    "\n",
    "#Grafico de barras con la cantidad de ejemplos por cada valor del atributo clase\n",
    "# Asegura que todos los valores sean enteros\n",
    "data_zoo['Clase'] = pd.to_numeric(data_zoo['Clase'], errors='coerce')\n",
    "\n",
    "# Grafico de barras con la cantidad de ejemplos por cada valor del atributo clase\n",
    "barra = data_zoo['Clase'].value_counts().sort_index()\n",
    "barra.plot(kind='bar')\n",
    "\n",
    "plt.xlabel('Clase')\n",
    "plt.ylabel('Cantidad de ejemplos')\n",
    "plt.title('Cantidad de ejemplos por clase en el dataset Zoo')\n",
    "plt.show()\n"
   ]
  },
  {
   "cell_type": "markdown",
   "id": "e520a349",
   "metadata": {},
   "source": [
    "Hay pocos ejemplos de animales que no sean mamiferos"
   ]
  },
  {
   "cell_type": "markdown",
   "id": "5a67ac42",
   "metadata": {},
   "source": [
    "## b)\n",
    "Utilice todos los ejemplos para entrenar un perceptrón que sea capaz de reconocer si un animal es un\n",
    "mamífero. Entrene varias veces si es necesario y verifique que funcione correctamente."
   ]
  },
  {
   "cell_type": "code",
   "execution_count": 27,
   "id": "cdacb36c",
   "metadata": {},
   "outputs": [
    {
     "name": "stdout",
     "output_type": "stream",
     "text": [
      "Efectividad del perceptrón en el conjunto de datos completo: 100.00%\n"
     ]
    }
   ],
   "source": [
    "# Elimino columnas que no son numéricas\n",
    "X = data_zoo.drop(columns=['Clase', 'animal']).values   # o el nombre real de la columna con strings\n",
    "T = data_zoo['Clase'].values\n",
    "\n",
    "# Defino el target binario: mamíferos (Clase == 1)\n",
    "Y = (T == 1).astype(int)\n",
    "\n",
    "ppn = Perceptron(alpha=0.05, max_iter=200, random_state=1)\n",
    "ppn.fit(X, Y)\n",
    "\n",
    "Y_pred = ppn.predict(X)\n",
    "efectividad = 100.0 * np.sum(Y_pred == Y) / len(Y_pred)\n",
    "print(f\"Efectividad del perceptrón en el conjunto de datos completo: {efectividad:.2f}%\")\n",
    "\n"
   ]
  },
  {
   "cell_type": "markdown",
   "id": "303a582f",
   "metadata": {},
   "source": [
    "## c)\n",
    "Observe los pesos del perceptrón entrenado en b) ¿Puede determinar cuáles son las características más relevantes para decidir si se trata de un mamífero o no? \n",
    "Realice varias ejecuciones independientes y\n",
    "observe si las características más relevantes siguen siendo las mismas."
   ]
  },
  {
   "cell_type": "code",
   "execution_count": 29,
   "id": "73c22ebe",
   "metadata": {},
   "outputs": [
    {
     "name": "stdout",
     "output_type": "stream",
     "text": [
      "Peso w1: 8.0000\n",
      "Peso w2: -2.0000\n",
      "Peso w3: -7.0000\n",
      "Peso w4: 8.0000\n",
      "Peso w5: -2.0000\n",
      "Peso w6: -2.0000\n",
      "Peso w7: -2.0000\n",
      "Peso w8: 2.0000\n",
      "Peso w9: 0.0000\n",
      "Peso w10: 1.0000\n",
      "Peso w11: -2.0000\n",
      "Peso w12: -1.0000\n",
      "Peso w13: 0.0000\n",
      "Peso w14: -1.0000\n",
      "Peso w15: -1.0000\n",
      "Peso w16: 5.0000\n"
     ]
    }
   ],
   "source": [
    "# Pesos de perceptron (usando sklearn)\n",
    "for i, peso in enumerate(ppn.coef_[0]):\n",
    "    print(f\"Peso w{i+1}: {peso:.4f}\")"
   ]
  },
  {
   "cell_type": "markdown",
   "id": "2a353bad",
   "metadata": {},
   "source": [
    "### Se puede ver que variables como 'Tiene_Pelo', 'Leche', 'Tamanio_gato' son muy relevantes para averiguar si un animal es mamifero o no"
   ]
  },
  {
   "cell_type": "markdown",
   "id": "b199f9ed",
   "metadata": {},
   "source": [
    "## d) e) Repita b) y c) para las aves. Repita b) y c) para los reptiles.\n",
    "\n",
    "No gracias"
   ]
  },
  {
   "cell_type": "markdown",
   "id": "452f3ec7",
   "metadata": {},
   "source": [
    "# Ejercicio 7"
   ]
  },
  {
   "cell_type": "code",
   "execution_count": 30,
   "id": "fad86e0f",
   "metadata": {},
   "outputs": [
    {
     "name": "stdout",
     "output_type": "stream",
     "text": [
      "['make', 'fuel-type', 'num-of-doors', 'body-style', 'curb-weight', 'engine-size', 'horsepower', 'city-mpg', 'highway-mpg', 'price', 'volume', 'eco-rating']\n"
     ]
    }
   ],
   "source": [
    "data_autos = pd.read_csv(DATOS_DIR + \"automobile-simple.csv\", sep=\",\")\n",
    "data_autos.dtypes\n",
    "print(data_autos.columns.tolist())"
   ]
  },
  {
   "cell_type": "markdown",
   "id": "9dccc1f4",
   "metadata": {},
   "source": [
    "El archivo `automobile_simple.csv` contiene 11 atributos de automóviles de un total de 205 registros. Es una versión modificada y simplificada del dataset disponible en el repositorio UCI:  \n",
    "https://archive.ics.uci.edu/ml/datasets/Automobile\n",
    "\n",
    "A continuación se presenta una breve descripción de los atributos que contiene el archivo y que caracterizan a cada vehículo:\n",
    "\n",
    "| **Atributo**     | **Descripción**                                                        |\n",
    "|------------------|------------------------------------------------------------------------|\n",
    "| **make**         | Marca: alfa-romero, audi, bmw, chevrolet…                              |\n",
    "| **fuel-type**    | Tipo de combustible: diesel, gasolina.                                 |\n",
    "| **num-of-doors** | Número de puertas: cuatro, dos.                                        |\n",
    "| **body-style**   | Tipo de carrocería: techo duro, wagon, sedán, hatchback, descapotable. |\n",
    "| **curb-weight**  | Peso en vacío: numérico de 1488 a 4066.                                |\n",
    "| **engine-size**  | Tamaño del motor: numérico de 61 a 326.                                |\n",
    "| **horsepower**   | Potencia: numérico de 48 a 288.                                        |\n",
    "| **city-mpg**     | Rendimiento en ciudad (en millas por galón): numérico de 13 a 49.      |\n",
    "| **highway-mpg**  | Rendimiento en ruta (en millas por galón): numérico de 16 a 54.        |\n",
    "| **price**        | Precio en USD: numérico de 5118 a 45400.                               |\n",
    "| **volume**       | Volumen del vehículo (alto x ancho x alto).                            |\n",
    "| **eco-rating**    | Evaluación de la sostenibilidad ambiental del vehículo basado en su volumen, peso, consumo de combustible y"
   ]
  },
  {
   "cell_type": "markdown",
   "id": "161ce998",
   "metadata": {},
   "source": [
    "## a)\n",
    "Para cada atributo indique si es Discreto, Continuo, Nominal u Ordinal.\n",
    "\n",
    "| **Atributo**     | **Tipo** |\n",
    "|------------------|----------|\n",
    "| **make**         | Ordinal  |\n",
    "| **fuel-type**    | Nominal  |\n",
    "| **num-of-doors** | Discreto |\n",
    "| **body-style**   | Nominal  |\n",
    "| **curb-weight**  | Discreto |\n",
    "| **engine-size**  | Discreto |\n",
    "| **horsepower**   | Discreto |\n",
    "| **city-mpg**     | Discreto |\n",
    "| **highway-mpg**  | Discreto |\n",
    "| **price**        | Discreto |\n",
    "| **volume**       | Continuo |\n",
    "| **eco-rating**   | Continuo |"
   ]
  },
  {
   "cell_type": "markdown",
   "id": "ccfd664a",
   "metadata": {},
   "source": [
    "# b) \n",
    "Elimine los registros que presenten valores faltantes.\n"
   ]
  },
  {
   "cell_type": "code",
   "execution_count": 37,
   "id": "624ac0f5",
   "metadata": {},
   "outputs": [
    {
     "name": "stdout",
     "output_type": "stream",
     "text": [
      "make            0\n",
      "fuel-type       0\n",
      "num-of-doors    2\n",
      "body-style      0\n",
      "curb-weight     0\n",
      "engine-size     0\n",
      "horsepower      2\n",
      "city-mpg        0\n",
      "highway-mpg     0\n",
      "price           4\n",
      "volume          0\n",
      "eco-rating      0\n",
      "dtype: int64\n",
      "Registros después de eliminar valores faltantes: 197\n"
     ]
    }
   ],
   "source": [
    "missing_values_count = data_autos.isnull().sum()\n",
    "print(missing_values_count)\n",
    "\n",
    "#Eliminamos los registros con valores faltantes\n",
    "data_autos_cleaned = data_autos.dropna()\n",
    "print(f\"Registros después de eliminar valores faltantes: {len(data_autos_cleaned)}\")\n"
   ]
  },
  {
   "cell_type": "markdown",
   "id": "93840ab1",
   "metadata": {},
   "source": [
    "## c) \n",
    "Calcule la matriz de correlación usando los atributos numéricos."
   ]
  },
  {
   "cell_type": "code",
   "execution_count": 42,
   "id": "baf3e189",
   "metadata": {},
   "outputs": [
    {
     "name": "stdout",
     "output_type": "stream",
     "text": [
      "             curb-weight  engine-size  horsepower  city-mpg  highway-mpg  \\\n",
      "curb-weight     1.000000     0.848932    0.759925 -0.755559    -0.800113   \n",
      "engine-size     0.848932     1.000000    0.825286 -0.655737    -0.684662   \n",
      "horsepower      0.759925     0.825286    1.000000 -0.821960    -0.803658   \n",
      "city-mpg       -0.755559    -0.655737   -0.821960  1.000000     0.972407   \n",
      "highway-mpg    -0.800113    -0.684662   -0.803658  0.972407     1.000000   \n",
      "price           0.834732     0.873708    0.811953 -0.692948    -0.708659   \n",
      "volume          0.822823     0.592571    0.449278 -0.554978    -0.608072   \n",
      "eco-rating     -0.842957    -0.723965   -0.839619  0.976650     0.984258   \n",
      "\n",
      "                price    volume  eco-rating  \n",
      "curb-weight  0.834732  0.822823   -0.842957  \n",
      "engine-size  0.873708  0.592571   -0.723965  \n",
      "horsepower   0.811953  0.449278   -0.839619  \n",
      "city-mpg    -0.692948 -0.554978    0.976650  \n",
      "highway-mpg -0.708659 -0.608072    0.984258  \n",
      "price        1.000000  0.631578   -0.747982  \n",
      "volume       0.631578  1.000000   -0.598520  \n",
      "eco-rating  -0.747982 -0.598520    1.000000  \n"
     ]
    },
    {
     "data": {
      "image/png": "[encoded data removed]",
      "text/plain": [
       "<Figure size 1000x800 with 2 Axes>"
      ]
     },
     "metadata": {},
     "output_type": "display_data"
    }
   ],
   "source": [
    "#Matriz de correlación ignorando atributos no numéricos\n",
    "correlation_matrix = data_autos_cleaned.drop(columns=['make', 'fuel-type', 'num-of-doors', 'body-style']).corr()\n",
    "print(correlation_matrix)\n",
    "\n",
    "plt.figure(figsize=(10, 8))\n",
    "plt.imshow(correlation_matrix, cmap='coolwarm', interpolation='nearest')\n",
    "plt.colorbar(label='Coeficiente de correlación')\n",
    "plt.xticks(range(len(correlation_matrix.columns)), correlation_matrix.columns, rotation=90)\n",
    "plt.yticks(range(len(correlation_matrix.columns)), correlation_matrix.columns)\n",
    "plt.title('Matriz de Correlación de Atributos Numéricos')\n",
    "plt.show()"
   ]
  },
  {
   "cell_type": "markdown",
   "id": "5a7ee51d",
   "metadata": {},
   "source": [
    "## d) \n",
    " Entrenamiento de un perceptrón para clasificar autos ecológicos\n",
    "\n",
    "Siga los siguientes pasos:\n",
    "\n",
    "**I. Generación del atributo binario**\n",
    "- Utilice el atributo `eco-rating` para crear un nuevo atributo binario que determine si un auto es ecológico o no.\n",
    "- Un auto es considerado ecológico si el valor de `eco-rating` supera la media de dicho atributo.\n",
    "\n",
    "**II. Comparación de modelos con diferentes normalizaciones**\n",
    "- Genere y compare 3 modelos utilizando las siguientes normalizaciones:\n",
    "  - Sin normalizar\n",
    "  - Normalización lineal (min-max)\n",
    "  - Normalización estándar (media y desvío)\n",
    "\n",
    "**III. Análisis eliminando atributos correlacionados**\n",
    "- Utilizando la matriz de correlación calculada en el punto c), repita el punto II) eliminando dos atributos fuertemente correlacionados (uno con correlación positiva y otro con correlación negativa).\n",
    "- Compare y reflexione sobre los resultados obtenidos."
   ]
  },
  {
   "cell_type": "code",
   "execution_count": 51,
   "id": "496fab85",
   "metadata": {},
   "outputs": [
    {
     "name": "stdout",
     "output_type": "stream",
     "text": [
      "Valor promedio de 'eco-rating': 42.09494272062433\n",
      "Efectividad del perceptrón sin normalizar: 52.79%\n",
      "Efectividad del perceptrón con normalización lineal: 95.94%\n",
      "Efectividad del perceptrón con normalización media y desvío: 100.00%\n"
     ]
    },
    {
     "name": "stderr",
     "output_type": "stream",
     "text": [
      "/tmp/ipykernel_2180/2232691633.py:5: SettingWithCopyWarning: \n",
      "A value is trying to be set on a copy of a slice from a DataFrame.\n",
      "Try using .loc[row_indexer,col_indexer] = value instead\n",
      "\n",
      "See the caveats in the documentation: https://pandas.pydata.org/pandas-docs/stable/user_guide/indexing.html#returning-a-view-versus-a-copy\n",
      "  data_autos_cleaned['Es_Ecologico'] = es_ecologico\n"
     ]
    }
   ],
   "source": [
    "#I\n",
    "eco_rating_mean = data_autos_cleaned['eco-rating'].mean()\n",
    "print(f\"Valor promedio de 'eco-rating': {eco_rating_mean}\")\n",
    "es_ecologico = (data_autos_cleaned['eco-rating'] > eco_rating_mean).astype(int)\n",
    "data_autos_cleaned['Es_Ecologico'] = es_ecologico\n",
    "\n",
    "#II\n",
    "#Entrenamiento perceptron sin normalizar\n",
    "X = data_autos_cleaned.drop(columns=['eco-rating', 'Es_Ecologico', 'make', 'fuel-type', 'num-of-doors', 'body-style']).values\n",
    "T = data_autos_cleaned['Es_Ecologico'].values\n",
    "ppn = Perceptron(alpha=0.05, max_iter=200, random_state=1)\n",
    "ppn.fit(X, T)\n",
    "Y = ppn.predict(X)\n",
    "efectividad = 100.0 * np.sum(Y == T) / len(Y)\n",
    "print(f\"Efectividad del perceptrón sin normalizar: {efectividad:.2f}%\")\n",
    "\n",
    "#Entrenamiento perceptron con normalización lineal\n",
    "X_lin = (X - X.min(axis=0)) / (X.max(axis=0) - X.min(axis=0))\n",
    "ppn.fit(X_lin, T)\n",
    "Y_lin = ppn.predict(X_lin)\n",
    "efectividad_lin = 100.0 * np.sum(Y_lin == T) / len(Y_lin)\n",
    "print(f\"Efectividad del perceptrón con normalización lineal: {efectividad_lin:.2f}%\")\n",
    "\n",
    "#Entrenamiento perceptron con normalización media y desvío\n",
    "X_std = (X - X.mean(axis=0)) / X.std(axis=0)\n",
    "ppn.fit(X_std, T)\n",
    "Y_std = ppn.predict(X_std)\n",
    "efectividad_std = 100.0 * np.sum(Y_std == T) / len(Y_std)\n",
    "print(f\"Efectividad del perceptrón con normalización media y desvío: {efectividad_std:.2f}%\")"
   ]
  }
 ],
 "metadata": {
  "kernelspec": {
   "display_name": "env",
   "language": "python",
   "name": "python3"
  },
  "language_info": {
   "codemirror_mode": {
    "name": "ipython",
    "version": 3
   },
   "file_extension": ".py",
   "mimetype": "text/x-python",
   "name": "python",
   "nbconvert_exporter": "python",
   "pygments_lexer": "ipython3",
   "version": "3.13.7"
  }
 },
 "nbformat": 4,
 "nbformat_minor": 5
}
