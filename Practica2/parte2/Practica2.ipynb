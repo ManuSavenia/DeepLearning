{
 "cells": [
  {
   "cell_type": "code",
   "execution_count": 8,
   "id": "d29a9fad",
   "metadata": {},
   "outputs": [],
   "source": [
    "ColabNotebook = 'google.colab' in str(get_ipython())\n",
    "\n",
    "if ColabNotebook:\n",
    "    # monta G-drive en entorno COLAB\n",
    "    from google.colab import drive\n",
    "    drive.mount('/content/drive/')\n",
    "\n",
    "    # carpeta donde se encuentran archivos .py auxiliares\n",
    "    FUENTES_DIR = '/content/drive/MyDrive/Colab Notebooks/FUENTES/'\n",
    "    DATOS_DIR = '/content/drive/MyDrive/Colab Notebooks/DATOS/'      # carpeta donde se encuentran los datasets\n",
    "else:\n",
    "    # configuración para notebook con instalación LOCAL\n",
    "    FUENTES_DIR = '../../Fuentes'         # carpeta donde se encuentran archivos .py auxiliares\n",
    "    DATOS_DIR   = '../../Data_Sets/p2/' # carpeta donde se encuentran los datasets\n",
    "\n",
    "# agrega ruta de busqueda donde tenemos archivos .py\n",
    "import sys\n",
    "sys.path.append(FUENTES_DIR)\n",
    "\n",
    "%matplotlib inline\n",
    "import numpy as np\n",
    "import pandas as pd\n",
    "from matplotlib import pylab as plt\n",
    "from IPython import display\n",
    "from ClassPerceptron import Perceptron\n",
    "from sklearn import preprocessing\n",
    "import grafica as gr"
   ]
  },
  {
   "cell_type": "markdown",
   "id": "a25f6a5c",
   "metadata": {},
   "source": [
    "# Ejercicio 1"
   ]
  },
  {
   "cell_type": "code",
   "execution_count": 22,
   "id": "f454cf4c",
   "metadata": {},
   "outputs": [
    {
     "name": "stdout",
     "output_type": "stream",
     "text": [
      "['Año', 'Especie', 'Ala', 'Peso', 'Cola', 'Hallux']\n"
     ]
    }
   ],
   "source": [
    "data_hawks = pd.read_csv(DATOS_DIR + \"hawks.csv\",sep=\";\", encoding=\"latin1\")\n",
    "#quiero ver los tipos de datos que hay en cada columna\n",
    "data_hawks.dtypes\n",
    "print(data_hawks.columns.tolist())\n"
   ]
  },
  {
   "cell_type": "markdown",
   "id": "5fd7782c",
   "metadata": {},
   "source": [
    "## a) \n",
    " Calcule la correlación lineal entre los atributos Ala y Cola. Indique la intensidad de la correlación (no hay correlación/débil/fuerte) y el tipo (positiva/negativa)"
   ]
  },
  {
   "cell_type": "code",
   "execution_count": 23,
   "id": "04190608",
   "metadata": {},
   "outputs": [
    {
     "data": {
      "image/png": "[encoded data removed]",
      "text/plain": [
       "<Figure size 640x480 with 1 Axes>"
      ]
     },
     "metadata": {},
     "output_type": "display_data"
    },
    {
     "name": "stdout",
     "output_type": "stream",
     "text": [
      "Coeficiente de correlación: 0.8998883674343952\n"
     ]
    }
   ],
   "source": [
    "# Diagrama de dispersión Cola vs Ala\n",
    "plt.plot(data_hawks['Cola'], data_hawks['Ala'], 'ob')\n",
    "plt.xlabel('Cola')\n",
    "plt.ylabel('Ala')\n",
    "plt.title('Diagrama de dispersión')\n",
    "plt.show()\n",
    "\n",
    "# Correlación entre ambas\n",
    "correlacion1 = data_hawks['Cola'].corr(data_hawks['Ala'])\n",
    "print(\"Coeficiente de correlación:\", correlacion1)\n"
   ]
  },
  {
   "cell_type": "markdown",
   "id": "d4bc43f2",
   "metadata": {},
   "source": [
    "### Tiene coeficiente de correlacion positivo de tipo fuerte"
   ]
  },
  {
   "cell_type": "markdown",
   "id": "90f384e0",
   "metadata": {},
   "source": [
    "## b)\n",
    "Complete el cuadro con los valores del atributo Hallux antes y después de normalizarlos utilizando media y desvío.\n",
    "\n",
    "| **Medida** | **Sin Normalizar** | **Normalizado** |\n",
    "|:----------:|:------------------:|:---------------:|\n",
    "|   Máximo   |                    |                 |\n",
    "|     Q1     |                    |                 |\n",
    "|   Mínimo   |                    |                 |\n",
    "|       Q2        |         | \n",
    "|       Q3        |         |     |\n",
    "|       RIC       |         |   |\n",
    "| Bigote Inferior |         |   |\n",
    "| Bigote Superior |         |  |"
   ]
  },
  {
   "cell_type": "code",
   "execution_count": 36,
   "id": "d9bd460a",
   "metadata": {},
   "outputs": [
    {
     "name": "stdout",
     "output_type": "stream",
     "text": [
      "Valor máximo sin normalizar: 3414\n",
      "Valor máximo normalizado: 9.716759278095767\n",
      "Valor mínimo sin normalizar: 95\n",
      "Valor mínimo normalizado: -0.6123773075584721\n",
      "Q1 sin normalizar:  152.0\n",
      "Q1 normalizado:  -0.43498629057073734\n",
      "Q2 sin normalizar:  295.0\n",
      "Q2 normalizado:  0.01004731345112351\n",
      "Q3 sin normalizar:  315.0\n",
      "Q3 normalizado:  0.07228977555208307\n",
      "RIC sin normalizar:  163.0\n",
      "RIC normalizado:  0.5072760661228204\n",
      "Bigote superior sin normalizar:  559.5\n",
      "Bigote superior normalizado:  0.8332038747363136\n",
      "Bigote inferior sin normalizar:  -92.5\n",
      "Bigote inferior normalizado:  -1.1959003897549678\n"
     ]
    }
   ],
   "source": [
    "NormalizedData_hawks = (data_hawks['Hallux'] - data_hawks['Hallux'].mean()) / data_hawks['Hallux'].std()\n",
    "normal_max = data_hawks.max()\n",
    "normalized_max = NormalizedData_hawks.max()\n",
    "print(\"Valor máximo sin normalizar:\", normal_max['Hallux'])\n",
    "print(\"Valor máximo normalizado:\", normalized_max)\n",
    "normalized_min = NormalizedData_hawks.min()\n",
    "normal_min = data_hawks.min()\n",
    "print(\"Valor mínimo sin normalizar:\", normal_min['Hallux'])\n",
    "print(\"Valor mínimo normalizado:\", normalized_min)\n",
    "print(\"Q1 sin normalizar: \", data_hawks['Hallux'].quantile(0.25))\n",
    "print(\"Q1 normalizado: \", NormalizedData_hawks.quantile(0.25))\n",
    "print(\"Q2 sin normalizar: \", data_hawks['Hallux'].quantile(0.5))\n",
    "print(\"Q2 normalizado: \", NormalizedData_hawks.quantile(0.5))\n",
    "print(\"Q3 sin normalizar: \", data_hawks['Hallux'].quantile(0.75))\n",
    "print(\"Q3 normalizado: \", NormalizedData_hawks.quantile(0.75))\n",
    "normal_RIC = data_hawks['Hallux'].quantile(0.75) - data_hawks['Hallux'].quantile(0.25)\n",
    "normalized_RIC = NormalizedData_hawks.quantile(0.75) - NormalizedData_hawks.quantile(0.25)\n",
    "print(\"RIC sin normalizar: \", normal_RIC)\n",
    "print(\"RIC normalizado: \", normalized_RIC)\n",
    "Bigote_superior_normal = data_hawks['Hallux'].quantile(0.75) + 1.5 * normal_RIC\n",
    "Bigote_superior_normalized = NormalizedData_hawks.quantile(0.75) + 1.5 * normalized_RIC\n",
    "print(\"Bigote superior sin normalizar: \", Bigote_superior_normal)\n",
    "print(\"Bigote superior normalizado: \", Bigote_superior_normalized)\n",
    "Bigote_inferior_normal = data_hawks['Hallux'].quantile(0.25) - 1.5 * normal_RIC\n",
    "Bigote_inferior_normalized = NormalizedData_hawks.quantile(0.25) - 1.5 * normalized_RIC\n",
    "print(\"Bigote inferior sin normalizar: \", Bigote_inferior_normal)\n",
    "print(\"Bigote inferior normalizado: \", Bigote_inferior_normalized)\n"
   ]
  },
  {
   "cell_type": "markdown",
   "id": "11ed404c",
   "metadata": {},
   "source": [
    "### I. Verdadero ya que el valor es cercano a 0\n",
    "### II. Verdadero ya que el max_normalizado = 9.71\n",
    "### III. Falso, deberia ser mayor a 804mm\n",
    "### IV. Falso\n",
    "### V. No, no es atipico, el bigote minimo normal llega a 92.5"
   ]
  },
  {
   "cell_type": "markdown",
   "id": "eb40b3f9",
   "metadata": {},
   "source": [
    "# Ejercicio 2"
   ]
  },
  {
   "cell_type": "code",
   "execution_count": 53,
   "id": "06ff9023",
   "metadata": {},
   "outputs": [
    {
     "name": "stdout",
     "output_type": "stream",
     "text": [
      "['Color', 'Tamanio', 'Se_estira?', 'Edad', 'Inflado?']\n"
     ]
    }
   ],
   "source": [
    "data_globos = pd.read_csv(DATOS_DIR + \"globos.csv\",sep=\",\")\n",
    "data_globos.dtypes\n",
    "print(data_globos.columns.tolist())"
   ]
  },
  {
   "cell_type": "code",
   "execution_count": 54,
   "id": "93f59f6f",
   "metadata": {},
   "outputs": [
    {
     "name": "stderr",
     "output_type": "stream",
     "text": [
      "/tmp/ipykernel_22701/1068244996.py:20: FutureWarning: Downcasting behavior in `replace` is deprecated and will be removed in a future version. To retain the old behavior, explicitly call `result.infer_objects(copy=False)`. To opt-in to the future behavior, set `pd.set_option('future.no_silent_downcasting', True)`\n",
      "  data_globos.replace(tamanioMap, inplace=True)\n"
     ]
    },
    {
     "data": {
      "text/html": [
       "<div>\n",
       "<style scoped>\n",
       "    .dataframe tbody tr th:only-of-type {\n",
       "        vertical-align: middle;\n",
       "    }\n",
       "\n",
       "    .dataframe tbody tr th {\n",
       "        vertical-align: top;\n",
       "    }\n",
       "\n",
       "    .dataframe thead th {\n",
       "        text-align: right;\n",
       "    }\n",
       "</style>\n",
       "<table border=\"1\" class=\"dataframe\">\n",
       "  <thead>\n",
       "    <tr style=\"text-align: right;\">\n",
       "      <th></th>\n",
       "      <th>Inflado?_Si</th>\n",
       "      <th>Edad_Adulto</th>\n",
       "      <th>Se_estira?_Si</th>\n",
       "      <th>Color_Rojo</th>\n",
       "      <th>Tamanio</th>\n",
       "    </tr>\n",
       "  </thead>\n",
       "  <tbody>\n",
       "    <tr>\n",
       "      <th>0</th>\n",
       "      <td>1</td>\n",
       "      <td>1</td>\n",
       "      <td>1</td>\n",
       "      <td>0</td>\n",
       "      <td>0.0</td>\n",
       "    </tr>\n",
       "    <tr>\n",
       "      <th>1</th>\n",
       "      <td>1</td>\n",
       "      <td>0</td>\n",
       "      <td>1</td>\n",
       "      <td>0</td>\n",
       "      <td>0.0</td>\n",
       "    </tr>\n",
       "    <tr>\n",
       "      <th>2</th>\n",
       "      <td>0</td>\n",
       "      <td>1</td>\n",
       "      <td>0</td>\n",
       "      <td>0</td>\n",
       "      <td>0.0</td>\n",
       "    </tr>\n",
       "    <tr>\n",
       "      <th>3</th>\n",
       "      <td>0</td>\n",
       "      <td>0</td>\n",
       "      <td>0</td>\n",
       "      <td>0</td>\n",
       "      <td>0.0</td>\n",
       "    </tr>\n",
       "    <tr>\n",
       "      <th>4</th>\n",
       "      <td>1</td>\n",
       "      <td>1</td>\n",
       "      <td>1</td>\n",
       "      <td>0</td>\n",
       "      <td>1.0</td>\n",
       "    </tr>\n",
       "    <tr>\n",
       "      <th>5</th>\n",
       "      <td>1</td>\n",
       "      <td>0</td>\n",
       "      <td>1</td>\n",
       "      <td>0</td>\n",
       "      <td>1.0</td>\n",
       "    </tr>\n",
       "    <tr>\n",
       "      <th>6</th>\n",
       "      <td>0</td>\n",
       "      <td>1</td>\n",
       "      <td>0</td>\n",
       "      <td>0</td>\n",
       "      <td>0.5</td>\n",
       "    </tr>\n",
       "    <tr>\n",
       "      <th>7</th>\n",
       "      <td>0</td>\n",
       "      <td>0</td>\n",
       "      <td>0</td>\n",
       "      <td>0</td>\n",
       "      <td>0.5</td>\n",
       "    </tr>\n",
       "    <tr>\n",
       "      <th>8</th>\n",
       "      <td>1</td>\n",
       "      <td>1</td>\n",
       "      <td>1</td>\n",
       "      <td>1</td>\n",
       "      <td>0.0</td>\n",
       "    </tr>\n",
       "    <tr>\n",
       "      <th>9</th>\n",
       "      <td>0</td>\n",
       "      <td>0</td>\n",
       "      <td>1</td>\n",
       "      <td>1</td>\n",
       "      <td>0.0</td>\n",
       "    </tr>\n",
       "    <tr>\n",
       "      <th>10</th>\n",
       "      <td>0</td>\n",
       "      <td>1</td>\n",
       "      <td>0</td>\n",
       "      <td>1</td>\n",
       "      <td>0.5</td>\n",
       "    </tr>\n",
       "    <tr>\n",
       "      <th>11</th>\n",
       "      <td>0</td>\n",
       "      <td>0</td>\n",
       "      <td>0</td>\n",
       "      <td>1</td>\n",
       "      <td>0.5</td>\n",
       "    </tr>\n",
       "    <tr>\n",
       "      <th>12</th>\n",
       "      <td>1</td>\n",
       "      <td>1</td>\n",
       "      <td>1</td>\n",
       "      <td>1</td>\n",
       "      <td>1.0</td>\n",
       "    </tr>\n",
       "    <tr>\n",
       "      <th>13</th>\n",
       "      <td>0</td>\n",
       "      <td>0</td>\n",
       "      <td>1</td>\n",
       "      <td>1</td>\n",
       "      <td>1.0</td>\n",
       "    </tr>\n",
       "    <tr>\n",
       "      <th>14</th>\n",
       "      <td>0</td>\n",
       "      <td>1</td>\n",
       "      <td>0</td>\n",
       "      <td>1</td>\n",
       "      <td>1.0</td>\n",
       "    </tr>\n",
       "    <tr>\n",
       "      <th>15</th>\n",
       "      <td>0</td>\n",
       "      <td>0</td>\n",
       "      <td>0</td>\n",
       "      <td>1</td>\n",
       "      <td>1.0</td>\n",
       "    </tr>\n",
       "  </tbody>\n",
       "</table>\n",
       "</div>"
      ],
      "text/plain": [
       "    Inflado?_Si  Edad_Adulto  Se_estira?_Si  Color_Rojo  Tamanio\n",
       "0             1            1              1           0      0.0\n",
       "1             1            0              1           0      0.0\n",
       "2             0            1              0           0      0.0\n",
       "3             0            0              0           0      0.0\n",
       "4             1            1              1           0      1.0\n",
       "5             1            0              1           0      1.0\n",
       "6             0            1              0           0      0.5\n",
       "7             0            0              0           0      0.5\n",
       "8             1            1              1           1      0.0\n",
       "9             0            0              1           1      0.0\n",
       "10            0            1              0           1      0.5\n",
       "11            0            0              0           1      0.5\n",
       "12            1            1              1           1      1.0\n",
       "13            0            0              1           1      1.0\n",
       "14            0            1              0           1      1.0\n",
       "15            0            0              0           1      1.0"
      ]
     },
     "execution_count": 54,
     "metadata": {},
     "output_type": "execute_result"
    }
   ],
   "source": [
    "#mapeo = {\"Color\": {\"Amarillo\": 0, \"Rojo\": 1}, \"Se_estira?\": {\"No\": 0, \"Si\": 1},\n",
    "#\"Edad\": {\"Adulto\": 1, \"Nene\": 0}, \"Tamanio\": {\"Chico\": 0, \"Grande\": 1, \"Mediano\": 0.5}}\n",
    "\n",
    "#data_globos.replace(mapeo, inplace=True)\n",
    "# Color\n",
    "NewColorColumn = pd.get_dummies(data_globos['Color'], prefix= 'Color', drop_first=True).astype(int)\n",
    "\n",
    "data_globos = pd.concat([NewColorColumn, data_globos], axis=1)\n",
    "data_globos.drop(['Color'],axis=1, inplace=True)\n",
    "\n",
    "\n",
    "# Tamanio\n",
    "tamanioMap ={\n",
    "\t\"Tamanio\": {\n",
    "\t\t\"Chico\": 0,\n",
    "\t\t\"Mediano\": 0.5,\n",
    "\t\t\"Grande\": 1\n",
    "\t}\n",
    "}\n",
    "data_globos.replace(tamanioMap, inplace=True)\n",
    "\n",
    "# SeEstira?\n",
    "NewSeEstiraColumn = pd.get_dummies(data_globos['Se_estira?'], prefix= 'Se_estira?', drop_first=True).astype(int)\n",
    "data_globos = pd.concat([NewSeEstiraColumn, data_globos], axis=1)\n",
    "data_globos.drop(['Se_estira?'],axis=1, inplace=True)\n",
    "\n",
    "# Edad\n",
    "NewEdadColumn = pd.get_dummies(data_globos['Edad'], prefix= 'Edad', drop_first=False).astype(int)\n",
    "NewEdadColumn.drop('Edad_Nene', axis=1, inplace=True)\n",
    "data_globos = pd.concat([NewEdadColumn, data_globos], axis=1)\n",
    "data_globos.drop(['Edad'],axis=1, inplace=True)\n",
    "\n",
    "# Inflado?: Si bien no lo pide lo voy a necesitar para entrenar el perceptron\n",
    "NewInfladoColumn = pd.get_dummies(data_globos['Inflado?'], prefix= 'Inflado?', drop_first=True).astype(int)\n",
    "data_globos = pd.concat([NewInfladoColumn, data_globos], axis=1)\n",
    "data_globos.drop(['Inflado?'],axis=1, inplace=True)\n",
    "\n",
    "data_globos"
   ]
  },
  {
   "cell_type": "markdown",
   "id": "6f3dfad6",
   "metadata": {},
   "source": [
    "## a)\n",
    " Indique cuáles de los siguientes perceptrones pueden clasificar correctamente todos los ejemplos normalizados del archivo Globos.csv\n",
    "\n",
    "| Configuración | w(Color) | w(Tamaño) | w(Se_estira?) | w(Edad) | b       |\n",
    "|---------------|----------|-----------|---------------|---------|---------|\n",
    "| Perceptrón 1  | 0.050    | 0.006     | -0.068        | -0.047  | 0.005   |\n",
    "| Perceptrón 2  | -0.494   | -0.003    | 0.722         | 0.489   | -0.4943 |\n",
    "| Perceptrón 3  | 0.060    | 0.004     | 0.1278        | 0.021   | -0.1132 |\n",
    "| Perceptrón 4  | 0.296    | 0.026     | -0.576        | -0.287  | 0.371   |\n",
    "| Perceptrón 5  | 0.994    | 0.006     | -1.466        | -0.989  | 0.988   |\n",
    "\n"
   ]
  },
  {
   "cell_type": "code",
   "execution_count": 59,
   "id": "9532636a",
   "metadata": {},
   "outputs": [
    {
     "name": "stdout",
     "output_type": "stream",
     "text": [
      "Perceptron 1: 10 errores de 16 ejemplos.\n",
      "Perceptron 2: 8 errores de 16 ejemplos.\n",
      "Perceptron 3: 10 errores de 16 ejemplos.\n",
      "Perceptron 4: 6 errores de 16 ejemplos.\n",
      "Perceptron 5: 8 errores de 16 ejemplos.\n"
     ]
    }
   ],
   "source": [
    "perceptrons = [\n",
    "    {\n",
    "        \"w_color\": 0.050,\n",
    "        \"w_tamanio\": 0.006,\n",
    "        \"w_se_estira\": -0.068,\n",
    "        \"w_edad\": -0.047,\n",
    "        \"b\": 0.005\n",
    "    },\n",
    "    {\n",
    "        \"w_color\": -0.494,\n",
    "        \"w_tamanio\": -0.003,\n",
    "        \"w_se_estira\": 0.722,\n",
    "        \"w_edad\": 0.489,\n",
    "        \"b\": -0.4943\n",
    "    },\n",
    "    {\n",
    "        \"w_color\": 0.06,\n",
    "        \"w_tamanio\": 0.004,\n",
    "        \"w_se_estira\": 0.1278,\n",
    "        \"w_edad\": 0.021,\n",
    "        \"b\": -0.1132\n",
    "    },\n",
    "    {\n",
    "        \"w_color\": 0.296,\n",
    "        \"w_tamanio\": 0.026,\n",
    "        \"w_se_estira\": -0.576,\n",
    "        \"w_edad\": -0.287,\n",
    "        \"b\": 0.371\n",
    "    },\n",
    "    {\n",
    "        \"w_color\": 0.994,\n",
    "        \"w_tamanio\": 0.006,\n",
    "        \"w_se_estira\": -1.466,\n",
    "        \"w_edad\": -0.989,\n",
    "        \"b\": 0.988\n",
    "    }\n",
    "]\n",
    "\n",
    "for i, p in enumerate(perceptrons):\n",
    "    incorrect = 0\n",
    "    for idx, row in data_globos.iterrows():\n",
    "        z = (p[\"w_color\"] * row[\"Color_Rojo\"] +\n",
    "\t\t\tp[\"w_tamanio\"] * row[\"Tamanio\"] +\n",
    "\t\t\tp[\"w_se_estira\"] * row[\"Se_estira?_Si\"] +\n",
    "\t\t\tp[\"w_edad\"] * row[\"Edad_Adulto\"] -\n",
    "\t\t\tp[\"b\"])\n",
    "        a = 1 if (z >= 0) else 0\n",
    "        data_globos.at[idx, f'Perceptron_{i+1}'] = a\n",
    "        if a != row[\"Inflado?_Si\"]:\n",
    "            incorrect += 1\n",
    "    print(f\"Perceptron {i+1}: {incorrect} errores de {len(data_globos)} ejemplos.\")\n",
    "\n",
    "# Ninguno clasifica todo correctamente, pero el que menos errores tiene es el perceptron 4 con 6 errores."
   ]
  },
  {
   "cell_type": "markdown",
   "id": "4646868d",
   "metadata": {},
   "source": [
    "## b)\n",
    "### Los peores perceptrones son el 1 y el 3"
   ]
  },
  {
   "cell_type": "markdown",
   "id": "09e86ff5",
   "metadata": {},
   "source": [
    "# Ejercicio 3"
   ]
  },
  {
   "cell_type": "markdown",
   "id": "95c3bb85",
   "metadata": {},
   "source": [
    "## a)\n",
    " La Tabla 1 muestra información correspondiente de pacientes para determinar si deben realizarse un examen médico en función de su edad, altura y riesgo médico.\n",
    "| EDAD | RIESGO | EXAMEN |\n",
    "|------|--------|--------|\n",
    "| 55   | ALTO   | SI     |\n",
    "| 56   | MEDIO  | NO     |\n",
    "| 58   | MEDIO  | SI     |\n",
    "| 56   | BAJO   | NO     |\n",
    "| 59   | BAJO   | SI     |\n",
    "| 57   | MEDIO  | SI     |\n",
    "| 60   | BAJO   | SI     |\n",
    "| 53   | ALTO   | NO     |\n",
    "| 59   | MEDIO  | SI     |\n",
    "\n",
    " Luego de la numerización se calculó el coeficiente de correlación lineal entre los atributos EDAD y RIESGO y se obtuvo como resultado -0.71. ¿Cómo debe interpretarse este valor?\n",
    "### Rta: Este valor se puede interpretar como que a medida que la edad aumenta el riesgo disminuye, siguiendo una relación lineal débil."
   ]
  },
  {
   "cell_type": "markdown",
   "id": "65aafa5f",
   "metadata": {},
   "source": [
    "## b)\n",
    " Luego de numerizar el atributo RIESGO y de normalizar los atributos de manera lineal entre 0 y 1, los ejemplos fueron utilizados para entrenar un perceptrón capaz de predecir correctamente el atributo EXAMEN. Los pesos obtenidos fueron los siguientes:\n",
    "\n",
    "### W(EDAD) = 0.0807 W(RIESGO) = 0.074 Sesgo o bias = -0.0742\n",
    "\n",
    " ¿Cuál será la respuesta del perceptrón para los siguientes valores?\n",
    "\n",
    "### (EDAD, RIESGO) = (50, BAJO), (51, MEDIO), (54, ALTO)"
   ]
  },
  {
   "cell_type": "code",
   "execution_count": 64,
   "id": "4b8a7349",
   "metadata": {},
   "outputs": [
    {
     "name": "stdout",
     "output_type": "stream",
     "text": [
      "Para (Edad=51, Riesgo=2) => EXAMEN = 1\n",
      "Para (Edad=50, Riesgo=1) => EXAMEN = 1\n",
      "Para (Edad=54, Riesgo=3) => EXAMEN = 1\n"
     ]
    }
   ],
   "source": [
    "perceptron = {\n",
    "\t\"w_edad\": 0.0807,\n",
    "\t\"w_riesgo\": -0.074,\n",
    "\t\"bias\": -0.0742\n",
    "}\n",
    "ejemplos = [\n",
    "    {\"Edad\": 51, \"Riesgo\": 2},\n",
    "    {\"Edad\": 50, \"Riesgo\": 1},\n",
    "    {\"Edad\": 54, \"Riesgo\": 3}\n",
    "]\n",
    "for ej in ejemplos:\n",
    "    z = (perceptron[\"w_edad\"] * ej[\"Edad\"] +\n",
    "            perceptron[\"w_riesgo\"] * ej[\"Riesgo\"] +\n",
    "            perceptron[\"bias\"])\n",
    "    a = 1 if (z >= 0) else 0\n",
    "    print(f\"Para (Edad={ej['Edad']}, Riesgo={ej['Riesgo']}) => EXAMEN = {a}\")"
   ]
  },
  {
   "cell_type": "markdown",
   "id": "b1c4ac10",
   "metadata": {},
   "source": [
    "# Ejercicio 4"
   ]
  },
  {
   "cell_type": "markdown",
   "id": "85d567d6",
   "metadata": {},
   "source": [
    "## a)\n",
    "Utilice el archivo *drug_train.csv* para entrenar un perceptrón que sea capaz de predecir si el tipo de\n",
    "fármaco que se debe administrar a un paciente afectado de rinitis alérgica es el habitual (suministro de DrugY) o no."
   ]
  },
  {
   "cell_type": "code",
   "execution_count": 65,
   "id": "54e6610d",
   "metadata": {},
   "outputs": [
    {
     "name": "stdout",
     "output_type": "stream",
     "text": [
      "['Age', 'Sex', 'BP', 'Cholesterol', 'Na', 'K', 'Drug']\n"
     ]
    }
   ],
   "source": [
    "data_drugs_train = pd.read_csv(DATOS_DIR + \"drugs_train.csv\",sep=\",\")\n",
    "data_drugs_train.dtypes\n",
    "print(data_drugs_train.columns.tolist())"
   ]
  },
  {
   "cell_type": "code",
   "execution_count": 75,
   "id": "78491b56",
   "metadata": {},
   "outputs": [
    {
     "name": "stdout",
     "output_type": "stream",
     "text": [
      "Pesos: [  2.467022   -12.97967551  -1.69988563   1.80233257], Bias: 14.946755890817192\n"
     ]
    }
   ],
   "source": [
    "def label_encoding_preprocess_data(data: pd.DataFrame) -> pd.DataFrame:\n",
    "    data = data.copy()  # Evita modificar el DataFrame original\n",
    "\n",
    "    # Codificación one-hot para 'Sex'\n",
    "    NewSexColumn = pd.get_dummies(\n",
    "        data['Sex'], prefix='Sex', drop_first=True\n",
    "    ).astype(int)\n",
    "    data = pd.concat([NewSexColumn, data], axis=1)\n",
    "    data.drop(['Sex'], axis=1, inplace=True)\n",
    "\n",
    "    # Mapeo de valores para BP y Cholesterol\n",
    "    Mapeo = {\n",
    "        \"BP\": {\"LOW\": 0, \"NORMAL\": 1, \"HIGH\": 2},\n",
    "        \"Cholesterol\": {\"NORMAL\": 0, \"HIGH\": 1}\n",
    "    }\n",
    "    data.replace(Mapeo, inplace=True)\n",
    "\n",
    "    return data\n",
    "\n",
    "# Preprocesar datos\n",
    "preprocessed_data = label_encoding_preprocess_data(data_drugs_train)\n",
    "\n",
    "# Preparar datos para el Perceptrón\n",
    "X_train = preprocessed_data[['Age', 'Sex_M', 'BP', 'Cholesterol']].values\n",
    "Y_train = (preprocessed_data[\"Drug\"] == \"drugY\").astype(int)\n",
    "\n",
    "# Entrenar Perceptrón\n",
    "ppn = Perceptron(alpha=0.05, n_iter=100, random_state=1)\n",
    "ppn.fit(X_train, Y_train)\n",
    "\n",
    "print(f\"Pesos: {ppn.w_}, Bias: {ppn.b_}\")"
   ]
  },
  {
   "cell_type": "markdown",
   "id": "23e24a0e",
   "metadata": {},
   "source": [
    "## b) \n",
    "Luego utilice el archivo drug_test.csv para medir la calidad del modelo."
   ]
  },
  {
   "cell_type": "code",
   "execution_count": 84,
   "id": "ce1aa910",
   "metadata": {},
   "outputs": [
    {
     "name": "stdout",
     "output_type": "stream",
     "text": [
      "Efectividad del perceptrón en el conjunto de prueba: 45.00%\n"
     ]
    },
    {
     "name": "stderr",
     "output_type": "stream",
     "text": [
      "/tmp/ipykernel_22701/1992735514.py:16: FutureWarning: Downcasting behavior in `replace` is deprecated and will be removed in a future version. To retain the old behavior, explicitly call `result.infer_objects(copy=False)`. To opt-in to the future behavior, set `pd.set_option('future.no_silent_downcasting', True)`\n",
      "  data.replace(Mapeo, inplace=True)\n"
     ]
    }
   ],
   "source": [
    "data_drugs_test = pd.read_csv(DATOS_DIR + \"drugs_test.csv\",sep=\",\")\n",
    "data_drugs_test.dtypes\n",
    "preprocessed_test_data = label_encoding_preprocess_data(data_drugs_test)\n",
    "X_test = preprocessed_test_data[['Age', 'Sex_M', 'BP', 'Cholesterol']].values\n",
    "Y = ppn.predict(X_test)\n",
    "T_test = (preprocessed_test_data[\"Drug\"] == \"drugY\").astype(int)\n",
    "efectividad = 100.0*np.sum(Y==T_test)/len(Y)\n",
    "print(f\"Efectividad del perceptrón en el conjunto de prueba: {efectividad:.2f}%\")"
   ]
  },
  {
   "cell_type": "markdown",
   "id": "dd2c40d5",
   "metadata": {},
   "source": [
    "## c)\n",
    "Resuelva el problema:\n",
    "\n",
    "● Numerizando los atributos ordinales utilizando dos representaciones diferentes: como entero único\n",
    "y de manera binaria (dummy).\n",
    "\n",
    "● Normalizando de diferentes formas: Sin normalizar, normalización lineal, normalización con media y\n",
    "desvío"
   ]
  },
  {
   "cell_type": "markdown",
   "id": "15920496",
   "metadata": {},
   "source": [
    "### Numerizacion como entero (mapeo)"
   ]
  },
  {
   "cell_type": "code",
   "execution_count": 89,
   "id": "6a1f7f5f",
   "metadata": {},
   "outputs": [
    {
     "name": "stdout",
     "output_type": "stream",
     "text": [
      "Efectividad del perceptrón con normalización lineal en el conjunto de prueba: 45.00%\n",
      "Efectividad del perceptrón con normalización media y desvío en el conjunto de prueba: 42.50%\n"
     ]
    }
   ],
   "source": [
    "#la numerizacion entera la hice en el inciso anterior \n",
    "#Normalizacion lineal\n",
    "X_train_lin = (X_train - X_train.min(axis=0)) / (X_train.max(axis=0) - X_train.min(axis=0))\n",
    "X_test_lin = (X_test - X_train.min(axis=0)) / (X_train.max(axis=0) - X_train.min(axis=0))\n",
    "ppn.fit(X_train_lin, Y_train)\n",
    "Y_lin = ppn.predict(X_test_lin)\n",
    "efectividad_lin = 100.0*np.sum(Y_lin==T_test)/len(Y_lin)\n",
    "print(f\"Efectividad del perceptrón con normalización lineal en el conjunto de prueba: {efectividad_lin:.2f}%\")\n",
    "\n",
    "# Normalización con media y desvío\n",
    "X_train_std = (X_train - X_train.mean(axis=0)) / X_train.std(axis=0)\n",
    "X_test_std = (X_test - X_train.mean(axis=0)) / X_train.std(axis=0)\n",
    "ppn.fit(X_train_std, Y_train)\n",
    "Y_std = ppn.predict(X_test_std)\n",
    "efectividad_std = 100.0*np.sum(Y_std==T_test)/len(Y_std)\n",
    "print(f\"Efectividad del perceptrón con normalización media y desvío en el conjunto de prueba: {efectividad_std:.2f}%\")"
   ]
  },
  {
   "cell_type": "markdown",
   "id": "99fba9f5",
   "metadata": {},
   "source": [
    "### Numerizacion de manera binaria"
   ]
  },
  {
   "cell_type": "code",
   "execution_count": 96,
   "id": "838048ec",
   "metadata": {},
   "outputs": [
    {
     "name": "stdout",
     "output_type": "stream",
     "text": [
      "Efectividad del perceptrón sin normalizar en el conjunto de prueba: 45.00%\n",
      "Efectividad del perceptrón con normalización lineal en el conjunto de prueba: 55.00%\n",
      "Efectividad del perceptrón con normalización media y desvío en el conjunto de prueba: 55.00%\n"
     ]
    },
    {
     "name": "stderr",
     "output_type": "stream",
     "text": [
      "/tmp/ipykernel_22701/1478806220.py:31: RuntimeWarning: invalid value encountered in divide\n",
      "  X_train_lin = (X_train - X_train.min(axis=0)) / (X_train.max(axis=0) - X_train.min(axis=0))\n",
      "/tmp/ipykernel_22701/1478806220.py:32: RuntimeWarning: divide by zero encountered in divide\n",
      "  X_test_lin = (X_test - X_train.min(axis=0)) / (X_train.max(axis=0) - X_train.min(axis=0))\n",
      "/tmp/ipykernel_22701/1478806220.py:32: RuntimeWarning: invalid value encountered in divide\n",
      "  X_test_lin = (X_test - X_train.min(axis=0)) / (X_train.max(axis=0) - X_train.min(axis=0))\n",
      "/tmp/ipykernel_22701/1478806220.py:39: RuntimeWarning: invalid value encountered in divide\n",
      "  X_train_std = (X_train - X_train.mean(axis=0)) / X_train.std(axis=0)\n",
      "/tmp/ipykernel_22701/1478806220.py:40: RuntimeWarning: divide by zero encountered in divide\n",
      "  X_test_std = (X_test - X_train.mean(axis=0)) / X_train.std(axis=0)\n",
      "/tmp/ipykernel_22701/1478806220.py:40: RuntimeWarning: invalid value encountered in divide\n",
      "  X_test_std = (X_test - X_train.mean(axis=0)) / X_train.std(axis=0)\n"
     ]
    }
   ],
   "source": [
    "def one_hot_preprocess_data(train: pd.DataFrame, test: pd.DataFrame):\n",
    "    data = pd.concat([train, test], axis=0)  # unir filas\n",
    "    categorical_cols = ['Sex', 'BP', 'Cholesterol']\n",
    "    dummies = pd.get_dummies(data[categorical_cols], drop_first=False).astype(int)\n",
    "    data = data.drop(columns=categorical_cols)\n",
    "    data = pd.concat([dummies, data], axis=1)\n",
    "\n",
    "    # separar nuevamente en train y test\n",
    "    train_oh = data.iloc[:len(train), :].copy()\n",
    "    test_oh  = data.iloc[len(train):, :].copy()\n",
    "    return train_oh, test_oh\n",
    "\n",
    "train_data_oh, test_data_oh = one_hot_preprocess_data(data_drugs_train, data_drugs_test)\n",
    "\n",
    "# --- Definir X y T ---\n",
    "X_train = train_data_oh.drop(columns=['Drug']).values\n",
    "Y_train = (train_data_oh[\"Drug\"] == \"drugY\").astype(int)\n",
    "\n",
    "X_test = test_data_oh.drop(columns=['Drug']).values\n",
    "T_test = (test_data_oh[\"Drug\"] == \"drugY\").astype(int)\n",
    "\n",
    "ppn = Perceptron(alpha=0.05, n_iter=100, random_state=1)\n",
    "\n",
    "#Sin normalizar\n",
    "ppn.fit(X_train, Y_train)\n",
    "Y = ppn.predict(X_test)\n",
    "efectividad = 100.0*np.sum(Y==T_test)/len(Y)\n",
    "print(f\"Efectividad del perceptrón sin normalizar en el conjunto de prueba: {efectividad:.2f}%\")\n",
    "\n",
    "#normalización lineal\n",
    "X_train_lin = (X_train - X_train.min(axis=0)) / (X_train.max(axis=0) - X_train.min(axis=0))\n",
    "X_test_lin = (X_test - X_train.min(axis=0)) / (X_train.max(axis=0) - X_train.min(axis=0))\n",
    "ppn.fit(X_train_lin, Y_train)\n",
    "Y_lin = ppn.predict(X_test_lin)\n",
    "efectividad_lin = 100.0*np.sum(Y_lin==T_test)/len(Y_lin)\n",
    "print(f\"Efectividad del perceptrón con normalización lineal en el conjunto de prueba: {efectividad_lin:.2f}%\")\n",
    "\n",
    "# Normalización con media y desvío\n",
    "X_train_std = (X_train - X_train.mean(axis=0)) / X_train.std(axis=0)\n",
    "X_test_std = (X_test - X_train.mean(axis=0)) / X_train.std(axis=0)\n",
    "ppn.fit(X_train_std, Y_train)\n",
    "Y_std = ppn.predict(X_test_std)\n",
    "efectividad_std = 100.0*np.sum(Y_std==T_test)/len(Y_std)\n",
    "print(f\"Efectividad del perceptrón con normalización media y desvío en el conjunto de prueba: {efectividad_std:.2f}%\")"
   ]
  },
  {
   "cell_type": "code",
   "execution_count": 99,
   "id": "e6dd5385",
   "metadata": {},
   "outputs": [
    {
     "ename": "ValueError",
     "evalue": "shapes (40,10) and (7,) not aligned: 10 (dim 1) != 7 (dim 0)",
     "output_type": "error",
     "traceback": [
      "\u001b[31m---------------------------------------------------------------------------\u001b[39m",
      "\u001b[31mValueError\u001b[39m                                Traceback (most recent call last)",
      "\u001b[36mCell\u001b[39m\u001b[36m \u001b[39m\u001b[32mIn[99]\u001b[39m\u001b[32m, line 22\u001b[39m\n\u001b[32m     20\u001b[39m \u001b[38;5;66;03m# --- CASO 1: Sin normalizar ---\u001b[39;00m\n\u001b[32m     21\u001b[39m ppn.fit(X_train, Y_train)\n\u001b[32m---> \u001b[39m\u001b[32m22\u001b[39m Y_test_raw = \u001b[43mppn\u001b[49m\u001b[43m.\u001b[49m\u001b[43mpredict\u001b[49m\u001b[43m(\u001b[49m\u001b[43mX_test\u001b[49m\u001b[43m)\u001b[49m\n\u001b[32m     23\u001b[39m efectividad_raw = \u001b[32m100.0\u001b[39m*np.sum(Y_test_raw==T_test)/\u001b[38;5;28mlen\u001b[39m(T_test)\n\u001b[32m     24\u001b[39m \u001b[38;5;28mprint\u001b[39m(\u001b[33m\"\u001b[39m\u001b[33mOne-hot encoding sin normalizar: \u001b[39m\u001b[38;5;132;01m%6.2f\u001b[39;00m\u001b[38;5;132;01m%%\u001b[39;00m\u001b[33m de efectividad en \u001b[39m\u001b[38;5;132;01m%d\u001b[39;00m\u001b[33m iteraciones\u001b[39m\u001b[33m\"\u001b[39m % (efectividad_raw, \u001b[38;5;28mlen\u001b[39m(ppn.errors_)))\n",
      "\u001b[36mFile \u001b[39m\u001b[32m~/Documents/Facultad/DeepLearning/Practica2/parte2/../../Fuentes/ClassPerceptron.py:85\u001b[39m, in \u001b[36mPerceptron.predict\u001b[39m\u001b[34m(self, X)\u001b[39m\n\u001b[32m     83\u001b[39m \u001b[38;5;28;01mdef\u001b[39;00m\u001b[38;5;250m \u001b[39m\u001b[34mpredict\u001b[39m(\u001b[38;5;28mself\u001b[39m, X):\n\u001b[32m     84\u001b[39m \u001b[38;5;250m    \u001b[39m\u001b[33;03m\"\"\"Return class label\"\"\"\u001b[39;00m\n\u001b[32m---> \u001b[39m\u001b[32m85\u001b[39m     \u001b[38;5;28;01mreturn\u001b[39;00m np.where(\u001b[38;5;28;43mself\u001b[39;49m\u001b[43m.\u001b[49m\u001b[43mnet_input\u001b[49m\u001b[43m(\u001b[49m\u001b[43mX\u001b[49m\u001b[43m)\u001b[49m >= \u001b[32m0.0\u001b[39m, \u001b[32m1\u001b[39m, \u001b[32m0\u001b[39m)\n",
      "\u001b[36mFile \u001b[39m\u001b[32m~/Documents/Facultad/DeepLearning/Practica2/parte2/../../Fuentes/ClassPerceptron.py:81\u001b[39m, in \u001b[36mPerceptron.net_input\u001b[39m\u001b[34m(self, X)\u001b[39m\n\u001b[32m     79\u001b[39m \u001b[38;5;28;01mdef\u001b[39;00m\u001b[38;5;250m \u001b[39m\u001b[34mnet_input\u001b[39m(\u001b[38;5;28mself\u001b[39m, X):\n\u001b[32m     80\u001b[39m \u001b[38;5;250m    \u001b[39m\u001b[33;03m\"\"\"Calculate net input\"\"\"\u001b[39;00m\n\u001b[32m---> \u001b[39m\u001b[32m81\u001b[39m     \u001b[38;5;28;01mreturn\u001b[39;00m \u001b[43mnp\u001b[49m\u001b[43m.\u001b[49m\u001b[43mdot\u001b[49m\u001b[43m(\u001b[49m\u001b[43mX\u001b[49m\u001b[43m,\u001b[49m\u001b[43m \u001b[49m\u001b[38;5;28;43mself\u001b[39;49m\u001b[43m.\u001b[49m\u001b[43mw_\u001b[49m\u001b[43m)\u001b[49m + \u001b[38;5;28mself\u001b[39m.b_\n",
      "\u001b[31mValueError\u001b[39m: shapes (40,10) and (7,) not aligned: 10 (dim 1) != 7 (dim 0)"
     ]
    }
   ],
   "source": [
    "def one_hot_preprocess_data(data: pd.DataFrame) -> pd.DataFrame:\n",
    "    categorical_cols = ['Sex', 'BP', 'Cholesterol']\n",
    "    dummies = pd.get_dummies(data[categorical_cols], drop_first=False).astype(int)\n",
    "    data = data.drop(columns=categorical_cols)\n",
    "    data = pd.concat([dummies, data], axis=1)\n",
    "    return data\n",
    "\n",
    "train_data_oh = one_hot_preprocess_data(data_drugs_train)\n",
    "test_data_oh  = one_hot_preprocess_data(data_drugs_test)\n",
    "\n",
    "# --- Definir X y T ---\n",
    "X_train = train_data_oh.drop(columns=['Drug']).values\n",
    "Y_train = (train_data_oh[\"Drug\"] == \"drugY\").astype(int)\n",
    "\n",
    "X_test = test_data_oh.drop(columns=['Drug']).values\n",
    "T_test = (test_data_oh[\"Drug\"] == \"drugY\").astype(int)\n",
    "\n",
    "ppn = Perceptron(alpha=0.05, n_iter=100, random_state=1)\n",
    "\n",
    "# --- CASO 1: Sin normalizar ---\n",
    "ppn.fit(X_train, Y_train)\n",
    "Y_test_raw = ppn.predict(X_test)\n",
    "efectividad_raw = 100.0*np.sum(Y_test_raw==T_test)/len(T_test)\n",
    "print(\"One-hot encoding sin normalizar: %6.2f%% de efectividad en %d iteraciones\" % (efectividad_raw, len(ppn.errors_)))\n",
    "\n",
    "# --- CASO 2: Normalización lineal (0 a 1) ---\n",
    "X_train_lin = (X_train - X_train.min(axis=0)) / (X_train.max(axis=0) - X_train.min(axis=0))\n",
    "X_test_lin  = (X_test  - X_train.min(axis=0)) / (X_train.max(axis=0) - X_train.min(axis=0))\n",
    "\n",
    "ppn.fit(X_train_lin, Y_train)\n",
    "Y_test_lin = ppn.predict(X_test_lin)\n",
    "efectividad_lin = 100.0*np.sum(Y_test_lin==T_test)/len(T_test)\n",
    "print(\"One-hot encoding con normalización lineal: %6.2f%%\" % efectividad_lin)\n",
    "\n",
    "# --- CASO 3: Normalización estándar (z-score) ---\n",
    "X_train_std = (X_train - X_train.mean(axis=0)) / X_train.std(axis=0)\n",
    "X_test_std  = (X_test  - X_train.mean(axis=0)) / X_train.std(axis=0)\n",
    "\n",
    "ppn.fit(X_train_std, Y_train)\n",
    "Y_test_std = ppn.predict(X_test_std)\n",
    "efectividad_std = 100.0*np.sum(Y_test_std==T_test)/len(T_test)\n",
    "print(\"One-hot encoding con normalización estándar: %6.2f%%\" % efectividad_std)"
   ]
  }
 ],
 "metadata": {
  "kernelspec": {
   "display_name": "env",
   "language": "python",
   "name": "python3"
  },
  "language_info": {
   "codemirror_mode": {
    "name": "ipython",
    "version": 3
   },
   "file_extension": ".py",
   "mimetype": "text/x-python",
   "name": "python",
   "nbconvert_exporter": "python",
   "pygments_lexer": "ipython3",
   "version": "3.13.7"
  }
 },
 "nbformat": 4,
 "nbformat_minor": 5
}
