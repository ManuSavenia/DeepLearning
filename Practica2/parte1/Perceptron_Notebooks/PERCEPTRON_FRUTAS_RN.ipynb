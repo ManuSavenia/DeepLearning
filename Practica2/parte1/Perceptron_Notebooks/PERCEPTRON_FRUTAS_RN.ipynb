{
 "cells": [
  {
   "cell_type": "code",
   "execution_count": 1,
   "id": "45e6a3c3",
   "metadata": {},
   "outputs": [],
   "source": [
    "ColabNotebook = 'google.colab' in str(get_ipython())\n",
    "\n",
    "if ColabNotebook:\n",
    "    # monta G-drive en entorno COLAB\n",
    "    from google.colab import drive\n",
    "    drive.mount('/content/drive/')\n",
    "\n",
    "    # carpeta donde se encuentran archivos .py auxiliares\n",
    "    FUENTES_DIR = '/content/drive/MyDrive/Colab Notebooks/FUENTES/'\n",
    "    DATOS_DIR = '/content/drive/MyDrive/Colab Notebooks/DATOS/'      # carpeta donde se encuentran los datasets\n",
    "else:\n",
    "    # configuración para notebook con instalación LOCAL\n",
    "    FUENTES_DIR = '../Fuentes'         # carpeta donde se encuentran archivos .py auxiliares\n",
    "    DATOS_DIR   = '../Datos/' # carpeta donde se encuentran los datasets\n",
    "\n",
    "# agrega ruta de busqueda donde tenemos archivos .py\n",
    "import sys\n",
    "sys.path.append(FUENTES_DIR)  "
   ]
  },
  {
   "cell_type": "code",
   "execution_count": 2,
   "id": "f3fbf3c3",
   "metadata": {},
   "outputs": [],
   "source": [
    "%matplotlib inline\n",
    "import pandas as pd\n",
    "import numpy as np\n",
    "from sklearn import preprocessing\n",
    "\n",
    "import time\n",
    "#from matplotlib import pyplot as plt\n",
    "from matplotlib import pylab as plt\n",
    "from IPython import display\n",
    "\n",
    "from grafica import *\n",
    "from ClassPerceptron import Perceptron\n",
    "\n",
    "# Ajustar el tamaño predeterminado de las figuras\n",
    "plt.rcParams['figure.figsize'] = [4,3]"
   ]
  },
  {
   "cell_type": "markdown",
   "id": "f8f5224a",
   "metadata": {},
   "source": [
    "### Leemos los datos"
   ]
  },
  {
   "cell_type": "code",
   "execution_count": 3,
   "id": "14b5582e",
   "metadata": {},
   "outputs": [
    {
     "data": {
      "text/html": [
       "<div>\n",
       "<style scoped>\n",
       "    .dataframe tbody tr th:only-of-type {\n",
       "        vertical-align: middle;\n",
       "    }\n",
       "\n",
       "    .dataframe tbody tr th {\n",
       "        vertical-align: top;\n",
       "    }\n",
       "\n",
       "    .dataframe thead th {\n",
       "        text-align: right;\n",
       "    }\n",
       "</style>\n",
       "<table border=\"1\" class=\"dataframe\">\n",
       "  <thead>\n",
       "    <tr style=\"text-align: right;\">\n",
       "      <th></th>\n",
       "      <th>Diametro</th>\n",
       "      <th>Color</th>\n",
       "      <th>Clase</th>\n",
       "    </tr>\n",
       "  </thead>\n",
       "  <tbody>\n",
       "    <tr>\n",
       "      <th>0</th>\n",
       "      <td>10</td>\n",
       "      <td>200</td>\n",
       "      <td>Naranja</td>\n",
       "    </tr>\n",
       "    <tr>\n",
       "      <th>1</th>\n",
       "      <td>20</td>\n",
       "      <td>30</td>\n",
       "      <td>Melon</td>\n",
       "    </tr>\n",
       "    <tr>\n",
       "      <th>2</th>\n",
       "      <td>8</td>\n",
       "      <td>150</td>\n",
       "      <td>Naranja</td>\n",
       "    </tr>\n",
       "    <tr>\n",
       "      <th>3</th>\n",
       "      <td>26</td>\n",
       "      <td>30</td>\n",
       "      <td>Melon</td>\n",
       "    </tr>\n",
       "    <tr>\n",
       "      <th>4</th>\n",
       "      <td>7</td>\n",
       "      <td>170</td>\n",
       "      <td>Naranja</td>\n",
       "    </tr>\n",
       "  </tbody>\n",
       "</table>\n",
       "</div>"
      ],
      "text/plain": [
       "   Diametro  Color    Clase\n",
       "0        10    200  Naranja\n",
       "1        20     30    Melon\n",
       "2         8    150  Naranja\n",
       "3        26     30    Melon\n",
       "4         7    170  Naranja"
      ]
     },
     "execution_count": 3,
     "metadata": {},
     "output_type": "execute_result"
    }
   ],
   "source": [
    "# Leer FrutasTrain.csv\n",
    "df_train = pd.read_csv(DATOS_DIR+\"FrutasTrain.csv\")\n",
    "nColum = list(df_train.columns.values)\n",
    "df_train.head()"
   ]
  },
  {
   "cell_type": "code",
   "execution_count": 4,
   "id": "afe03e2b",
   "metadata": {},
   "outputs": [
    {
     "data": {
      "text/html": [
       "<div>\n",
       "<style scoped>\n",
       "    .dataframe tbody tr th:only-of-type {\n",
       "        vertical-align: middle;\n",
       "    }\n",
       "\n",
       "    .dataframe tbody tr th {\n",
       "        vertical-align: top;\n",
       "    }\n",
       "\n",
       "    .dataframe thead th {\n",
       "        text-align: right;\n",
       "    }\n",
       "</style>\n",
       "<table border=\"1\" class=\"dataframe\">\n",
       "  <thead>\n",
       "    <tr style=\"text-align: right;\">\n",
       "      <th></th>\n",
       "      <th>Diametro</th>\n",
       "      <th>Color</th>\n",
       "      <th>Clase</th>\n",
       "    </tr>\n",
       "  </thead>\n",
       "  <tbody>\n",
       "    <tr>\n",
       "      <th>0</th>\n",
       "      <td>7</td>\n",
       "      <td>100</td>\n",
       "      <td>Naranja</td>\n",
       "    </tr>\n",
       "    <tr>\n",
       "      <th>1</th>\n",
       "      <td>20</td>\n",
       "      <td>20</td>\n",
       "      <td>Melon</td>\n",
       "    </tr>\n",
       "    <tr>\n",
       "      <th>2</th>\n",
       "      <td>25</td>\n",
       "      <td>70</td>\n",
       "      <td>Melon</td>\n",
       "    </tr>\n",
       "    <tr>\n",
       "      <th>3</th>\n",
       "      <td>10</td>\n",
       "      <td>210</td>\n",
       "      <td>Naranja</td>\n",
       "    </tr>\n",
       "  </tbody>\n",
       "</table>\n",
       "</div>"
      ],
      "text/plain": [
       "   Diametro  Color    Clase\n",
       "0         7    100  Naranja\n",
       "1        20     20    Melon\n",
       "2        25     70    Melon\n",
       "3        10    210  Naranja"
      ]
     },
     "execution_count": 4,
     "metadata": {},
     "output_type": "execute_result"
    }
   ],
   "source": [
    "# Leer FrutasTest.csv\n",
    "df_test = pd.read_csv(DATOS_DIR+\"FrutasTest.csv\")\n",
    "df_test"
   ]
  },
  {
   "cell_type": "markdown",
   "id": "7ed4bb50",
   "metadata": {},
   "source": [
    "#### Conjuntos de datos para entrenamiento y testeo"
   ]
  },
  {
   "cell_type": "code",
   "execution_count": 5,
   "id": "b6b4b05f",
   "metadata": {},
   "outputs": [],
   "source": [
    "# Consideramos NARANJA --> 0 y MELON --> 1 (indice de la lista)\n",
    "CLASES = ['Naranja', 'Melon']\n",
    "\n",
    "#--- DATOS DE ENTRENAMIENTO ---\n",
    "X_train = np.array(df_train.iloc[:,0:2])\n",
    "Y_train = np.array(df_train['Clase'] == CLASES[1]).astype(int)\n",
    "\n",
    "#--- DATOS DE TESTEO ---\n",
    "X_test = np.array(df_test.iloc[:,0:2])\n",
    "Y_test = np.array(df_test['Clase'] == CLASES[1]).astype(int)\n"
   ]
  },
  {
   "cell_type": "markdown",
   "id": "99fb48ea",
   "metadata": {},
   "source": [
    "#### Normalizamos los ejemplos"
   ]
  },
  {
   "cell_type": "code",
   "execution_count": 6,
   "id": "9088c3dd",
   "metadata": {},
   "outputs": [
    {
     "data": {
      "text/plain": [
       "array([[-1.50462909,  0.78461053],\n",
       "       [ 0.23986841, -1.40200899],\n",
       "       [-1.85352859,  0.14148715],\n",
       "       [ 1.2865669 , -1.40200899],\n",
       "       [-2.02797834,  0.3987365 ]])"
      ]
     },
     "execution_count": 6,
     "metadata": {},
     "output_type": "execute_result"
    }
   ],
   "source": [
    "normalizar = 1\n",
    "\n",
    "if (normalizar):\n",
    "    normalizador = preprocessing.StandardScaler()\n",
    "    #normalizador = preprocessing.MinMaxScaler()\n",
    "    X_train = normalizador.fit_transform(X_train)\n",
    "    X_test = normalizador.transform(X_test)   \n",
    "    \n",
    "X_train[:5,:]"
   ]
  },
  {
   "cell_type": "markdown",
   "id": "04ce4f9e",
   "metadata": {},
   "source": [
    "#### El orden de ingreso de los ejemplos también incide en el entrenamiento"
   ]
  },
  {
   "cell_type": "code",
   "execution_count": 7,
   "id": "b9ff7f74",
   "metadata": {},
   "outputs": [
    {
     "data": {
      "text/plain": [
       "array([0, 0, 0, 1, 1, 1, 0, 1, 1, 1, 0, 1, 0, 0, 0, 1])"
      ]
     },
     "execution_count": 7,
     "metadata": {},
     "output_type": "execute_result"
    }
   ],
   "source": [
    "# orden = np.argsort(Y_train)    # ascendente\n",
    "# orden = np.argsort(-Y_train)   # descendente\n",
    "orden = np.random.permutation(len(Y_train))  # aleatorio\n",
    "\n",
    "X_train = X_train[orden, :]\n",
    "Y_train = Y_train[orden]\n",
    "Y_train"
   ]
  },
  {
   "cell_type": "code",
   "execution_count": 8,
   "id": "4626dfc3",
   "metadata": {},
   "outputs": [
    {
     "data": {
      "image/png": "[encoded data removed]",
      "text/plain": [
       "<Figure size 288x216 with 1 Axes>"
      ]
     },
     "metadata": {},
     "output_type": "display_data"
    },
    {
     "data": {
      "text/plain": [
       "<ClassPerceptron.Perceptron at 0x1ee97c85f70>"
      ]
     },
     "execution_count": 8,
     "metadata": {},
     "output_type": "execute_result"
    },
    {
     "data": {
      "image/png": "[encoded data removed]",
      "text/plain": [
       "<Figure size 288x216 with 1 Axes>"
      ]
     },
     "metadata": {
      "needs_background": "light"
     },
     "output_type": "display_data"
    }
   ],
   "source": [
    "plt.clf()\n",
    "ppn = Perceptron(alpha=0.05, n_iter=350, draw=1, title=nColum[0:2], random_state=None)\n",
    "ppn.fit(X_train, Y_train)"
   ]
  },
  {
   "cell_type": "code",
   "execution_count": 9,
   "id": "bf51693f",
   "metadata": {},
   "outputs": [
    {
     "data": {
      "image/png": "[encoded data removed]",
      "text/plain": [
       "<Figure size 288x216 with 1 Axes>"
      ]
     },
     "metadata": {
      "needs_background": "light"
     },
     "output_type": "display_data"
    }
   ],
   "source": [
    "plt.clf()\n",
    "plt.plot(range(1, len(ppn.errors_) + 1), ppn.errors_, marker='o')\n",
    "plt.xlabel('Iteraciones')\n",
    "plt.ylabel('Cantidad de actualizaciones')\n",
    "plt.show()"
   ]
  },
  {
   "cell_type": "markdown",
   "id": "f95cc854",
   "metadata": {},
   "source": [
    "#### Respuestas del perceptrón para los datos de entrenamiento"
   ]
  },
  {
   "cell_type": "code",
   "execution_count": 10,
   "id": "ef97d2be",
   "metadata": {},
   "outputs": [
    {
     "name": "stdout",
     "output_type": "stream",
     "text": [
      "aciertos =  16\n",
      "% de aciertos = 100.00 %\n"
     ]
    }
   ],
   "source": [
    "Y_train_pred = ppn.predict(X_train)\n",
    "aciertos = sum(Y_train_pred == Y_train)\n",
    "print(\"aciertos = \", aciertos)\n",
    "nAciertos = sum(Y_train_pred == Y_train)\n",
    "print(\"%% de aciertos = %.2f %%\" % (100*nAciertos/len(Y_train)))\n"
   ]
  },
  {
   "cell_type": "code",
   "execution_count": 11,
   "id": "6d72960f",
   "metadata": {},
   "outputs": [
    {
     "name": "stdout",
     "output_type": "stream",
     "text": [
      "% accuracy = 1.000\n"
     ]
    }
   ],
   "source": [
    "from sklearn import  metrics\n",
    "\n",
    "aciertos = metrics.accuracy_score(Y_train,Y_train_pred)\n",
    "print(\"%% accuracy = %.3f\" % aciertos)"
   ]
  },
  {
   "cell_type": "code",
   "execution_count": 12,
   "id": "fd6fc5f3",
   "metadata": {},
   "outputs": [
    {
     "name": "stdout",
     "output_type": "stream",
     "text": [
      "Matriz de confusión:\n",
      "[[8 0]\n",
      " [0 8]]\n"
     ]
    }
   ],
   "source": [
    "MM = metrics.confusion_matrix(Y_train,Y_train_pred)\n",
    "print(\"Matriz de confusión:\\n%s\" % MM)"
   ]
  },
  {
   "cell_type": "code",
   "execution_count": 13,
   "id": "8f4cf2e6",
   "metadata": {},
   "outputs": [
    {
     "name": "stdout",
     "output_type": "stream",
     "text": [
      "Resultado de la clasificación:\n",
      "              precision    recall  f1-score   support\n",
      "\n",
      "           0       1.00      1.00      1.00         8\n",
      "           1       1.00      1.00      1.00         8\n",
      "\n",
      "    accuracy                           1.00        16\n",
      "   macro avg       1.00      1.00      1.00        16\n",
      "weighted avg       1.00      1.00      1.00        16\n",
      "\n"
     ]
    }
   ],
   "source": [
    "report = metrics.classification_report(Y_train,Y_train_pred)\n",
    "print(\"Resultado de la clasificación:\\n%s\" % report)"
   ]
  },
  {
   "cell_type": "markdown",
   "id": "8767fc1c",
   "metadata": {},
   "source": [
    "#### Curva ROC"
   ]
  },
  {
   "cell_type": "code",
   "execution_count": 14,
   "id": "e3eb3115",
   "metadata": {},
   "outputs": [
    {
     "name": "stdout",
     "output_type": "stream",
     "text": [
      "AUC-ROC: 1.0\n"
     ]
    },
    {
     "data": {
      "image/png": "[encoded data removed]",
      "text/plain": [
       "<Figure size 288x216 with 1 Axes>"
      ]
     },
     "metadata": {
      "needs_background": "light"
     },
     "output_type": "display_data"
    }
   ],
   "source": [
    "from sklearn.metrics import roc_auc_score, roc_curve\n",
    "import matplotlib.pyplot as plt\n",
    "\n",
    "#-- si se quiere analizar la CLASE 1 --\n",
    "Y_true = Y_test   # Valores verdaderos de las clases siendo 1 la clase positiva\n",
    "Y_prob = ppn.prob_positive_class(X_test) # Probabilidades de predicción para la clase 1\n",
    "\n",
    "#-- si se quiere analizar la CLASE 0 --\n",
    "#Y_true = (T+1) % 2   # Valores verdaderos de las clases siendo 1 la clase positiva\n",
    "#Y_prob = 1-ppn.prob_positive_class(X) # Probabilidades de predicción para la clase 1\n",
    "\n",
    "# Calcular AUC-ROC\n",
    "auc = roc_auc_score(Y_true, Y_prob)\n",
    "print(f\"AUC-ROC: {auc}\")\n",
    "\n",
    "# Obtener los puntos para la curva ROC\n",
    "fpr, tpr, thresholds = roc_curve(Y_true, Y_prob)\n",
    "\n",
    "# Graficar la curva ROC\n",
    "plt.figure()\n",
    "plt.plot(fpr, tpr, color='darkorange', lw=6, label=f'Curva ROC (AUC = {auc:.2f})')\n",
    "plt.plot([0, 1], [0, 1], color='navy', lw=2, linestyle='--')\n",
    "plt.xlim([0.0, 1.0])\n",
    "plt.ylim([0.0, 1.0])\n",
    "plt.xlabel('Tasa de Falsos Positivos')\n",
    "plt.ylabel('Tasa de Verdaderos Positivos')\n",
    "plt.title('Curva ROC - Clase ' + CLASES[1])\n",
    "plt.legend(loc=\"lower right\")\n",
    "plt.show()\n"
   ]
  }
 ],
 "metadata": {
  "kernelspec": {
   "display_name": "Python 3",
   "language": "python",
   "name": "python3"
  },
  "language_info": {
   "codemirror_mode": {
    "name": "ipython",
    "version": 3
   },
   "file_extension": ".py",
   "mimetype": "text/x-python",
   "name": "python",
   "nbconvert_exporter": "python",
   "pygments_lexer": "ipython3",
   "version": "3.8.8"
  }
 },
 "nbformat": 4,
 "nbformat_minor": 5
}
