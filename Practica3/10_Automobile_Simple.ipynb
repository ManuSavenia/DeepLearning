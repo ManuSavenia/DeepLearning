{
 "cells": [
  {
   "cell_type": "code",
   "execution_count": 8,
   "id": "a2bf9eb3",
   "metadata": {},
   "outputs": [],
   "source": [
    "FUENTES_DIR = '../Fuentes'         # carpeta donde se encuentran archivos .py auxiliares\n",
    "DATOS_DIR   = '../Data_Sets/p2/' # carpeta donde se encuentran los datasets\n",
    "\n",
    "# agrega ruta de busqueda donde tenemos archivos .py\n",
    "import sys\n",
    "sys.path.append(FUENTES_DIR)\n",
    "\n",
    "%matplotlib inline\n",
    "import numpy as np\n",
    "import pandas as pd\n",
    "from matplotlib import pylab as plt\n",
    "from IPython import display\n",
    "from ClassPerceptron import Perceptron\n",
    "from sklearn import preprocessing\n",
    "import grafica as gr\n",
    "from ClassNeuronaGral import *"
   ]
  },
  {
   "cell_type": "markdown",
   "id": "1a338706",
   "metadata": {},
   "source": [
    "## Ejercicio 10\n",
    "\n",
    "A partir de los ejemplos del archivo **automobile-simple.csv**, utilice todos los ejemplos para generar un modelo de 1 neurona para clasificar si un auto es ecológico:\n",
    "\n",
    "### a) \n",
    "\n",
    "Elimine los registros que presenten valores faltantes y utilice el atributo eco-rating para generar un nuevo atributo binario que determine si un auto es ecológico o no. Considere que un auto es ecológico si el valor de \"eco-rating\" supera la media de dicho atributo."
   ]
  },
  {
   "cell_type": "code",
   "execution_count": 13,
   "id": "9ba859fe",
   "metadata": {},
   "outputs": [],
   "source": [
    "data_autos = pd.read_csv(DATOS_DIR + \"automobile-simple.csv\", sep=\",\")\n",
    "data_autos = data_autos.drop(columns=['make','fuel-type','body-style','num-of-doors'])\n",
    "data_autos = data_autos.dropna().reset_index(drop=True)\n",
    "\n",
    "# Genero variable binaria 'ecologico'\n",
    "data_autos['ecologico'] = (data_autos['eco-rating'] > data_autos['eco-rating'].mean()).astype(int)\n",
    "\n",
    "\n"
   ]
  },
  {
   "cell_type": "markdown",
   "id": "23b441a9",
   "metadata": {},
   "source": [
    "### b) \n",
    "\n",
    "Luego de completar según lo indicado en a), aplique normalización y realice el entrenamiento utilizando los atributos numéricos:\n",
    "\n",
    "**i.** Utilizando salida sigmoide (sigmoid) para la neurona.\n",
    "\n",
    "**ii.** Utilizando salida tangente hiperbólico (tanh) para la neurona."
   ]
  },
  {
   "cell_type": "markdown",
   "id": "dc4aa259",
   "metadata": {},
   "source": [
    "## *i*"
   ]
  },
  {
   "cell_type": "code",
   "execution_count": 21,
   "id": "7eefbed3",
   "metadata": {},
   "outputs": [
    {
     "name": "stdout",
     "output_type": "stream",
     "text": [
      "Shapes -> X: (199, 8)  y_train: (199,)  y_hat: (199,)\n",
      "Accuracy final: 0.9849246231155779\n"
     ]
    }
   ],
   "source": [
    "# Normalizo solo columnas numéricas (excepto target)\n",
    "cols_to_normalize = data_autos.columns.drop('ecologico')\n",
    "data_autos[cols_to_normalize] = preprocessing.scale(data_autos[cols_to_normalize])\n",
    "\n",
    "\n",
    "# normalización y preprocesado ya hechos: X, data_autos\n",
    "X = data_autos.drop(columns=['ecologico']).to_numpy()\n",
    "y_train = data_autos['ecologico'].to_numpy().astype(int).ravel()\n",
    "\n",
    "ng = NeuronaGradiente(alpha=0.01, n_iter=1000, cotaE=0.01,\n",
    "                      FUN='sigmoid', title=['Autos','Ecologico'], with_bias=True)\n",
    "ng.fit(X, y_train)\n",
    "\n",
    "y_hat = np.asarray(ng.predict(X))\n",
    "if y_hat.ndim > 1:\n",
    "    # normalmente esto no debería pasar si FUN='sigmoid'\n",
    "    y_hat = np.asarray(ng.predict_nOut(X)).ravel()\n",
    "\n",
    "print(\"Shapes -> X:\", X.shape, \" y_train:\", y_train.shape, \" y_hat:\", y_hat.shape)\n",
    "print(\"Accuracy final:\", (y_hat == y_train).mean())\n"
   ]
  },
  {
   "cell_type": "markdown",
   "id": "ca67fcbc",
   "metadata": {},
   "source": [
    "## *ii*"
   ]
  },
  {
   "cell_type": "code",
   "execution_count": 22,
   "id": "ecd1b1e7",
   "metadata": {},
   "outputs": [
    {
     "name": "stdout",
     "output_type": "stream",
     "text": [
      "Shapes -> X: (199, 8)  y_train: (199,)  y_hat: (199,)\n",
      "Accuracy final: 0.4723618090452261\n"
     ]
    }
   ],
   "source": [
    "ng = NeuronaGradiente(alpha=0.01, n_iter=1000, cotaE=0.01,\n",
    "                      FUN='tanh', title=['Autos','Ecologico'], with_bias=True)\n",
    "ng.fit(X, y_train)\n",
    "\n",
    "y_hat = np.asarray(ng.predict(X))\n",
    "if y_hat.ndim > 1:\n",
    "    # normalmente esto no debería pasar si FUN='sigmoid'\n",
    "    y_hat = np.asarray(ng.predict_nOut(X)).ravel()\n",
    "\n",
    "print(\"Shapes -> X:\", X.shape, \" y_train:\", y_train.shape, \" y_hat:\", y_hat.shape)\n",
    "print(\"Accuracy final:\", (y_hat == y_train).mean())\n"
   ]
  }
 ],
 "metadata": {
  "kernelspec": {
   "display_name": "env",
   "language": "python",
   "name": "python3"
  },
  "language_info": {
   "codemirror_mode": {
    "name": "ipython",
    "version": 3
   },
   "file_extension": ".py",
   "mimetype": "text/x-python",
   "name": "python",
   "nbconvert_exporter": "python",
   "pygments_lexer": "ipython3",
   "version": "3.13.7"
  }
 },
 "nbformat": 4,
 "nbformat_minor": 5
}
