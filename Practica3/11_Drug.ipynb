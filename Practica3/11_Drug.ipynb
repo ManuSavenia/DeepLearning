{
 "cells": [
  {
   "cell_type": "code",
   "execution_count": 7,
   "id": "df904e96",
   "metadata": {},
   "outputs": [],
   "source": [
    "FUENTES_DIR = '../Fuentes'         # carpeta donde se encuentran archivos .py auxiliares\n",
    "DATOS_DIR   = '../Data_Sets/p2/' # carpeta donde se encuentran los datasets\n",
    "\n",
    "# agrega ruta de busqueda donde tenemos archivos .py\n",
    "import sys\n",
    "sys.path.append(FUENTES_DIR)\n",
    "\n",
    "%matplotlib inline\n",
    "import numpy as np\n",
    "import pandas as pd\n",
    "from matplotlib import pylab as plt\n",
    "from IPython import display\n",
    "from sklearn import preprocessing\n",
    "import grafica as gr\n",
    "from sklearn.preprocessing import OneHotEncoder\n",
    "from sklearn.compose import ColumnTransformer\n",
    "from ClassRNMulticlase import RNMulticlase"
   ]
  },
  {
   "cell_type": "markdown",
   "id": "639b5924",
   "metadata": {},
   "source": [
    "# Regresión Logística multiclase\n",
    "## Ejercicio 11\n",
    "\n",
    "Se busca predecir si el tipo de fármaco que se debe administrar a un paciente afectado de rinitis alérgica es el habitual o no. Se dispone de información correspondiente a las historias clínicas de pacientes atendidos previamente\n",
    "\n",
    "\n",
    "### a) \n",
    "\n",
    "Numerice los atributos nominales y utilice el archivo **drug_train.csv** para entrenar un modelo con 5 neuronas que sea capaz de predecir el tipo de fármaco que se debe administrar a un paciente afectado de rinitis alérgica."
   ]
  },
  {
   "cell_type": "code",
   "execution_count": 36,
   "id": "be93f45e",
   "metadata": {},
   "outputs": [
    {
     "name": "stdout",
     "output_type": "stream",
     "text": [
      "[2 4 4 2 4 0 4 4 4 0 4 0 4 4 4 4 4 4 4 0 3 3 3 4 4 4 4 4 4 3 4 2 4 4 3 0 1\n",
      " 4 4 3 3 0 4 0 0 1 4 3 0 2 4 1 3 3 3 3 3 4 1 3 3 3 0 3 3 3 3 0 3 4 0 4 4 1\n",
      " 0 3 4 1 2 3 4 2 4 3 3 0 1 3 4 2 3 0 4 2 4 1 1 4 0 4 0 4 0 2 2 4 0 3 4 3 3\n",
      " 3 0 0 4 2 4 0 1 3 4 0 4 0 0 4 3 2 4 3 4 4 0 4 3 4 0 4 4 3 1 2 4 3 3 4 4 4\n",
      " 4 3 3 4 0 4 3 4 4 4 4 4]\n",
      "Accuracy en train: 90.62%\n"
     ]
    }
   ],
   "source": [
    "ALPHA = 0.01\n",
    "N_ITER = 300\n",
    "COTA_E = 10E-07\n",
    "FUN = 'sigmoid'\n",
    "COSTO = 'ECM'\n",
    "\n",
    "data_train = pd.read_csv(DATOS_DIR + 'drugs_train.csv', sep=',')\n",
    "\n",
    "# Separo X (features) e y (target)\n",
    "X = data_train.drop(columns=['Drug'])\n",
    "T = data_train['Drug'].map({'drugA':0,'drugB':1,'drugC':2,'drugX':3,'drugY':4}).to_numpy()\n",
    "T_onehot = np.zeros((len(T), 5))\n",
    "T_onehot[np.arange(len(T)), T] = 1\n",
    "# Defino columnas categóricas y numéricas\n",
    "cat_cols = [\"Sex\", \"BP\", \"Cholesterol\"]\n",
    "num_cols = [\"Age\", \"Na\", \"K\"]\n",
    "\n",
    "# Preprocesamiento: OneHot para categóricas + passthrough numéricas\n",
    "preprocessor = ColumnTransformer(\n",
    "    transformers=[\n",
    "        ('cat', OneHotEncoder(), cat_cols),\n",
    "        ('num', 'passthrough', num_cols)\n",
    "    ]\n",
    ")\n",
    "\n",
    "# Aplico transformación solo sobre X\n",
    "X_transformed = preprocessor.fit_transform(X)\n",
    "X_train = pd.DataFrame(X_transformed.toarray() if hasattr(X_transformed, \"toarray\") else X_transformed)\n",
    "\n",
    "# Normalizo por z-score\n",
    "scaler = preprocessing.StandardScaler()\n",
    "X_train = scaler.fit_transform(X_train)\n",
    "\n",
    "#Entreno la red neuronal\n",
    "nn = RNMulticlase(alpha=ALPHA, n_iter=N_ITER, cotaE=COTA_E, FUN=FUN,COSTO=COSTO, random_state=None)\n",
    "nn.fit(X_train, T_onehot)\n",
    "\n",
    "#Pruebo la red \n",
    "y_pred = nn.predict(X_train)\n",
    "print(y_pred)\n",
    "accuracy = np.mean(y_pred == T) * 100\n",
    "print(f'Accuracy en train: {accuracy:.2f}%')"
   ]
  },
  {
   "cell_type": "markdown",
   "id": "2f05d285",
   "metadata": {},
   "source": [
    "### b) \n",
    "\n",
    "Luego utilice el archivo drug_test.csv para medir la calidad del modelo."
   ]
  },
  {
   "cell_type": "code",
   "execution_count": 37,
   "id": "23b66fd9",
   "metadata": {},
   "outputs": [
    {
     "name": "stdout",
     "output_type": "stream",
     "text": [
      "Accuracy en test: 80.00%\n"
     ]
    }
   ],
   "source": [
    "X_test_raw = data_test.drop(columns=['Drug'])\n",
    "\n",
    "# Usás el preprocessor ya fiteado en train\n",
    "X_test = preprocessor.transform(X_test_raw)\n",
    "X_test = pd.DataFrame(X_test.toarray() if hasattr(X_test, \"toarray\") else X_test)\n",
    "\n",
    "# Usás el scaler ya fiteado en train\n",
    "X_test = scaler.transform(X_test)\n",
    "\n",
    "# Predicción con la red ya entrenada\n",
    "y_pred_test = nn.predict(X_test)\n",
    "\n",
    "accuracy_test = np.mean(y_pred_test == T_test) * 100\n",
    "print(f'Accuracy en test: {accuracy_test:.2f}%')\n"
   ]
  }
 ],
 "metadata": {
  "kernelspec": {
   "display_name": "env",
   "language": "python",
   "name": "python3"
  },
  "language_info": {
   "codemirror_mode": {
    "name": "ipython",
    "version": 3
   },
   "file_extension": ".py",
   "mimetype": "text/x-python",
   "name": "python",
   "nbconvert_exporter": "python",
   "pygments_lexer": "ipython3",
   "version": "3.13.7"
  }
 },
 "nbformat": 4,
 "nbformat_minor": 5
}
