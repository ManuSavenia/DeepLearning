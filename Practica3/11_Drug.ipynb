{
 "cells": [
  {
   "cell_type": "code",
   "execution_count": 2,
   "id": "df904e96",
   "metadata": {},
   "outputs": [],
   "source": [
    "FUENTES_DIR = '../Fuentes'         # carpeta donde se encuentran archivos .py auxiliares\n",
    "DATOS_DIR   = '../Data_Sets/p2/' # carpeta donde se encuentran los datasets\n",
    "\n",
    "# agrega ruta de busqueda donde tenemos archivos .py\n",
    "import sys\n",
    "sys.path.append(FUENTES_DIR)\n",
    "\n",
    "%matplotlib inline\n",
    "import numpy as np\n",
    "import pandas as pd\n",
    "from matplotlib import pylab as plt\n",
    "from IPython import display\n",
    "from ClassPerceptron import Perceptron\n",
    "from sklearn import preprocessing\n",
    "import grafica as gr\n",
    "from sklearn.preprocessing import OneHotEncoder\n",
    "from sklearn.compose import ColumnTransformer\n",
    "from sklearn.metrics import accuracy_score\n",
    "from sklearn.linear_model import LogisticRegression"
   ]
  },
  {
   "cell_type": "markdown",
   "id": "639b5924",
   "metadata": {},
   "source": [
    "# Regresión Logística multiclase\n",
    "## Ejercicio 11\n",
    "\n",
    "Se busca predecir si el tipo de fármaco que se debe administrar a un paciente afectado de rinitis alérgica es el habitual o no. Se dispone de información correspondiente a las historias clínicas de pacientes atendidos previamente\n",
    "\n",
    "\n",
    "### a) \n",
    "\n",
    "Numerice los atributos nominales y utilice el archivo **drug_train.csv** para entrenar un modelo con 5 neuronas que sea capaz de predecir el tipo de fármaco que se debe administrar a un paciente afectado de rinitis alérgica."
   ]
  },
  {
   "cell_type": "code",
   "execution_count": 3,
   "id": "be93f45e",
   "metadata": {},
   "outputs": [
    {
     "name": "stdout",
     "output_type": "stream",
     "text": [
      "Accuracy en entrenamiento: 0.60625\n"
     ]
    },
    {
     "name": "stderr",
     "output_type": "stream",
     "text": [
      "/home/manuel/Documents/Facultad/DeepLearning/env/lib/python3.13/site-packages/sklearn/linear_model/_logistic.py:1272: FutureWarning: 'multi_class' was deprecated in version 1.5 and will be removed in 1.7. From then on, it will always use 'multinomial'. Leave it to its default value to avoid this warning.\n",
      "  warnings.warn(\n"
     ]
    }
   ],
   "source": [
    "\n",
    "data_train = pd.read_csv(DATOS_DIR + 'drugs_train.csv')\n",
    "\n",
    "# Variables categóricas y numéricas\n",
    "cat_cols = [\"Sex\", \"BP\", \"Cholesterol\"]\n",
    "num_cols = [\"Age\", \"Na\", \"K\"]\n",
    "\n",
    "\n",
    "# Preprocesador: OneHot a categóricas, passthrough a numéricas\n",
    "preprocessor = ColumnTransformer(\n",
    "    transformers=[\n",
    "        (\"cat\", OneHotEncoder(sparse_output=False, drop=\"first\", handle_unknown=\"ignore\"), cat_cols),\n",
    "        (\"num\", \"passthrough\", num_cols)\n",
    "    ]\n",
    ")\n",
    "\n",
    "# Separar X e y\n",
    "X_train_raw = data_train.drop(columns=['Drug'])\n",
    "y_train = data_train['Drug'].map({'drugA':0,'drugB':1,'drugC':2,'drugX':3,'drugY':4}).to_numpy()\n",
    "\n",
    "# Aplicar preprocesamiento (fit en train)\n",
    "X_train = preprocessor.fit_transform(X_train_raw)\n",
    "\n",
    "# Entrenar tu modelo (ejemplo con regresión logística multinomial)\n",
    "\n",
    "clf = LogisticRegression(max_iter=1000, multi_class=\"multinomial\")\n",
    "clf.fit(X_train, y_train)\n",
    "\n",
    "# Accuracy en entrenamiento\n",
    "y_pred_train = clf.predict(X_train)\n",
    "acc_train = accuracy_score(y_train, y_pred_train)\n",
    "print(\"Accuracy en entrenamiento:\", acc_train)"
   ]
  },
  {
   "cell_type": "markdown",
   "id": "2f05d285",
   "metadata": {},
   "source": [
    "### b) \n",
    "\n",
    "Luego utilice el archivo drug_test.csv para medir la calidad del modelo."
   ]
  },
  {
   "cell_type": "code",
   "execution_count": 4,
   "id": "23b66fd9",
   "metadata": {},
   "outputs": [
    {
     "name": "stdout",
     "output_type": "stream",
     "text": [
      "Accuracy en test: 0.55\n"
     ]
    }
   ],
   "source": [
    "data_test = pd.read_csv(DATOS_DIR + 'drugs_test.csv')\n",
    "\n",
    "X_test_raw = data_test.drop(columns=['Drug'])\n",
    "y_test = data_test['Drug'].map({'drugA':0,'drugB':1,'drugC':2,'drugX':3,'drugY':4}).to_numpy()\n",
    "\n",
    "# Transformar test con el preprocesador entrenado en train\n",
    "X_test = preprocessor.transform(X_test_raw)\n",
    "\n",
    "# Predicción en test\n",
    "y_pred_test = clf.predict(X_test)\n",
    "acc_test = accuracy_score(y_test, y_pred_test)\n",
    "print(\"Accuracy en test:\", acc_test)"
   ]
  }
 ],
 "metadata": {
  "kernelspec": {
   "display_name": "env",
   "language": "python",
   "name": "python3"
  },
  "language_info": {
   "codemirror_mode": {
    "name": "ipython",
    "version": 3
   },
   "file_extension": ".py",
   "mimetype": "text/x-python",
   "name": "python",
   "nbconvert_exporter": "python",
   "pygments_lexer": "ipython3",
   "version": "3.13.7"
  }
 },
 "nbformat": 4,
 "nbformat_minor": 5
}
