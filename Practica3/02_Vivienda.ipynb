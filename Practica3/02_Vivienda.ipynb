{
 "cells": [
  {
   "cell_type": "markdown",
   "id": "6b20dc4f",
   "metadata": {},
   "source": [
    "## Ejercicio 2\n",
    "\n",
    "El precio de una vivienda está dado por dos factores, la proximidad a centros comerciales, financieros, vías y demás que se mide a través del factor $j$, y de la condición misma de la vivienda que se mide por el factor $k$.  \n",
    "\n",
    "La relación entre estos factores y el precio de la vivienda en un barrio determinado está dada por:\n",
    "\n",
    "\n",
    "$$P(j, k) = k^2 - 2jk + 2j^2 + 18j - 20k + 201$$\n",
    "\n",
    "donde el precio está dado en miles de dólares.  \n",
    "\n",
    "\n",
    "Utilice la técnica de descenso de gradiente para determinar los valores de $j$ y $k$ que minimizan el precio de la vivienda.\n"
   ]
  },
  {
   "cell_type": "code",
   "execution_count": 7,
   "id": "ad6f4b89",
   "metadata": {},
   "outputs": [
    {
     "name": "stdout",
     "output_type": "stream",
     "text": [
      "Los valores de j y k que minimizan el precio de la vivienda son: f( 0.9784096856069543 ,  10.965066137484255 ) =  100.00064419195209\n"
     ]
    }
   ],
   "source": [
    "import random\n",
    "from sympy import symbols, diff\n",
    "import numpy as np\n",
    "import matplotlib.pyplot as plt\n",
    "from mpl_toolkits.mplot3d import Axes3D\n",
    "from sympy import lambdify\n",
    "# Definir variables simbólicas\n",
    "js, ks = symbols('js ks')\n",
    "\n",
    "# Definir la función simbólica\n",
    "f_sym = ks**2 - 2*js*ks + 2*js**2 + 18*js - 20*ks + 201\n",
    "\n",
    "# Crear funciones numéricas a partir de las simbólicas\n",
    "f = lambdify((js, ks), f_sym, 'numpy')\n",
    "df_dj = lambdify((js, ks), diff(f_sym, js), 'numpy')\n",
    "df_dk = lambdify((js, ks), diff(f_sym, ks), 'numpy')\n",
    "\n",
    "ALPHA = 0.1  \n",
    "j = 0\n",
    "k = 0\n",
    "COTA = 0.0001\n",
    "MAX_ITER = 1000\n",
    "\n",
    "for i in range(MAX_ITER):\n",
    "\tgrad_j = df_dj(j, k)\n",
    "\tgrad_k = df_dk(j, k)\n",
    "\tj_new = j - ALPHA * grad_j  # Use minus for gradient descent\n",
    "\tk_new = k - ALPHA * grad_k\n",
    "\tif abs(f(j_new, k_new) - f(j, k)) < COTA:\n",
    "\t\tbreak\n",
    "\tj, k = j_new, k_new\n",
    "\n",
    "print(\"Los valores de j y k que minimizan el precio de la vivienda son: \"\"f(\", j, \", \", k, \") = \", f(j, k))\n"
   ]
  }
 ],
 "metadata": {
  "kernelspec": {
   "display_name": "env",
   "language": "python",
   "name": "python3"
  },
  "language_info": {
   "codemirror_mode": {
    "name": "ipython",
    "version": 3
   },
   "file_extension": ".py",
   "mimetype": "text/x-python",
   "name": "python",
   "nbconvert_exporter": "python",
   "pygments_lexer": "ipython3",
   "version": "3.13.7"
  }
 },
 "nbformat": 4,
 "nbformat_minor": 5
}
