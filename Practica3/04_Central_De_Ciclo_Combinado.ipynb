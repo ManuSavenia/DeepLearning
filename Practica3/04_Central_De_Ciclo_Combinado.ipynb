{
 "cells": [
  {
   "cell_type": "code",
   "execution_count": 1,
   "id": "f6531360",
   "metadata": {},
   "outputs": [],
   "source": [
    "FUENTES_DIR = '../Fuentes'         # carpeta donde se encuentran archivos .py auxiliares\n",
    "DATOS_DIR   = '../Data_Sets/p3/' # carpeta donde se encuentran los datasets\n",
    "\n",
    "# agrega ruta de busqueda donde tenemos archivos .py\n",
    "import sys\n",
    "sys.path.append(FUENTES_DIR)\n",
    "\n",
    "%matplotlib inline\n",
    "import numpy as np\n",
    "import pandas as pd\n",
    "from matplotlib import pylab as plt\n",
    "from IPython import display\n",
    "from ClassPerceptron import Perceptron\n",
    "from sklearn import preprocessing\n",
    "import grafica as gr\n",
    "from ClassNeuronaLineal import NeuronaLineal"
   ]
  },
  {
   "cell_type": "markdown",
   "id": "36edcbbe",
   "metadata": {},
   "source": [
    "## Ejercicio 4\n",
    "\n",
    "El archivo **ccpp.csv** contiene 9568 datos de una central de ciclo combinado recolectados entre 2006 y 2011. Usando la totalidad de los ejemplos se entrenaron 5 combinadores lineales con el objetivo de predecir el valor del atributo **PE** correspondiente a la cantidad de energía producida a partir del atributo **AT** (más detalles de este conjunto de datos aquí). Indique cuáles son los dos combinadores lineales con menor error cuadrático promedio a la hora de predecir el valor de **PE** en función de **AT**:\n",
    "\n",
    "a) $W = -2.00 \\;;\\; b = 500$  \n",
    "\n",
    "b) $W = -2.21 \\;;\\; b = 498$  \n",
    "\n",
    "c) $W = -2.30 \\;;\\; b = 497$  \n",
    "\n",
    "d) $W = -2.22 \\;;\\; b = 496.5$  \n",
    "\n",
    "e) $W = -2.16 \\;;\\; b = 496.91$  \n",
    "\n",
    "<div style=\"text-align: center;\">\n",
    "    <img src='../../images/p3-ej4.png' width=\"40%\">\n",
    "</div>\n"
   ]
  },
  {
   "cell_type": "code",
   "execution_count": 5,
   "id": "a5822f62",
   "metadata": {},
   "outputs": [
    {
     "name": "stdout",
     "output_type": "stream",
     "text": [
      "Error cuadratico medio neurona w=-2.0, b=500: 71.16255475543478\n",
      "Error cuadratico medio neurona w=-2.21, b=498: 29.557129448862874\n",
      "Error cuadratico medio neurona w=-2.3, b=497: 36.91941198244145\n",
      "Error cuadratico medio neurona w=-2.22, b=496.5: 31.785616074548507\n",
      "Error cuadratico medio neurona w=-2.16, b=496.91: 29.448487192257524\n"
     ]
    }
   ],
   "source": [
    "data = pd.read_csv(DATOS_DIR + 'CCPP.csv', sep= ',')\n",
    "\n",
    "X = data[['AT']].values   # solo la columna AT\n",
    "T = data['PE'].values\n",
    "\n",
    "# Usar los w_init y b_init como pide el enunciado\n",
    "modelos = [\n",
    "    (-2.00, 500),\n",
    "    (-2.21, 498),\n",
    "    (-2.30, 497),\n",
    "    (-2.22, 496.5),\n",
    "    (-2.16, 496.91),\n",
    "]\n",
    "\n",
    "neuronas = []\n",
    "for w,b in modelos:\n",
    "    neurona = NeuronaLineal(w_init=[w], b_init=b)\n",
    "    Y_pred = neurona.predict(X)\n",
    "    print(f'Error cuadratico medio neurona w={w}, b={b}: {np.mean((T - Y_pred)**2)}')\n"
   ]
  },
  {
   "cell_type": "markdown",
   "id": "88b742e3",
   "metadata": {},
   "source": [
    "La 2da y la 5ta neurona son las que poseen menor error cuadratico."
   ]
  }
 ],
 "metadata": {
  "kernelspec": {
   "display_name": "env",
   "language": "python",
   "name": "python3"
  },
  "language_info": {
   "codemirror_mode": {
    "name": "ipython",
    "version": 3
   },
   "file_extension": ".py",
   "mimetype": "text/x-python",
   "name": "python",
   "nbconvert_exporter": "python",
   "pygments_lexer": "ipython3",
   "version": "3.13.7"
  }
 },
 "nbformat": 4,
 "nbformat_minor": 5
}
