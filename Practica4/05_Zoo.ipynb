{
 "cells": [
  {
   "cell_type": "code",
   "execution_count": 3,
   "id": "9a81539d",
   "metadata": {},
   "outputs": [],
   "source": [
    "FUENTES_DIR = '../Fuentes'         # carpeta donde se encuentran archivos .py auxiliares\n",
    "DATOS_DIR   = '../Data_Sets/p2/' # carpeta donde se encuentran los datasets\n",
    "\n",
    "# agrega ruta de busqueda donde tenemos archivos .py\n",
    "import sys\n",
    "sys.path.append(FUENTES_DIR)\n",
    "\n",
    "%matplotlib inline\n",
    "import numpy as np\n",
    "import pandas as pd\n",
    "from matplotlib import pylab as plt\n",
    "from IPython import display\n",
    "from sklearn import preprocessing\n",
    "import grafica as gr\n",
    "from sklearn.preprocessing import StandardScaler\n",
    "from sklearn.model_selection import train_test_split\n",
    "from sklearn.neural_network import MLPClassifier"
   ]
  },
  {
   "cell_type": "markdown",
   "id": "622c6e07",
   "metadata": {},
   "source": [
    "## Ejercicio 5\n",
    "\n",
    "El archivo **ZOO.csv** contiene información de 101 animales caracterizados por los siguientes atributos:  \n",
    "\n",
    "<table style=\"border-collapse: collapse; text-align: left; margin: auto;\">\n",
    "  <tbody>\n",
    "    <tr>\n",
    "      <td>1. Nombre del animal</td>\n",
    "      <td>7. Acuático</td>\n",
    "      <td>13. Aletas</td>\n",
    "    </tr>\n",
    "    <tr>\n",
    "      <td>2. Tiene Pelo</td>\n",
    "      <td>8. Depredador</td>\n",
    "      <td>14. Patas</td>\n",
    "    </tr>\n",
    "    <tr>\n",
    "      <td>3. Plumas</td>\n",
    "      <td>9. Dentado</td>\n",
    "      <td>15. Cola</td>\n",
    "    </tr>\n",
    "    <tr>\n",
    "      <td>4. Huevos</td>\n",
    "      <td>10. Vertebrado</td>\n",
    "      <td>16. Domestico</td>\n",
    "    </tr>\n",
    "    <tr>\n",
    "      <td>5. Leche</td>\n",
    "      <td>11. Branquias</td>\n",
    "      <td>17. Tamaño gato</td>\n",
    "    </tr>\n",
    "    <tr>\n",
    "      <td>6. Vuela</td>\n",
    "      <td>12. Venenoso</td>\n",
    "      <td>18. Clase</td>\n",
    "    </tr>\n",
    "  </tbody>\n",
    "</table>\n",
    "\n",
    "\n",
    "\n",
    "Salvo los atributos 1 y 18 que contienen texto y el 14 que contiene el número de patas del animal, el resto toma el valor 1 si el animal posee la característica y 0 si no. Hay 7 valores de clase posible (atributo 18): mamífero, ave, pez, invertebrado, insecto, reptil y anfibio.  \n",
    "\n",
    "Entrene un multiperceptrón que sea capaz de clasificar un animal en una de las 7 clases. Utilice el 70% de los ejemplos para entrenar y el 30% para realizar el testeo. Realice al menos 10 ejecuciones independientes de la configuración seleccionada para respaldar sus afirmaciones referidas a la performance del modelo.  \n",
    "\n",
    "Fuente de Datos: **Zoo Data Set** - https://archive.ics.uci.edu/ml/datasets/zoo  "
   ]
  },
  {
   "cell_type": "code",
   "execution_count": 10,
   "id": "1ecf1c5f",
   "metadata": {},
   "outputs": [
    {
     "name": "stdout",
     "output_type": "stream",
     "text": [
      "Resultados en 10 corridas:\n",
      "Train -> Media = 0.9900, Desvío = 0.0170\n",
      "Test  -> Media = 0.9161, Desvío = 0.0504\n"
     ]
    }
   ],
   "source": [
    "data = pd.read_csv(DATOS_DIR + 'zoo.csv', sep=',', encoding='latin1')\n",
    "data.drop(['animal'], axis=1, inplace=True)\n",
    "\n",
    "X = data.iloc[:, :-1].values\n",
    "T = data.iloc[:, -1].values\n",
    "\n",
    "mapeo = { 'Mamifero':0, 'Ave':1, 'Pez':2, 'Invertebrado':3, 'Insecto':4, 'Reptil':5, 'Anfibio':6 }\n",
    "T = np.array([ mapeo[clase] for clase in T ])\n",
    "\n",
    "# Split fijo en train/test\n",
    "X_train, X_test, T_train, T_test = train_test_split(X, T, test_size=0.3, random_state=42)\n",
    "\n",
    "# Guardar resultados\n",
    "train_scores = []\n",
    "test_scores = []\n",
    "\n",
    "for seed in range(10):\n",
    "    clf = MLPClassifier(\n",
    "        solver='sgd',\n",
    "        learning_rate_init=0.01,\n",
    "        hidden_layer_sizes=(5,),\n",
    "        max_iter=2000,\n",
    "        tol=1e-4,\n",
    "        n_iter_no_change=20,\n",
    "        activation='tanh',\n",
    "        random_state=seed\n",
    "    )\n",
    "    clf.fit(X_train, T_train)\n",
    "    train_scores.append(clf.score(X_train, T_train))\n",
    "    test_scores.append(clf.score(X_test, T_test))\n",
    "\n",
    "print(\"Resultados en 10 corridas:\")\n",
    "print(\"Train -> Media = {:.4f}, Desvío = {:.4f}\".format(np.mean(train_scores), np.std(train_scores)))\n",
    "print(\"Test  -> Media = {:.4f}, Desvío = {:.4f}\".format(np.mean(test_scores), np.std(test_scores)))\n"
   ]
  }
 ],
 "metadata": {
  "kernelspec": {
   "display_name": "env",
   "language": "python",
   "name": "python3"
  },
  "language_info": {
   "codemirror_mode": {
    "name": "ipython",
    "version": 3
   },
   "file_extension": ".py",
   "mimetype": "text/x-python",
   "name": "python",
   "nbconvert_exporter": "python",
   "pygments_lexer": "ipython3",
   "version": "3.13.7"
  }
 },
 "nbformat": 4,
 "nbformat_minor": 5
}
