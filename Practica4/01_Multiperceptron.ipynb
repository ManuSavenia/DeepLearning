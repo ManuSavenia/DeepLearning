{
 "cells": [
  {
   "cell_type": "markdown",
   "id": "1e6e9d0b",
   "metadata": {},
   "source": [
    "# Parte 1 - Multiperceptrón con SciKit-Learn\n",
    "\n",
    "## Ejercicio 1\n",
    "\n",
    "Se entrenó una red neuronal multiperceptrón para resolver un problema de clasificación y al medir su desempeño sobre el conjunto de datos de entrenamiento se obtuvo la siguiente matriz de confusión: \n",
    "\n",
    "<div align=\"center\">\n",
    "\n",
    "<table border=\"1\" cellspacing=\"0\" cellpadding=\"5\">\n",
    "  <tr>\n",
    "    <td>17</td><td>0</td><td>1</td><td>0</td><td>1</td>\n",
    "  </tr>\n",
    "  <tr>\n",
    "    <td>0</td><td>12</td><td>0</td><td>0</td><td>0</td>\n",
    "  </tr>\n",
    "  <tr>\n",
    "    <td>0</td><td>0</td><td>12</td><td>0</td><td>0</td>\n",
    "  </tr>\n",
    "  <tr>\n",
    "    <td>2</td><td>0</td><td>0</td><td>38</td><td>0</td>\n",
    "  </tr>\n",
    "  <tr>\n",
    "    <td>0</td><td>8</td><td>0</td><td>0</td><td>61</td>\n",
    "  </tr>\n",
    "</table>\n",
    "\n",
    "</div>\n",
    "\n",
    "\n",
    "\n",
    "\n",
    "### a)\n",
    "\n",
    "En base a esta información, indique: \n",
    "\n",
    "- Cuántos ejemplos se utilizaron en el entrenamiento.  \n",
    "- Cuántas clases puede reconocer este multiperceptrón.  \n",
    "- Cuál es la precisión (**accuracy**) de la red sobre el conjunto de ejemplos completo.  \n",
    "- Cuáles son los valores de precisión de la red al responder por cada uno de los valores de clase (**precision**).  \n",
    "- Cuáles son los valores de sensibilidad de la red al responder por cada uno de los valores de clase (**recall**).  \n",
    "\n",
    "\n"
   ]
  },
  {
   "cell_type": "markdown",
   "id": "edacefdf",
   "metadata": {},
   "source": [
    "- Se utilizaron 152 ejemplos en el entrenamiento\n",
    "- Puede reconocer 5 clases\n",
    "- El accuracy es del: $\\frac{17+12+12+38+61}{152}$ = 92.11%\n",
    "- Precision:\n",
    "    Clase 1 = 17/19 = 89.47%\n",
    "\n",
    "    clase 2 = 60%\n",
    "\n",
    "    clase 3 = 92.31%\n",
    "\n",
    "    clase 4 = 100%\n",
    "\n",
    "    clase 5 = 98.39%\n",
    "- Recall:\n",
    "\n",
    "    Clase 1: 89.47%\n",
    "    \n",
    "    Clase 2: 100%\n",
    "    \n",
    "    Clase 3: 100%\n",
    "    \n",
    "    Clase 4: 95.00%\n",
    "    \n",
    "    Clase 5: 88.41%"
   ]
  },
  {
   "cell_type": "markdown",
   "id": "3f3a7dcf",
   "metadata": {},
   "source": [
    "### b)\n",
    "\n",
    "Identifique la clase con el mejor valor de F1-score.  "
   ]
  },
  {
   "cell_type": "markdown",
   "id": "b5e65d92",
   "metadata": {},
   "source": [
    "#calculamos F1-score de la matriz\n",
    "$F1_i​=​\\frac{2⋅Precision_i​⋅Recall_i​}{Precision_i​+Recall_i}​$\n",
    "\n",
    "\n",
    "$F1_1 = \\frac{2 \\cdot 0.8947 \\cdot 0.8947}{0.8947 + 0.8947} = 0.8947$\n",
    "\n",
    "$F1_2 = \\frac{2 \\cdot 0.6000 \\cdot 1.0000}{0.6000 + 1.0000} = 0.7500$\n",
    "\n",
    "$F1_3 = \\frac{2 \\cdot 0.9231 \\cdot 1.0000}{0.9231 + 1.0000} \\approx 0.9600$\n",
    "\n",
    "$F1_4 = \\frac{2 \\cdot 1.0000 \\cdot 0.9500}{1.0000 + 0.9500} \\approx 0.9744$\n",
    "\n",
    "$F1_5 = \\frac{2 \\cdot 0.9839 \\cdot 0.8841}{0.9839 + 0.8841} \\approx 0.9315$\n",
    "\n",
    "La clase 4 tiene mejor F1-score"
   ]
  }
 ],
 "metadata": {
  "kernelspec": {
   "display_name": "env",
   "language": "python",
   "name": "python3"
  },
  "language_info": {
   "codemirror_mode": {
    "name": "ipython",
    "version": 3
   },
   "file_extension": ".py",
   "mimetype": "text/x-python",
   "name": "python",
   "nbconvert_exporter": "python",
   "pygments_lexer": "ipython3",
   "version": "3.13.7"
  }
 },
 "nbformat": 4,
 "nbformat_minor": 5
}
