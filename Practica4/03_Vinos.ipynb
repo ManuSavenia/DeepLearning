{
 "cells": [
  {
   "cell_type": "code",
   "execution_count": 1,
   "id": "856f0c45",
   "metadata": {},
   "outputs": [],
   "source": [
    "FUENTES_DIR = '../Fuentes'         # carpeta donde se encuentran archivos .py auxiliares\n",
    "DATOS_DIR   = '../Data_Sets/p3/' # carpeta donde se encuentran los datasets\n",
    "\n",
    "# agrega ruta de busqueda donde tenemos archivos .py\n",
    "import sys\n",
    "sys.path.append(FUENTES_DIR)\n",
    "\n",
    "%matplotlib inline\n",
    "import numpy as np\n",
    "import pandas as pd\n",
    "from matplotlib import pylab as plt\n",
    "from IPython import display\n",
    "from sklearn import preprocessing\n",
    "import grafica as gr\n",
    "from sklearn.preprocessing import StandardScaler\n",
    "from sklearn.model_selection import train_test_split\n",
    "from sklearn.neural_network import MLPClassifier"
   ]
  },
  {
   "cell_type": "markdown",
   "id": "1b9dad72",
   "metadata": {},
   "source": [
    "## Ejercicio 3\n",
    "\n",
    "El archivo **Vinos.csv** tiene información referida a 13 características químicas y/o visuales de varias muestras de vinos pertenecientes a 3 clases distintas.  \n",
    "\n",
    "Utilice el 80% de los ejemplos del archivo Vinos.csv para entrenar un multiperceptrón que sea capaz que distinguir entre las 3 clases de vinos. Observe la tasa de acierto obtenida sobre el 20% restante.  \n",
    "\n",
    "Fuente de datos: **Wine Data Set** - https://archive.ics.uci.edu/ml/datasets/wine  "
   ]
  },
  {
   "cell_type": "code",
   "execution_count": 17,
   "id": "5948944f",
   "metadata": {},
   "outputs": [
    {
     "name": "stdout",
     "output_type": "stream",
     "text": [
      "Exactitud:  0.9929577464788732\n",
      "Exactitud Test:  0.9444444444444444\n"
     ]
    },
    {
     "name": "stderr",
     "output_type": "stream",
     "text": [
      "/home/manuel/Documents/Facultad/DeepLearning/env/lib/python3.13/site-packages/sklearn/neural_network/_multilayer_perceptron.py:781: ConvergenceWarning: Stochastic Optimizer: Maximum iterations (700) reached and the optimization hasn't converged yet.\n",
      "  warnings.warn(\n"
     ]
    }
   ],
   "source": [
    "data = pd.read_csv(DATOS_DIR + 'Vinos.csv', sep=';')\n",
    "#Divido en 80% datos train y 20% datos test\n",
    "X = data.iloc[:, 1:].values   # desde la segunda columna hasta el final\n",
    "T = data.iloc[:, 0].values    # la primera columna es la clase\n",
    "scaler = StandardScaler()\n",
    "X = scaler.fit_transform(X)\n",
    "\n",
    "X_train, X_test, T_train, T_test = train_test_split(X, T, test_size=0.2, random_state=42)\n",
    "clf = MLPClassifier( solver='sgd',\n",
    "learning_rate_init=0.01,\n",
    "hidden_layer_sizes=(5),\n",
    "max_iter=700, verbose=False,\n",
    "tol=1.0e-09, activation = 'tanh', random_state=1)\n",
    "clf.fit(X_train,T_train)\n",
    "y_pred= clf.predict(X_train)\n",
    "print(\"Exactitud: \", clf.score(X_train,T_train))\n",
    "y_pred_test= clf.predict(X_test)\n",
    "print(\"Exactitud Test: \", clf.score(X_test,T_test))"
   ]
  }
 ],
 "metadata": {
  "kernelspec": {
   "display_name": "env",
   "language": "python",
   "name": "python3"
  },
  "language_info": {
   "codemirror_mode": {
    "name": "ipython",
    "version": 3
   },
   "file_extension": ".py",
   "mimetype": "text/x-python",
   "name": "python",
   "nbconvert_exporter": "python",
   "pygments_lexer": "ipython3",
   "version": "3.13.7"
  }
 },
 "nbformat": 4,
 "nbformat_minor": 5
}
