{
 "cells": [
  {
   "cell_type": "code",
   "execution_count": 5,
   "id": "ddc390c3",
   "metadata": {},
   "outputs": [],
   "source": [
    "FUENTES_DIR = '../Fuentes'         # carpeta donde se encuentran archivos .py auxiliares\n",
    "DATOS_DIR   = '../Data_Sets/p4/' # carpeta donde se encuentran los datasets\n",
    "\n",
    "# agrega ruta de busqueda donde tenemos archivos .py\n",
    "import sys\n",
    "sys.path.append(FUENTES_DIR)\n",
    "\n",
    "%matplotlib inline\n",
    "import numpy as np\n",
    "import pandas as pd\n",
    "from matplotlib import pylab as plt\n",
    "from IPython import display\n",
    "from sklearn import preprocessing\n",
    "import grafica as gr\n",
    "from sklearn.preprocessing import StandardScaler\n",
    "from sklearn.model_selection import train_test_split\n",
    "import tensorflow as tf\n",
    "from tensorflow.keras.models import Sequential\n",
    "from tensorflow.keras.layers import Dense\n",
    "from sklearn import metrics\n",
    "import matplotlib.pyplot as plt\n",
    "from sklearn.metrics import confusion_matrix, ConfusionMatrixDisplay"
   ]
  },
  {
   "cell_type": "markdown",
   "id": "8a3abf80",
   "metadata": {},
   "source": [
    "# Parte 2 - Multiperceptrón con Tensorflow/Keras\n",
    "\n",
    "## Ejercicio 7\n",
    "\n",
    "Re-implemente el modelo del ejercicio 4 (Balance.csv) utilizando un Multiperceptrón Tensorflow/Keras.  \n"
   ]
  },
  {
   "cell_type": "code",
   "execution_count": 7,
   "id": "cd46f604",
   "metadata": {},
   "outputs": [
    {
     "name": "stderr",
     "output_type": "stream",
     "text": [
      "/home/manuel/Documents/Facultad/DeepLearning/env/lib/python3.13/site-packages/keras/src/layers/core/dense.py:92: UserWarning: Do not pass an `input_shape`/`input_dim` argument to a layer. When using Sequential models, prefer using an `Input(shape)` object as the first layer in the model instead.\n",
      "  super().__init__(activity_regularizer=activity_regularizer, **kwargs)\n"
     ]
    },
    {
     "name": "stdout",
     "output_type": "stream",
     "text": [
      "Exactitud Train: 0.928\n",
      "Exactitud Test : 0.888\n",
      "\u001b[1m16/16\u001b[0m \u001b[32m━━━━━━━━━━━━━━━━━━━━\u001b[0m\u001b[37m\u001b[0m \u001b[1m0s\u001b[0m 3ms/step \n",
      "\u001b[1m4/4\u001b[0m \u001b[32m━━━━━━━━━━━━━━━━━━━━\u001b[0m\u001b[37m\u001b[0m \u001b[1m0s\u001b[0m 5ms/step \n",
      "\n",
      "Matriz de confusión (Train):\n",
      " [[226   3   4]\n",
      " [ 14  20   4]\n",
      " [  4   7 218]]\n",
      "\n",
      "Matriz de confusión (Test):\n",
      " [[54  1  0]\n",
      " [ 5  6  0]\n",
      " [ 0  8 51]]\n"
     ]
    },
    {
     "data": {
      "image/png": "[encoded data removed]",
      "text/plain": [
       "<Figure size 1000x400 with 2 Axes>"
      ]
     },
     "metadata": {},
     "output_type": "display_data"
    },
    {
     "name": "stdout",
     "output_type": "stream",
     "text": [
      "\u001b[1m16/16\u001b[0m \u001b[32m━━━━━━━━━━━━━━━━━━━━\u001b[0m\u001b[37m\u001b[0m \u001b[1m0s\u001b[0m 2ms/step \n",
      "\u001b[1m4/4\u001b[0m \u001b[32m━━━━━━━━━━━━━━━━━━━━\u001b[0m\u001b[37m\u001b[0m \u001b[1m0s\u001b[0m 5ms/step \n",
      "\n",
      "Ejemplo de salidas softmax (primeras 5 en Train):\n",
      "[[0.00134268 0.02245674 0.9762006 ]\n",
      " [0.01142338 0.08383854 0.904738  ]\n",
      " [0.00488524 0.02249937 0.9726155 ]\n",
      " [0.20972884 0.41241392 0.3778572 ]\n",
      " [0.00245261 0.01320769 0.9843397 ]]\n",
      "\n",
      "Ejemplo de salidas softmax (primeras 5 en Test):\n",
      "[[9.9609140e-03 8.9342557e-02 9.0069652e-01]\n",
      " [9.9831426e-01 1.6624634e-03 2.3333025e-05]\n",
      " [9.1833520e-01 7.0904516e-02 1.0760366e-02]\n",
      " [3.2171011e-01 3.8868889e-01 2.8960103e-01]\n",
      " [9.9855334e-01 1.4314732e-03 1.5248868e-05]]\n"
     ]
    }
   ],
   "source": [
    "data = pd.read_csv(DATOS_DIR + 'Balance.csv', sep=',')\n",
    "\n",
    "# Separar variables y etiquetas\n",
    "X = data.iloc[:, 1:].values   # desde la segunda columna\n",
    "T = data.iloc[:, 0].values    # primera columna = clase\n",
    "\n",
    "# Mapear etiquetas (L,B,R) -> (0,1,2)\n",
    "mapeo = { 'L':0, 'B':1, 'R':2 }\n",
    "T = np.array([mapeo[clase] for clase in T])\n",
    "\n",
    "# Normalización Z-score\n",
    "scaler = StandardScaler()\n",
    "X = scaler.fit_transform(X)\n",
    "\n",
    "# División train-test\n",
    "X_train, X_test, T_train, T_test = train_test_split(X, T, test_size=0.2, random_state=42)\n",
    "\n",
    "# 2. Modelo Keras\n",
    "model = Sequential()\n",
    "model.add(Dense(5, input_dim=X_train.shape[1], activation='tanh'))  # capa oculta con 5 neuronas\n",
    "model.add(Dense(3, activation='softmax'))  # salida para 3 clases\n",
    "\n",
    "# Compilar modelo\n",
    "model.compile(optimizer=tf.keras.optimizers.SGD(learning_rate=0.01),\n",
    "              loss='sparse_categorical_crossentropy',\n",
    "              metrics=['accuracy'])\n",
    "\n",
    "# 3. Entrenamiento\n",
    "history = model.fit(X_train, T_train,batch_size=32,\n",
    "                    epochs=700,\n",
    "                    verbose=0,  # cambiar a 1 si querés ver la salida\n",
    "                    validation_data=(X_test, T_test))\n",
    "\n",
    "# 4. Evaluación\n",
    "train_loss, train_acc = model.evaluate(X_train, T_train, verbose=0)\n",
    "test_loss, test_acc = model.evaluate(X_test, T_test, verbose=0)\n",
    "\n",
    "print(f\"Exactitud Train: {train_acc:.3f}\")\n",
    "print(f\"Exactitud Test : {test_acc:.3f}\")\n",
    "\n",
    "y_pred_train = np.argmax(model.predict(X_train), axis=1)\n",
    "y_pred_test = np.argmax(model.predict(X_test), axis=1)\n",
    "\n",
    "# 6. Matriz de confusión\n",
    "\n",
    "cm_train = confusion_matrix(T_train, y_pred_train)\n",
    "cm_test = confusion_matrix(T_test, y_pred_test)\n",
    "\n",
    "print(\"\\nMatriz de confusión (Train):\\n\", cm_train)\n",
    "print(\"\\nMatriz de confusión (Test):\\n\", cm_test)\n",
    "\n",
    "# Dibujar matrices de confusión\n",
    "fig, ax = plt.subplots(1, 2, figsize=(10,4))\n",
    "ConfusionMatrixDisplay(cm_train, display_labels=['L','B','R']).plot(ax=ax[0], cmap=\"Blues\", colorbar=False)\n",
    "ax[0].set_title(\"Train\")\n",
    "\n",
    "ConfusionMatrixDisplay(cm_test, display_labels=['L','B','R']).plot(ax=ax[1], cmap=\"Blues\", colorbar=False)\n",
    "ax[1].set_title(\"Test\")\n",
    "\n",
    "plt.show()\n",
    "\n",
    "# 7. Salidas softmax\n",
    "\n",
    "softmax_train = model.predict(X_train)\n",
    "softmax_test = model.predict(X_test)\n",
    "\n",
    "print(\"\\nEjemplo de salidas softmax (primeras 5 en Train):\")\n",
    "print(softmax_train[:5])\n",
    "\n",
    "print(\"\\nEjemplo de salidas softmax (primeras 5 en Test):\")\n",
    "print(softmax_test[:5])\n",
    "\n"
   ]
  }
 ],
 "metadata": {
  "kernelspec": {
   "display_name": "env",
   "language": "python",
   "name": "python3"
  },
  "language_info": {
   "codemirror_mode": {
    "name": "ipython",
    "version": 3
   },
   "file_extension": ".py",
   "mimetype": "text/x-python",
   "name": "python",
   "nbconvert_exporter": "python",
   "pygments_lexer": "ipython3",
   "version": "3.13.7"
  }
 },
 "nbformat": 4,
 "nbformat_minor": 5
}
