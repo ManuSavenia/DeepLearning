{
 "cells": [
  {
   "cell_type": "code",
   "execution_count": 5,
   "id": "ddc390c3",
   "metadata": {},
   "outputs": [],
   "source": [
    "FUENTES_DIR = '../Fuentes'         # carpeta donde se encuentran archivos .py auxiliares\n",
    "DATOS_DIR   = '../Data_Sets/p4/' # carpeta donde se encuentran los datasets\n",
    "\n",
    "# agrega ruta de busqueda donde tenemos archivos .py\n",
    "import sys\n",
    "sys.path.append(FUENTES_DIR)\n",
    "\n",
    "%matplotlib inline\n",
    "import numpy as np\n",
    "import pandas as pd\n",
    "from matplotlib import pylab as plt\n",
    "from IPython import display\n",
    "from sklearn import preprocessing\n",
    "import grafica as gr\n",
    "from sklearn.preprocessing import StandardScaler\n",
    "from sklearn.model_selection import train_test_split\n",
    "import tensorflow as tf\n",
    "from tensorflow.keras.models import Sequential\n",
    "from tensorflow.keras.layers import Dense\n",
    "from sklearn import metrics\n",
    "import matplotlib.pyplot as plt\n",
    "from sklearn.metrics import confusion_matrix, ConfusionMatrixDisplay"
   ]
  },
  {
   "cell_type": "markdown",
   "id": "8a3abf80",
   "metadata": {},
   "source": [
    "# Parte 2 - Multiperceptrón con Tensorflow/Keras\n",
    "\n",
    "## Ejercicio 7\n",
    "\n",
    "Re-implemente el modelo del ejercicio 4 (Balance.csv) utilizando un Multiperceptrón Tensorflow/Keras.  \n"
   ]
  },
  {
   "cell_type": "code",
   "execution_count": 12,
   "id": "cd46f604",
   "metadata": {},
   "outputs": [
    {
     "name": "stderr",
     "output_type": "stream",
     "text": [
      "/home/manuel/Documents/Facultad/DeepLearning/env/lib/python3.13/site-packages/keras/src/layers/core/dense.py:92: UserWarning: Do not pass an `input_shape`/`input_dim` argument to a layer. When using Sequential models, prefer using an `Input(shape)` object as the first layer in the model instead.\n",
      "  super().__init__(activity_regularizer=activity_regularizer, **kwargs)\n"
     ]
    },
    {
     "name": "stdout",
     "output_type": "stream",
     "text": [
      "Exactitud Train: 0.960\n",
      "Exactitud Test : 0.944\n",
      "\u001b[1m16/16\u001b[0m \u001b[32m━━━━━━━━━━━━━━━━━━━━\u001b[0m\u001b[37m\u001b[0m \u001b[1m0s\u001b[0m 3ms/step \n",
      "\u001b[1m4/4\u001b[0m \u001b[32m━━━━━━━━━━━━━━━━━━━━\u001b[0m\u001b[37m\u001b[0m \u001b[1m0s\u001b[0m 6ms/step \n",
      "\n",
      "Matriz de confusión (Train):\n",
      " [[229   1   3]\n",
      " [  5  26   7]\n",
      " [  4   0 225]]\n",
      "\n",
      "Matriz de confusión (Test):\n",
      " [[55  0  0]\n",
      " [ 6  4  1]\n",
      " [ 0  0 59]]\n"
     ]
    },
    {
     "data": {
      "image/png": "[encoded data removed]",
      "text/plain": [
       "<Figure size 1000x400 with 2 Axes>"
      ]
     },
     "metadata": {},
     "output_type": "display_data"
    },
    {
     "name": "stdout",
     "output_type": "stream",
     "text": [
      "\u001b[1m16/16\u001b[0m \u001b[32m━━━━━━━━━━━━━━━━━━━━\u001b[0m\u001b[37m\u001b[0m \u001b[1m0s\u001b[0m 2ms/step \n",
      "\u001b[1m4/4\u001b[0m \u001b[32m━━━━━━━━━━━━━━━━━━━━\u001b[0m\u001b[37m\u001b[0m \u001b[1m0s\u001b[0m 6ms/step \n",
      "\n",
      "Ejemplo de salidas softmax (primeras 5 en Train):\n",
      "[[9.7011798e-05 1.3686926e-02 9.8621607e-01]\n",
      " [4.7345627e-03 1.3333708e-01 8.6192834e-01]\n",
      " [1.2575957e-04 1.4522486e-02 9.8535174e-01]\n",
      " [4.6831536e-01 2.6105171e-01 2.7063295e-01]\n",
      " [1.1620599e-04 1.0028485e-02 9.8985529e-01]]\n",
      "\n",
      "Ejemplo de salidas softmax (primeras 5 en Test):\n",
      "[[1.2240753e-02 1.8468639e-01 8.0307293e-01]\n",
      " [9.9989510e-01 1.0494790e-04 9.1651264e-09]\n",
      " [9.4358146e-01 5.3624824e-02 2.7938059e-03]\n",
      " [1.2975848e-01 2.7543741e-01 5.9480417e-01]\n",
      " [9.9995804e-01 4.1962816e-05 1.0669329e-09]]\n"
     ]
    }
   ],
   "source": [
    "data = pd.read_csv(DATOS_DIR + 'Balance.csv', sep=',')\n",
    "\n",
    "# Separar variables y etiquetas\n",
    "X = data.iloc[:, 1:].values   # desde la segunda columna\n",
    "T = data.iloc[:, 0].values    # primera columna = clase\n",
    "\n",
    "# Mapear etiquetas (L,B,R) -> (0,1,2)\n",
    "mapeo = { 'L':0, 'B':1, 'R':2 }\n",
    "T = np.array([mapeo[clase] for clase in T])\n",
    "\n",
    "# Normalización Z-score\n",
    "scaler = StandardScaler()\n",
    "X = scaler.fit_transform(X)\n",
    "\n",
    "# División train-test\n",
    "X_train, X_test, T_train, T_test = train_test_split(X, T, test_size=0.2, random_state=42)\n",
    "\n",
    "# 2. Modelo Keras\n",
    "model = Sequential()\n",
    "model.add(Dense(20, input_dim=X_train.shape[1], activation='tanh'))  # capa oculta con 5 neuronas\n",
    "model.add(Dense(3, activation='softmax'))  # salida para 3 clases\n",
    "\n",
    "# Compilar modelo\n",
    "model.compile(optimizer=tf.keras.optimizers.SGD(learning_rate=0.01),\n",
    "              loss='sparse_categorical_crossentropy',\n",
    "              metrics=['accuracy'])\n",
    "\n",
    "# 3. Entrenamiento\n",
    "history = model.fit(X_train, T_train,batch_size=32,\n",
    "                    epochs=800,\n",
    "                    verbose=0,  # cambiar a 1 si querés ver la salida\n",
    "                    validation_data=(X_test, T_test))\n",
    "\n",
    "# 4. Evaluación\n",
    "train_loss, train_acc = model.evaluate(X_train, T_train, verbose=0)\n",
    "test_loss, test_acc = model.evaluate(X_test, T_test, verbose=0)\n",
    "\n",
    "print(f\"Exactitud Train: {train_acc:.3f}\")\n",
    "print(f\"Exactitud Test : {test_acc:.3f}\")\n",
    "\n",
    "y_pred_train = np.argmax(model.predict(X_train), axis=1)\n",
    "y_pred_test = np.argmax(model.predict(X_test), axis=1)\n",
    "\n",
    "# 6. Matriz de confusión\n",
    "\n",
    "cm_train = confusion_matrix(T_train, y_pred_train)\n",
    "cm_test = confusion_matrix(T_test, y_pred_test)\n",
    "\n",
    "print(\"\\nMatriz de confusión (Train):\\n\", cm_train)\n",
    "print(\"\\nMatriz de confusión (Test):\\n\", cm_test)\n",
    "\n",
    "# Dibujar matrices de confusión\n",
    "fig, ax = plt.subplots(1, 2, figsize=(10,4))\n",
    "ConfusionMatrixDisplay(cm_train, display_labels=['L','B','R']).plot(ax=ax[0], cmap=\"Blues\", colorbar=False)\n",
    "ax[0].set_title(\"Train\")\n",
    "\n",
    "ConfusionMatrixDisplay(cm_test, display_labels=['L','B','R']).plot(ax=ax[1], cmap=\"Blues\", colorbar=False)\n",
    "ax[1].set_title(\"Test\")\n",
    "\n",
    "plt.show()\n",
    "\n",
    "# 7. Salidas softmax\n",
    "\n",
    "softmax_train = model.predict(X_train)\n",
    "softmax_test = model.predict(X_test)\n",
    "\n",
    "print(\"\\nEjemplo de salidas softmax (primeras 5 en Train):\")\n",
    "print(softmax_train[:5])\n",
    "\n",
    "print(\"\\nEjemplo de salidas softmax (primeras 5 en Test):\")\n",
    "print(softmax_test[:5])\n",
    "\n"
   ]
  }
 ],
 "metadata": {
  "kernelspec": {
   "display_name": "env",
   "language": "python",
   "name": "python3"
  },
  "language_info": {
   "codemirror_mode": {
    "name": "ipython",
    "version": 3
   },
   "file_extension": ".py",
   "mimetype": "text/x-python",
   "name": "python",
   "nbconvert_exporter": "python",
   "pygments_lexer": "ipython3",
   "version": "3.13.7"
  }
 },
 "nbformat": 4,
 "nbformat_minor": 5
}
