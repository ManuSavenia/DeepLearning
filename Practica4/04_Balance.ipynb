{
 "cells": [
  {
   "cell_type": "code",
   "execution_count": 2,
   "id": "39e1b943",
   "metadata": {},
   "outputs": [],
   "source": [
    "FUENTES_DIR = '../Fuentes'         # carpeta donde se encuentran archivos .py auxiliares\n",
    "DATOS_DIR   = '../Data_Sets/p4/' # carpeta donde se encuentran los datasets\n",
    "\n",
    "# agrega ruta de busqueda donde tenemos archivos .py\n",
    "import sys\n",
    "sys.path.append(FUENTES_DIR)\n",
    "\n",
    "%matplotlib inline\n",
    "import numpy as np\n",
    "import pandas as pd\n",
    "from matplotlib import pylab as plt\n",
    "from IPython import display\n",
    "from sklearn import preprocessing\n",
    "import grafica as gr\n",
    "from sklearn.preprocessing import StandardScaler\n",
    "from sklearn.model_selection import train_test_split\n",
    "from sklearn.neural_network import MLPClassifier"
   ]
  },
  {
   "cell_type": "markdown",
   "id": "4a5dcfb2",
   "metadata": {},
   "source": [
    "## Ejercicio 4\n",
    "\n",
    "El archivo **Balance.csv** tiene información sobre un experimento psicológico realizado para evaluar el aprendizaje en los niños. Cada fila de la tabla tiene las características de una balanza, referidas a la longitud de los brazos izquierdo y derecho de la balanza y al peso que hay en cada brazo, y un atributo que indica si \n",
    "la balanza se inclina al lado izquierdo (**L**), derecho (**R**), o está balanceada (**B**).  \n",
    "\n",
    "Utilice una parte de los ejemplos para entrenar un multiperceptrón que sea capaz que predecir si la balanza está inclinada a derecha, a izquierda o si está balanceada. Analice la precisión de la red sobre los ejemplos de entrenamiento y sobre los de testeo.  \n",
    "\n",
    "Fuente: **Balance Scale Data Set** - https://archive.ics.uci.edu/ml/datasets/Balance+Scale  \n"
   ]
  },
  {
   "cell_type": "code",
   "execution_count": 3,
   "id": "dac7f2e2",
   "metadata": {},
   "outputs": [
    {
     "name": "stdout",
     "output_type": "stream",
     "text": [
      "Exactitud:  0.97\n",
      "Exactitud Test:  0.952\n"
     ]
    },
    {
     "name": "stderr",
     "output_type": "stream",
     "text": [
      "/home/manuel/Documents/Facultad/DeepLearning/env/lib/python3.13/site-packages/sklearn/neural_network/_multilayer_perceptron.py:781: ConvergenceWarning: Stochastic Optimizer: Maximum iterations (700) reached and the optimization hasn't converged yet.\n",
      "  warnings.warn(\n"
     ]
    }
   ],
   "source": [
    "data = pd.read_csv(DATOS_DIR + 'Balance.csv', sep=',')\n",
    "#Divido en 80% datos train y 20% datos test\n",
    "X = data.iloc[:, 1:].values   # desde la segunda columna hasta el final\n",
    "T = data.iloc[:, 0].values    # la primera columna es la clase\n",
    "mapeo = { 'L':0, 'B':1, 'R':2 }\n",
    "T = np.array( [ mapeo[clase] for clase in T ] )\n",
    "scaler = StandardScaler()\n",
    "X = scaler.fit_transform(X)\n",
    "\n",
    "X_train, X_test, T_train, T_test = train_test_split(X, T, test_size=0.2, random_state=42)\n",
    "clf = MLPClassifier( solver='sgd',\n",
    "learning_rate_init=0.01,\n",
    "hidden_layer_sizes=(5),\n",
    "max_iter=700, verbose=False,\n",
    "tol=1.0e-09, activation = 'tanh', random_state=1)\n",
    "clf.fit(X_train,T_train)\n",
    "y_pred= clf.predict(X_train)\n",
    "print(\"Exactitud: \", clf.score(X_train,T_train))\n",
    "y_pred_test= clf.predict(X_test)\n",
    "print(\"Exactitud Test: \", clf.score(X_test,T_test))"
   ]
  }
 ],
 "metadata": {
  "kernelspec": {
   "display_name": "env",
   "language": "python",
   "name": "python3"
  },
  "language_info": {
   "codemirror_mode": {
    "name": "ipython",
    "version": 3
   },
   "file_extension": ".py",
   "mimetype": "text/x-python",
   "name": "python",
   "nbconvert_exporter": "python",
   "pygments_lexer": "ipython3",
   "version": "3.13.7"
  }
 },
 "nbformat": 4,
 "nbformat_minor": 5
}
