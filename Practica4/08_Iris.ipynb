{
 "cells": [
  {
   "cell_type": "code",
   "execution_count": 6,
   "id": "1f5303a8",
   "metadata": {},
   "outputs": [],
   "source": [
    "FUENTES_DIR = '../Fuentes'         # carpeta donde se encuentran archivos .py auxiliares\n",
    "DATOS_DIR   = '../Data_Sets/p4/' # carpeta donde se encuentran los datasets\n",
    "\n",
    "# agrega ruta de busqueda donde tenemos archivos .py\n",
    "import sys\n",
    "sys.path.append(FUENTES_DIR)\n",
    "\n",
    "%matplotlib inline\n",
    "import numpy as np\n",
    "import pandas as pd\n",
    "from matplotlib import pylab as plt\n",
    "from IPython import display\n",
    "from sklearn import preprocessing\n",
    "import grafica as gr\n",
    "from sklearn.preprocessing import StandardScaler\n",
    "from sklearn.preprocessing import LabelBinarizer\n",
    "from sklearn.model_selection import train_test_split\n",
    "import tensorflow as tf\n",
    "from keras.models import Model\n",
    "from tensorflow.keras.models import Sequential\n",
    "from keras.layers import Dense, Input\n",
    "from sklearn import metrics\n",
    "from keras.optimizers import SGD"
   ]
  },
  {
   "cell_type": "markdown",
   "id": "e7376a9e",
   "metadata": {},
   "source": [
    "## Ejercicio 8\n",
    "\n",
    "Utilizando el archivo **Iris.csv** que contiene información referida a la longitud y al ancho de sépalos y pétalos de tres especies de flores: *iris setosa*, *iris versicolor* e *iris virginica*.  \n",
    "\n",
    "### a)\n",
    "\n",
    "Entrenar una multiperceptrón que aprenda a clasificar las 3 clases de flores.  \n"
   ]
  },
  {
   "cell_type": "code",
   "execution_count": 10,
   "id": "e63337a6",
   "metadata": {},
   "outputs": [
    {
     "data": {
      "text/html": [
       "<pre style=\"white-space:pre;overflow-x:auto;line-height:normal;font-family:Menlo,'DejaVu Sans Mono',consolas,'Courier New',monospace\"><span style=\"font-weight: bold\">Model: \"functional_1\"</span>\n",
       "</pre>\n"
      ],
      "text/plain": [
       "\u001b[1mModel: \"functional_1\"\u001b[0m\n"
      ]
     },
     "metadata": {},
     "output_type": "display_data"
    },
    {
     "data": {
      "text/html": [
       "<pre style=\"white-space:pre;overflow-x:auto;line-height:normal;font-family:Menlo,'DejaVu Sans Mono',consolas,'Courier New',monospace\">┏━━━━━━━━━━━━━━━━━━━━━━━━━━━━━━━━━┳━━━━━━━━━━━━━━━━━━━━━━━━┳━━━━━━━━━━━━━━━┓\n",
       "┃<span style=\"font-weight: bold\"> Layer (type)                    </span>┃<span style=\"font-weight: bold\"> Output Shape           </span>┃<span style=\"font-weight: bold\">       Param # </span>┃\n",
       "┡━━━━━━━━━━━━━━━━━━━━━━━━━━━━━━━━━╇━━━━━━━━━━━━━━━━━━━━━━━━╇━━━━━━━━━━━━━━━┩\n",
       "│ entrada (<span style=\"color: #0087ff; text-decoration-color: #0087ff\">InputLayer</span>)            │ (<span style=\"color: #00d7ff; text-decoration-color: #00d7ff\">None</span>, <span style=\"color: #00af00; text-decoration-color: #00af00\">4</span>)              │             <span style=\"color: #00af00; text-decoration-color: #00af00\">0</span> │\n",
       "├─────────────────────────────────┼────────────────────────┼───────────────┤\n",
       "│ Oculta (<span style=\"color: #0087ff; text-decoration-color: #0087ff\">Dense</span>)                  │ (<span style=\"color: #00d7ff; text-decoration-color: #00d7ff\">None</span>, <span style=\"color: #00af00; text-decoration-color: #00af00\">2</span>)              │            <span style=\"color: #00af00; text-decoration-color: #00af00\">10</span> │\n",
       "├─────────────────────────────────┼────────────────────────┼───────────────┤\n",
       "│ salida (<span style=\"color: #0087ff; text-decoration-color: #0087ff\">Dense</span>)                  │ (<span style=\"color: #00d7ff; text-decoration-color: #00d7ff\">None</span>, <span style=\"color: #00af00; text-decoration-color: #00af00\">3</span>)              │             <span style=\"color: #00af00; text-decoration-color: #00af00\">9</span> │\n",
       "└─────────────────────────────────┴────────────────────────┴───────────────┘\n",
       "</pre>\n"
      ],
      "text/plain": [
       "┏━━━━━━━━━━━━━━━━━━━━━━━━━━━━━━━━━┳━━━━━━━━━━━━━━━━━━━━━━━━┳━━━━━━━━━━━━━━━┓\n",
       "┃\u001b[1m \u001b[0m\u001b[1mLayer (type)                   \u001b[0m\u001b[1m \u001b[0m┃\u001b[1m \u001b[0m\u001b[1mOutput Shape          \u001b[0m\u001b[1m \u001b[0m┃\u001b[1m \u001b[0m\u001b[1m      Param #\u001b[0m\u001b[1m \u001b[0m┃\n",
       "┡━━━━━━━━━━━━━━━━━━━━━━━━━━━━━━━━━╇━━━━━━━━━━━━━━━━━━━━━━━━╇━━━━━━━━━━━━━━━┩\n",
       "│ entrada (\u001b[38;5;33mInputLayer\u001b[0m)            │ (\u001b[38;5;45mNone\u001b[0m, \u001b[38;5;34m4\u001b[0m)              │             \u001b[38;5;34m0\u001b[0m │\n",
       "├─────────────────────────────────┼────────────────────────┼───────────────┤\n",
       "│ Oculta (\u001b[38;5;33mDense\u001b[0m)                  │ (\u001b[38;5;45mNone\u001b[0m, \u001b[38;5;34m2\u001b[0m)              │            \u001b[38;5;34m10\u001b[0m │\n",
       "├─────────────────────────────────┼────────────────────────┼───────────────┤\n",
       "│ salida (\u001b[38;5;33mDense\u001b[0m)                  │ (\u001b[38;5;45mNone\u001b[0m, \u001b[38;5;34m3\u001b[0m)              │             \u001b[38;5;34m9\u001b[0m │\n",
       "└─────────────────────────────────┴────────────────────────┴───────────────┘\n"
      ]
     },
     "metadata": {},
     "output_type": "display_data"
    },
    {
     "data": {
      "text/html": [
       "<pre style=\"white-space:pre;overflow-x:auto;line-height:normal;font-family:Menlo,'DejaVu Sans Mono',consolas,'Courier New',monospace\"><span style=\"font-weight: bold\"> Total params: </span><span style=\"color: #00af00; text-decoration-color: #00af00\">19</span> (76.00 B)\n",
       "</pre>\n"
      ],
      "text/plain": [
       "\u001b[1m Total params: \u001b[0m\u001b[38;5;34m19\u001b[0m (76.00 B)\n"
      ]
     },
     "metadata": {},
     "output_type": "display_data"
    },
    {
     "data": {
      "text/html": [
       "<pre style=\"white-space:pre;overflow-x:auto;line-height:normal;font-family:Menlo,'DejaVu Sans Mono',consolas,'Courier New',monospace\"><span style=\"font-weight: bold\"> Trainable params: </span><span style=\"color: #00af00; text-decoration-color: #00af00\">19</span> (76.00 B)\n",
       "</pre>\n"
      ],
      "text/plain": [
       "\u001b[1m Trainable params: \u001b[0m\u001b[38;5;34m19\u001b[0m (76.00 B)\n"
      ]
     },
     "metadata": {},
     "output_type": "display_data"
    },
    {
     "data": {
      "text/html": [
       "<pre style=\"white-space:pre;overflow-x:auto;line-height:normal;font-family:Menlo,'DejaVu Sans Mono',consolas,'Courier New',monospace\"><span style=\"font-weight: bold\"> Non-trainable params: </span><span style=\"color: #00af00; text-decoration-color: #00af00\">0</span> (0.00 B)\n",
       "</pre>\n"
      ],
      "text/plain": [
       "\u001b[1m Non-trainable params: \u001b[0m\u001b[38;5;34m0\u001b[0m (0.00 B)\n"
      ]
     },
     "metadata": {},
     "output_type": "display_data"
    },
    {
     "data": {
      "text/plain": [
       "<keras.src.callbacks.history.History at 0x7fb4fc3442f0>"
      ]
     },
     "execution_count": 10,
     "metadata": {},
     "output_type": "execute_result"
    }
   ],
   "source": [
    "ALPHA = 0.1\n",
    "LOSS = 'categorical_crossentropy'\n",
    "EPOCHS = 100\n",
    "BATCH = 5\n",
    "#----------------------------------------------\n",
    "data = pd.read_csv(DATOS_DIR + 'Iris.csv')\n",
    "X = data.iloc[:,0:4].values\n",
    "T = data.iloc[:,4].values\n",
    "X_train, X_test, T_train, T_test = train_test_split(X, T, test_size=0.2, random_state=42)\n",
    "binarizer = preprocessing.LabelBinarizer()\n",
    "T_train = binarizer.fit_transform(T_train)\n",
    "T_test = binarizer.transform(T_test)\n",
    "#----------------------------------------------\n",
    "X_train = StandardScaler().fit_transform(X_train)\n",
    "X_test = StandardScaler().fit_transform(X_test)\n",
    "#----------------------------------------------\n",
    "I = Input(shape=(4,), name='entrada')\n",
    "oculta = Dense(units=2, activation='tanh',name='Oculta')\n",
    "salida = Dense(units=3, activation='softmax', name='salida')\n",
    "red = salida(oculta(I))\n",
    "model = Model(inputs=I, outputs = red)\n",
    "model.summary()\n",
    "model.compile(optimizer=SGD(learning_rate=ALPHA), loss=LOSS,metrics=['accuracy'])\n",
    "#----------------------------------------------\n",
    "model.fit(X_train, T_train, epochs=EPOCHS, batch_size=BATCH, verbose=0)\n"
   ]
  },
  {
   "cell_type": "markdown",
   "id": "49106d47",
   "metadata": {},
   "source": [
    "### b)\n",
    "\n",
    "Utilice Python para calcular la matriz de confusión y calcule de forma manual las métricas de **precision**, **recall**, **accuracy** y **f1-score**. Luego utilice la función **classification_report** de SciKit-Learn para comparar los resultados."
   ]
  },
  {
   "cell_type": "code",
   "execution_count": 19,
   "id": "6287e3f4",
   "metadata": {},
   "outputs": [
    {
     "name": "stdout",
     "output_type": "stream",
     "text": [
      "\u001b[1m4/4\u001b[0m \u001b[32m━━━━━━━━━━━━━━━━━━━━\u001b[0m\u001b[37m\u001b[0m \u001b[1m0s\u001b[0m 4ms/step \n",
      "% aciertos train: 0.983\n",
      "\u001b[1m1/1\u001b[0m \u001b[32m━━━━━━━━━━━━━━━━━━━━\u001b[0m\u001b[37m\u001b[0m \u001b[1m0s\u001b[0m 24ms/step\n",
      "% aciertos test: 0.967\n"
     ]
    },
    {
     "data": {
      "image/png": "[encoded data removed]",
      "text/plain": [
       "<Figure size 640x480 with 2 Axes>"
      ]
     },
     "metadata": {},
     "output_type": "display_data"
    },
    {
     "name": "stdout",
     "output_type": "stream",
     "text": [
      "% aciertos (sklearn): 0.967\n",
      "Recall por clase: [1.         1.         0.90909091]\n",
      "Precision por clase: [1.  0.9 1. ]\n",
      "F1-score por clase: [1.         0.94736842 0.95238095]\n",
      "% aciertos (sin sklearn): 0.967\n",
      "Recall por clase: [1.         1.         0.90909091]\n",
      "Precision por clase: [1.  0.9 1. ]\n",
      "F1-score por clase: [1.         0.94736842 0.95238095]\n"
     ]
    }
   ],
   "source": [
    "Y_train = model.predict(X_train)\n",
    "T_str = binarizer.inverse_transform(T_train)\n",
    "Y_str = binarizer.inverse_transform(Y_train)\n",
    "print(\"%% aciertos train: %.3f\" % metrics.accuracy_score(T_str, Y_str))\n",
    "\n",
    "Y_test = model.predict(X_test)\n",
    "T_str = binarizer.inverse_transform(T_test)\n",
    "Y_str = binarizer.inverse_transform(Y_test)\n",
    "print(\"%% aciertos test: %.3f\" % metrics.accuracy_score(T_str, Y_str))\n",
    "#---------------------------------------------- \n",
    "#Calcuamos la matriz de confusion\n",
    "cm = metrics.confusion_matrix(T_str, Y_str)\n",
    "disp = metrics.ConfusionMatrixDisplay(confusion_matrix=cm, display_labels=binarizer.classes_)\n",
    "disp.plot(cmap=plt.cm.Blues)\n",
    "plt.show()\n",
    "accuracy = metrics.accuracy_score(T_str, Y_str)\n",
    "print(\"%% aciertos (sklearn): %.3f\" % accuracy)\n",
    "recall = metrics.recall_score(T_str, Y_str, average=None)\n",
    "precision = metrics.precision_score(T_str, Y_str, average=None)\n",
    "f1_score = metrics.f1_score(T_str, Y_str, average=None)\n",
    "print(\"Recall por clase:\", recall)\n",
    "print(\"Precision por clase:\", precision)\n",
    "print(\"F1-score por clase:\", f1_score)\n",
    "#----------------------------------------------\n",
    "#Calculamos sin usar sklearn\n",
    "def confusion_matrix(T, Y):\n",
    "    n = T.shape[0]\n",
    "    num_classes = T.shape[1]\n",
    "    cm = np.zeros((num_classes, num_classes), dtype=int)\n",
    "    for i in range(n):\n",
    "        true_class = np.argmax(T[i])\n",
    "        predicted_class = np.argmax(Y[i])\n",
    "        cm[true_class, predicted_class] += 1\n",
    "    return cm\n",
    "accuracy = np.trace(cm) / np.sum(cm)\n",
    "print(\"%% aciertos (sin sklearn): %.3f\" % accuracy)\n",
    "recall = np.diag(cm) / np.sum(cm, axis=1)\n",
    "precision = np.diag(cm) / np.sum(cm, axis=0)\n",
    "f1_score = 2 * (precision * recall) / (precision + recall)\n",
    "print(\"Recall por clase:\", recall)\n",
    "print(\"Precision por clase:\", precision)\n",
    "print(\"F1-score por clase:\", f1_score)"
   ]
  }
 ],
 "metadata": {
  "kernelspec": {
   "display_name": "env",
   "language": "python",
   "name": "python3"
  },
  "language_info": {
   "codemirror_mode": {
    "name": "ipython",
    "version": 3
   },
   "file_extension": ".py",
   "mimetype": "text/x-python",
   "name": "python",
   "nbconvert_exporter": "python",
   "pygments_lexer": "ipython3",
   "version": "3.13.7"
  }
 },
 "nbformat": 4,
 "nbformat_minor": 5
}
